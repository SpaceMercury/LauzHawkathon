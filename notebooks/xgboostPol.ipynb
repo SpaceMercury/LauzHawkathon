{
 "cells": [
  {
   "metadata": {
    "ExecuteTime": {
     "end_time": "2024-12-01T00:30:01.507815Z",
     "start_time": "2024-12-01T00:30:01.503739Z"
    }
   },
   "cell_type": "code",
   "source": [
    "import pandas as pd\n",
    "import numpy as np\n",
    "import seaborn as sns\n",
    "from prophet import Prophet \n",
    "from prophet.plot import plot_cross_validation_metric\n",
    "from prophet.diagnostics import performance_metrics, cross_validation"
   ],
   "id": "db4c9da0f7950bbd",
   "outputs": [],
   "execution_count": 25
  },
  {
   "metadata": {
    "ExecuteTime": {
     "end_time": "2024-12-01T00:32:10.629464Z",
     "start_time": "2024-12-01T00:32:10.620499Z"
    }
   },
   "cell_type": "code",
   "source": [
    "\n",
    "\n",
    "df = pd.read_csv('../clean_data/ex_factory_vols.csv')\n",
    "\n",
    "df.info()\n"
   ],
   "id": "db5e34d8cbbbd7eb",
   "outputs": [
    {
     "name": "stdout",
     "output_type": "stream",
     "text": [
      "<class 'pandas.core.frame.DataFrame'>\n",
      "RangeIndex: 51 entries, 0 to 50\n",
      "Data columns (total 6 columns):\n",
      " #   Column     Non-Null Count  Dtype  \n",
      "---  ------     --------------  -----  \n",
      " 0   Country    51 non-null     object \n",
      " 1   Data type  51 non-null     object \n",
      " 2   Measure    51 non-null     object \n",
      " 3   Product    51 non-null     object \n",
      " 4   Date       51 non-null     object \n",
      " 5   Value      51 non-null     float64\n",
      "dtypes: float64(1), object(5)\n",
      "memory usage: 2.5+ KB\n"
     ]
    }
   ],
   "execution_count": 47
  },
  {
   "metadata": {
    "ExecuteTime": {
     "end_time": "2024-12-01T00:32:11.254579Z",
     "start_time": "2024-12-01T00:32:11.252506Z"
    }
   },
   "cell_type": "code",
   "source": "",
   "id": "4d287f4393191f96",
   "outputs": [],
   "execution_count": null
  },
  {
   "metadata": {
    "ExecuteTime": {
     "end_time": "2024-12-01T00:32:11.626739Z",
     "start_time": "2024-12-01T00:32:11.623684Z"
    }
   },
   "cell_type": "code",
   "source": "df.index.min(), df.index.max()\n",
   "id": "a02df969fe21e163",
   "outputs": [
    {
     "data": {
      "text/plain": [
       "(0, 50)"
      ]
     },
     "execution_count": 48,
     "metadata": {},
     "output_type": "execute_result"
    }
   ],
   "execution_count": 48
  },
  {
   "metadata": {
    "ExecuteTime": {
     "end_time": "2024-12-01T00:32:12.105742Z",
     "start_time": "2024-12-01T00:32:12.103968Z"
    }
   },
   "cell_type": "code",
   "source": "",
   "id": "b8935ed2aa988d1e",
   "outputs": [],
   "execution_count": null
  },
  {
   "metadata": {
    "ExecuteTime": {
     "end_time": "2024-12-01T00:32:12.510665Z",
     "start_time": "2024-12-01T00:32:12.504370Z"
    }
   },
   "cell_type": "code",
   "source": [
    "# Preparing the data\n",
    "uni_data = df.reset_index()[['Date', 'Value']]\n",
    "uni_data = uni_data.rename(columns={'Date': 'ds', 'Value': 'y'})\n",
    "\n",
    "uni_data.info()\n"
   ],
   "id": "d752ecd882c7f8a",
   "outputs": [
    {
     "name": "stdout",
     "output_type": "stream",
     "text": [
      "<class 'pandas.core.frame.DataFrame'>\n",
      "RangeIndex: 51 entries, 0 to 50\n",
      "Data columns (total 2 columns):\n",
      " #   Column  Non-Null Count  Dtype  \n",
      "---  ------  --------------  -----  \n",
      " 0   ds      51 non-null     object \n",
      " 1   y       51 non-null     float64\n",
      "dtypes: float64(1), object(1)\n",
      "memory usage: 948.0+ bytes\n"
     ]
    }
   ],
   "execution_count": 49
  },
  {
   "metadata": {
    "ExecuteTime": {
     "end_time": "2024-12-01T00:32:13.855091Z",
     "start_time": "2024-12-01T00:32:13.851554Z"
    }
   },
   "cell_type": "code",
   "source": [
    "## preprocess data\n",
    "\n",
    "\n",
    "\n"
   ],
   "id": "761b517c7ad21066",
   "outputs": [],
   "execution_count": 50
  },
  {
   "metadata": {
    "ExecuteTime": {
     "end_time": "2024-12-01T00:32:14.941591Z",
     "start_time": "2024-12-01T00:32:14.936790Z"
    }
   },
   "cell_type": "code",
   "source": [
    "# Splitting the data into training and validation sets\n",
    "split_date = '2023-11-01' \n",
    "train = uni_data[uni_data['ds'] < split_date]\n",
    "test = uni_data[uni_data['ds'] >= split_date]\n",
    "\n",
    "print(f\"train shape : {train.shape} and test shape : {test.shape}\")"
   ],
   "id": "f934558c4a661e65",
   "outputs": [
    {
     "name": "stdout",
     "output_type": "stream",
     "text": [
      "train shape : (39, 2) and test shape : (12, 2)\n"
     ]
    }
   ],
   "execution_count": 51
  },
  {
   "metadata": {
    "ExecuteTime": {
     "end_time": "2024-12-01T00:32:20.443073Z",
     "start_time": "2024-12-01T00:32:20.244216Z"
    }
   },
   "cell_type": "code",
   "source": [
    "\n",
    "# Training the model\n",
    "uni_model = Prophet()\n",
    "uni_model.fit(train)"
   ],
   "id": "b03d93f6cd47fe26",
   "outputs": [
    {
     "name": "stderr",
     "output_type": "stream",
     "text": [
      "01:32:20 - cmdstanpy - INFO - Chain [1] start processing\n",
      "01:32:20 - cmdstanpy - INFO - Chain [1] done processing\n"
     ]
    },
    {
     "data": {
      "text/plain": [
       "<prophet.forecaster.Prophet at 0x132626d90>"
      ]
     },
     "execution_count": 52,
     "metadata": {},
     "output_type": "execute_result"
    }
   ],
   "execution_count": 52
  },
  {
   "metadata": {
    "ExecuteTime": {
     "end_time": "2024-12-01T00:32:21.822499Z",
     "start_time": "2024-12-01T00:32:21.776401Z"
    }
   },
   "cell_type": "code",
   "source": [
    "# Making predictions on the validation set\n",
    "future_uni = uni_model.make_future_dataframe(periods=20, freq='MS')\n",
    "forecast_uni = uni_model.predict(future_uni)"
   ],
   "id": "bc46373d54f8a17b",
   "outputs": [],
   "execution_count": 53
  },
  {
   "metadata": {
    "ExecuteTime": {
     "end_time": "2024-12-01T00:32:24.019349Z",
     "start_time": "2024-12-01T00:32:24.004421Z"
    }
   },
   "cell_type": "code",
   "source": "forecast_uni.tail(10)\n",
   "id": "5d5d77bd03b547f7",
   "outputs": [
    {
     "data": {
      "text/plain": [
       "           ds          trend     yhat_lower     yhat_upper    trend_lower  \\\n",
       "49 2024-09-01  110849.015458  103070.936679  119643.447841  110843.552022   \n",
       "50 2024-10-01  112952.276637  101303.052579  117479.714180  112946.038814   \n",
       "51 2024-11-01  115125.646522  113036.401079  129929.388083  115118.520027   \n",
       "52 2024-12-01  117228.907700  107845.667404  123806.508617  117220.759057   \n",
       "53 2025-01-01  119402.277585  109325.603885  124665.696151  119392.985703   \n",
       "54 2025-02-01  121575.647469  111146.629816  126095.275635  121565.427088   \n",
       "55 2025-03-01  123538.691236  115840.007478  131987.306011  123527.497195   \n",
       "56 2025-04-01  125712.061121  112985.598488  129094.737048  125699.552355   \n",
       "57 2025-05-01  127815.322299  120732.331372  136944.733347  127801.951510   \n",
       "58 2025-06-01  129988.692184  115874.575382  131855.814786  129974.385135   \n",
       "\n",
       "      trend_upper  additive_terms  additive_terms_lower  additive_terms_upper  \\\n",
       "49  110854.390469      452.226341            452.226341            452.226341   \n",
       "50  112958.322368    -3778.267853          -3778.267853          -3778.267853   \n",
       "51  115132.431174     6634.652949           6634.652949           6634.652949   \n",
       "52  117236.366532    -1382.749848          -1382.749848          -1382.749848   \n",
       "53  119410.615201    -2166.408645          -2166.408645          -2166.408645   \n",
       "54  121584.720840    -2849.600609          -2849.600609          -2849.600609   \n",
       "55  123548.691760       73.441063             73.441063             73.441063   \n",
       "56  125722.793205    -4657.583823          -4657.583823          -4657.583823   \n",
       "57  127827.170973     1288.332375           1288.332375           1288.332375   \n",
       "58  130001.617852    -6112.986476          -6112.986476          -6112.986476   \n",
       "\n",
       "         yearly  yearly_lower  yearly_upper  multiplicative_terms  \\\n",
       "49   452.226341    452.226341    452.226341                   0.0   \n",
       "50 -3778.267853  -3778.267853  -3778.267853                   0.0   \n",
       "51  6634.652949   6634.652949   6634.652949                   0.0   \n",
       "52 -1382.749848  -1382.749848  -1382.749848                   0.0   \n",
       "53 -2166.408645  -2166.408645  -2166.408645                   0.0   \n",
       "54 -2849.600609  -2849.600609  -2849.600609                   0.0   \n",
       "55    73.441063     73.441063     73.441063                   0.0   \n",
       "56 -4657.583823  -4657.583823  -4657.583823                   0.0   \n",
       "57  1288.332375   1288.332375   1288.332375                   0.0   \n",
       "58 -6112.986476  -6112.986476  -6112.986476                   0.0   \n",
       "\n",
       "    multiplicative_terms_lower  multiplicative_terms_upper           yhat  \n",
       "49                         0.0                         0.0  111301.241800  \n",
       "50                         0.0                         0.0  109174.008784  \n",
       "51                         0.0                         0.0  121760.299471  \n",
       "52                         0.0                         0.0  115846.157852  \n",
       "53                         0.0                         0.0  117235.868940  \n",
       "54                         0.0                         0.0  118726.046861  \n",
       "55                         0.0                         0.0  123612.132300  \n",
       "56                         0.0                         0.0  121054.477298  \n",
       "57                         0.0                         0.0  129103.654675  \n",
       "58                         0.0                         0.0  123875.705708  "
      ],
      "text/html": [
       "<div>\n",
       "<style scoped>\n",
       "    .dataframe tbody tr th:only-of-type {\n",
       "        vertical-align: middle;\n",
       "    }\n",
       "\n",
       "    .dataframe tbody tr th {\n",
       "        vertical-align: top;\n",
       "    }\n",
       "\n",
       "    .dataframe thead th {\n",
       "        text-align: right;\n",
       "    }\n",
       "</style>\n",
       "<table border=\"1\" class=\"dataframe\">\n",
       "  <thead>\n",
       "    <tr style=\"text-align: right;\">\n",
       "      <th></th>\n",
       "      <th>ds</th>\n",
       "      <th>trend</th>\n",
       "      <th>yhat_lower</th>\n",
       "      <th>yhat_upper</th>\n",
       "      <th>trend_lower</th>\n",
       "      <th>trend_upper</th>\n",
       "      <th>additive_terms</th>\n",
       "      <th>additive_terms_lower</th>\n",
       "      <th>additive_terms_upper</th>\n",
       "      <th>yearly</th>\n",
       "      <th>yearly_lower</th>\n",
       "      <th>yearly_upper</th>\n",
       "      <th>multiplicative_terms</th>\n",
       "      <th>multiplicative_terms_lower</th>\n",
       "      <th>multiplicative_terms_upper</th>\n",
       "      <th>yhat</th>\n",
       "    </tr>\n",
       "  </thead>\n",
       "  <tbody>\n",
       "    <tr>\n",
       "      <th>49</th>\n",
       "      <td>2024-09-01</td>\n",
       "      <td>110849.015458</td>\n",
       "      <td>103070.936679</td>\n",
       "      <td>119643.447841</td>\n",
       "      <td>110843.552022</td>\n",
       "      <td>110854.390469</td>\n",
       "      <td>452.226341</td>\n",
       "      <td>452.226341</td>\n",
       "      <td>452.226341</td>\n",
       "      <td>452.226341</td>\n",
       "      <td>452.226341</td>\n",
       "      <td>452.226341</td>\n",
       "      <td>0.0</td>\n",
       "      <td>0.0</td>\n",
       "      <td>0.0</td>\n",
       "      <td>111301.241800</td>\n",
       "    </tr>\n",
       "    <tr>\n",
       "      <th>50</th>\n",
       "      <td>2024-10-01</td>\n",
       "      <td>112952.276637</td>\n",
       "      <td>101303.052579</td>\n",
       "      <td>117479.714180</td>\n",
       "      <td>112946.038814</td>\n",
       "      <td>112958.322368</td>\n",
       "      <td>-3778.267853</td>\n",
       "      <td>-3778.267853</td>\n",
       "      <td>-3778.267853</td>\n",
       "      <td>-3778.267853</td>\n",
       "      <td>-3778.267853</td>\n",
       "      <td>-3778.267853</td>\n",
       "      <td>0.0</td>\n",
       "      <td>0.0</td>\n",
       "      <td>0.0</td>\n",
       "      <td>109174.008784</td>\n",
       "    </tr>\n",
       "    <tr>\n",
       "      <th>51</th>\n",
       "      <td>2024-11-01</td>\n",
       "      <td>115125.646522</td>\n",
       "      <td>113036.401079</td>\n",
       "      <td>129929.388083</td>\n",
       "      <td>115118.520027</td>\n",
       "      <td>115132.431174</td>\n",
       "      <td>6634.652949</td>\n",
       "      <td>6634.652949</td>\n",
       "      <td>6634.652949</td>\n",
       "      <td>6634.652949</td>\n",
       "      <td>6634.652949</td>\n",
       "      <td>6634.652949</td>\n",
       "      <td>0.0</td>\n",
       "      <td>0.0</td>\n",
       "      <td>0.0</td>\n",
       "      <td>121760.299471</td>\n",
       "    </tr>\n",
       "    <tr>\n",
       "      <th>52</th>\n",
       "      <td>2024-12-01</td>\n",
       "      <td>117228.907700</td>\n",
       "      <td>107845.667404</td>\n",
       "      <td>123806.508617</td>\n",
       "      <td>117220.759057</td>\n",
       "      <td>117236.366532</td>\n",
       "      <td>-1382.749848</td>\n",
       "      <td>-1382.749848</td>\n",
       "      <td>-1382.749848</td>\n",
       "      <td>-1382.749848</td>\n",
       "      <td>-1382.749848</td>\n",
       "      <td>-1382.749848</td>\n",
       "      <td>0.0</td>\n",
       "      <td>0.0</td>\n",
       "      <td>0.0</td>\n",
       "      <td>115846.157852</td>\n",
       "    </tr>\n",
       "    <tr>\n",
       "      <th>53</th>\n",
       "      <td>2025-01-01</td>\n",
       "      <td>119402.277585</td>\n",
       "      <td>109325.603885</td>\n",
       "      <td>124665.696151</td>\n",
       "      <td>119392.985703</td>\n",
       "      <td>119410.615201</td>\n",
       "      <td>-2166.408645</td>\n",
       "      <td>-2166.408645</td>\n",
       "      <td>-2166.408645</td>\n",
       "      <td>-2166.408645</td>\n",
       "      <td>-2166.408645</td>\n",
       "      <td>-2166.408645</td>\n",
       "      <td>0.0</td>\n",
       "      <td>0.0</td>\n",
       "      <td>0.0</td>\n",
       "      <td>117235.868940</td>\n",
       "    </tr>\n",
       "    <tr>\n",
       "      <th>54</th>\n",
       "      <td>2025-02-01</td>\n",
       "      <td>121575.647469</td>\n",
       "      <td>111146.629816</td>\n",
       "      <td>126095.275635</td>\n",
       "      <td>121565.427088</td>\n",
       "      <td>121584.720840</td>\n",
       "      <td>-2849.600609</td>\n",
       "      <td>-2849.600609</td>\n",
       "      <td>-2849.600609</td>\n",
       "      <td>-2849.600609</td>\n",
       "      <td>-2849.600609</td>\n",
       "      <td>-2849.600609</td>\n",
       "      <td>0.0</td>\n",
       "      <td>0.0</td>\n",
       "      <td>0.0</td>\n",
       "      <td>118726.046861</td>\n",
       "    </tr>\n",
       "    <tr>\n",
       "      <th>55</th>\n",
       "      <td>2025-03-01</td>\n",
       "      <td>123538.691236</td>\n",
       "      <td>115840.007478</td>\n",
       "      <td>131987.306011</td>\n",
       "      <td>123527.497195</td>\n",
       "      <td>123548.691760</td>\n",
       "      <td>73.441063</td>\n",
       "      <td>73.441063</td>\n",
       "      <td>73.441063</td>\n",
       "      <td>73.441063</td>\n",
       "      <td>73.441063</td>\n",
       "      <td>73.441063</td>\n",
       "      <td>0.0</td>\n",
       "      <td>0.0</td>\n",
       "      <td>0.0</td>\n",
       "      <td>123612.132300</td>\n",
       "    </tr>\n",
       "    <tr>\n",
       "      <th>56</th>\n",
       "      <td>2025-04-01</td>\n",
       "      <td>125712.061121</td>\n",
       "      <td>112985.598488</td>\n",
       "      <td>129094.737048</td>\n",
       "      <td>125699.552355</td>\n",
       "      <td>125722.793205</td>\n",
       "      <td>-4657.583823</td>\n",
       "      <td>-4657.583823</td>\n",
       "      <td>-4657.583823</td>\n",
       "      <td>-4657.583823</td>\n",
       "      <td>-4657.583823</td>\n",
       "      <td>-4657.583823</td>\n",
       "      <td>0.0</td>\n",
       "      <td>0.0</td>\n",
       "      <td>0.0</td>\n",
       "      <td>121054.477298</td>\n",
       "    </tr>\n",
       "    <tr>\n",
       "      <th>57</th>\n",
       "      <td>2025-05-01</td>\n",
       "      <td>127815.322299</td>\n",
       "      <td>120732.331372</td>\n",
       "      <td>136944.733347</td>\n",
       "      <td>127801.951510</td>\n",
       "      <td>127827.170973</td>\n",
       "      <td>1288.332375</td>\n",
       "      <td>1288.332375</td>\n",
       "      <td>1288.332375</td>\n",
       "      <td>1288.332375</td>\n",
       "      <td>1288.332375</td>\n",
       "      <td>1288.332375</td>\n",
       "      <td>0.0</td>\n",
       "      <td>0.0</td>\n",
       "      <td>0.0</td>\n",
       "      <td>129103.654675</td>\n",
       "    </tr>\n",
       "    <tr>\n",
       "      <th>58</th>\n",
       "      <td>2025-06-01</td>\n",
       "      <td>129988.692184</td>\n",
       "      <td>115874.575382</td>\n",
       "      <td>131855.814786</td>\n",
       "      <td>129974.385135</td>\n",
       "      <td>130001.617852</td>\n",
       "      <td>-6112.986476</td>\n",
       "      <td>-6112.986476</td>\n",
       "      <td>-6112.986476</td>\n",
       "      <td>-6112.986476</td>\n",
       "      <td>-6112.986476</td>\n",
       "      <td>-6112.986476</td>\n",
       "      <td>0.0</td>\n",
       "      <td>0.0</td>\n",
       "      <td>0.0</td>\n",
       "      <td>123875.705708</td>\n",
       "    </tr>\n",
       "  </tbody>\n",
       "</table>\n",
       "</div>"
      ]
     },
     "execution_count": 54,
     "metadata": {},
     "output_type": "execute_result"
    }
   ],
   "execution_count": 54
  },
  {
   "metadata": {
    "ExecuteTime": {
     "end_time": "2024-12-01T00:30:06.599834Z",
     "start_time": "2024-12-01T00:30:06.596284Z"
    }
   },
   "cell_type": "code",
   "source": "test.columns\n",
   "id": "6eb38a487f3404a8",
   "outputs": [
    {
     "data": {
      "text/plain": [
       "Index(['ds', 'y'], dtype='object')"
      ]
     },
     "execution_count": 34,
     "metadata": {},
     "output_type": "execute_result"
    }
   ],
   "execution_count": 34
  },
  {
   "metadata": {
    "ExecuteTime": {
     "end_time": "2024-12-01T00:30:07.091579Z",
     "start_time": "2024-12-01T00:30:07.084371Z"
    }
   },
   "cell_type": "code",
   "source": [
    "y_pred_df_uni = forecast_uni[forecast_uni['ds'] >= split_date][['ds', 'yhat']]\n",
    "print(y_pred_df_uni.head())"
   ],
   "id": "9ce7f6a5d3d3284f",
   "outputs": [
    {
     "name": "stdout",
     "output_type": "stream",
     "text": [
      "           ds          yhat\n",
      "39 2023-11-01  89963.391689\n",
      "40 2023-12-01  83173.355417\n",
      "41 2024-01-01  95915.373685\n",
      "42 2024-02-01  94285.468131\n",
      "43 2024-03-01  94563.086700\n"
     ]
    }
   ],
   "execution_count": 35
  },
  {
   "metadata": {
    "ExecuteTime": {
     "end_time": "2024-12-01T00:34:29.175988Z",
     "start_time": "2024-12-01T00:34:29.169072Z"
    }
   },
   "cell_type": "code",
   "source": [
    "\n",
    "print(y_pred_df_uni.info())\n",
    "\n"
   ],
   "id": "7cae71afb9a29c99",
   "outputs": [
    {
     "name": "stdout",
     "output_type": "stream",
     "text": [
      "<class 'pandas.core.frame.DataFrame'>\n",
      "Index: 20 entries, 39 to 58\n",
      "Data columns (total 2 columns):\n",
      " #   Column  Non-Null Count  Dtype         \n",
      "---  ------  --------------  -----         \n",
      " 0   ds      20 non-null     datetime64[ns]\n",
      " 1   yhat    20 non-null     float64       \n",
      "dtypes: datetime64[ns](1), float64(1)\n",
      "memory usage: 480.0 bytes\n",
      "None\n"
     ]
    }
   ],
   "execution_count": 60
  },
  {
   "metadata": {
    "ExecuteTime": {
     "end_time": "2024-12-01T00:36:12.871366Z",
     "start_time": "2024-12-01T00:36:12.866369Z"
    }
   },
   "cell_type": "code",
   "source": [
    "y = test['y'].values\n",
    "yhat = y_pred_df_uni['yhat'].values\n",
    "\n",
    "sumerror= 0\n",
    "for i in range(len(y)):\n",
    "    sumerror += (y[i] - yhat[i])**2\n",
    "\n",
    "rmse = np.sqrt(sumerror/len(y))\n",
    "    \n",
    "print(rmse)"
   ],
   "id": "3f2d52f7e4577840",
   "outputs": [
    {
     "name": "stdout",
     "output_type": "stream",
     "text": [
      "11349.652426917306\n"
     ]
    }
   ],
   "execution_count": 62
  },
  {
   "metadata": {
    "ExecuteTime": {
     "end_time": "2024-12-01T03:10:17.787437Z",
     "start_time": "2024-12-01T03:10:17.564634Z"
    }
   },
   "cell_type": "code",
   "source": [
    "# Making predictions on the validation set\n",
    "future_uni = uni_model.make_future_dataframe(periods=50, freq='MS')\n",
    "forecast_uni = uni_model.predict(future_uni)\n",
    "forecast_uni.tail(10)"
   ],
   "id": "1ddfe05ad89d97e7",
   "outputs": [
    {
     "data": {
      "text/plain": [
       "           ds          trend     yhat_lower     yhat_upper    trend_lower  \\\n",
       "79 2027-03-01  174718.046583  173722.972894  189490.534307  174676.314249   \n",
       "80 2027-04-01  176891.416467  156674.607624  172683.489695  176847.896750   \n",
       "81 2027-05-01  178994.677646  158921.650877  175022.090109  178949.241695   \n",
       "82 2027-06-01  181168.047530  189121.909228  205145.699088  181121.419526   \n",
       "83 2027-07-01  183271.308709  172413.151360  189272.416050  183223.106724   \n",
       "84 2027-08-01  185444.678594  169338.233797  184568.496924  185395.164649   \n",
       "85 2027-09-01  187618.048478  177787.011361  194113.709102  187566.885540   \n",
       "86 2027-10-01  189721.309657  191071.072664  207274.625021  189668.585012   \n",
       "87 2027-11-01  191894.679541  184305.479580  200383.411357  191840.608255   \n",
       "88 2027-12-01  193997.940720  177544.103886  193711.276727  193942.146053   \n",
       "\n",
       "      trend_upper  additive_terms  additive_terms_lower  additive_terms_upper  \\\n",
       "79  174761.763208     6729.544168           6729.544168           6729.544168   \n",
       "80  176936.836048   -12157.587306         -12157.587306         -12157.587306   \n",
       "81  179041.325717   -11836.856498         -11836.856498         -11836.856498   \n",
       "82  181216.286550    15968.425457          15968.425457          15968.425457   \n",
       "83  183321.565479    -2247.271575          -2247.271575          -2247.271575   \n",
       "84  185497.031759    -8435.624409          -8435.624409          -8435.624409   \n",
       "85  187672.186561    -1666.259621          -1666.259621          -1666.259621   \n",
       "86  189777.493338     9304.483536           9304.483536           9304.483536   \n",
       "87  191952.893757      497.531546            497.531546            497.531546   \n",
       "88  194058.580602    -8395.765904          -8395.765904          -8395.765904   \n",
       "\n",
       "          yearly  yearly_lower  yearly_upper  multiplicative_terms  \\\n",
       "79   6729.544168   6729.544168   6729.544168                   0.0   \n",
       "80 -12157.587306 -12157.587306 -12157.587306                   0.0   \n",
       "81 -11836.856498 -11836.856498 -11836.856498                   0.0   \n",
       "82  15968.425457  15968.425457  15968.425457                   0.0   \n",
       "83  -2247.271575  -2247.271575  -2247.271575                   0.0   \n",
       "84  -8435.624409  -8435.624409  -8435.624409                   0.0   \n",
       "85  -1666.259621  -1666.259621  -1666.259621                   0.0   \n",
       "86   9304.483536   9304.483536   9304.483536                   0.0   \n",
       "87    497.531546    497.531546    497.531546                   0.0   \n",
       "88  -8395.765904  -8395.765904  -8395.765904                   0.0   \n",
       "\n",
       "    multiplicative_terms_lower  multiplicative_terms_upper           yhat  \n",
       "79                         0.0                         0.0  181447.590751  \n",
       "80                         0.0                         0.0  164733.829161  \n",
       "81                         0.0                         0.0  167157.821148  \n",
       "82                         0.0                         0.0  197136.472987  \n",
       "83                         0.0                         0.0  181024.037134  \n",
       "84                         0.0                         0.0  177009.054185  \n",
       "85                         0.0                         0.0  185951.788857  \n",
       "86                         0.0                         0.0  199025.793193  \n",
       "87                         0.0                         0.0  192392.211088  \n",
       "88                         0.0                         0.0  185602.174817  "
      ],
      "text/html": [
       "<div>\n",
       "<style scoped>\n",
       "    .dataframe tbody tr th:only-of-type {\n",
       "        vertical-align: middle;\n",
       "    }\n",
       "\n",
       "    .dataframe tbody tr th {\n",
       "        vertical-align: top;\n",
       "    }\n",
       "\n",
       "    .dataframe thead th {\n",
       "        text-align: right;\n",
       "    }\n",
       "</style>\n",
       "<table border=\"1\" class=\"dataframe\">\n",
       "  <thead>\n",
       "    <tr style=\"text-align: right;\">\n",
       "      <th></th>\n",
       "      <th>ds</th>\n",
       "      <th>trend</th>\n",
       "      <th>yhat_lower</th>\n",
       "      <th>yhat_upper</th>\n",
       "      <th>trend_lower</th>\n",
       "      <th>trend_upper</th>\n",
       "      <th>additive_terms</th>\n",
       "      <th>additive_terms_lower</th>\n",
       "      <th>additive_terms_upper</th>\n",
       "      <th>yearly</th>\n",
       "      <th>yearly_lower</th>\n",
       "      <th>yearly_upper</th>\n",
       "      <th>multiplicative_terms</th>\n",
       "      <th>multiplicative_terms_lower</th>\n",
       "      <th>multiplicative_terms_upper</th>\n",
       "      <th>yhat</th>\n",
       "    </tr>\n",
       "  </thead>\n",
       "  <tbody>\n",
       "    <tr>\n",
       "      <th>79</th>\n",
       "      <td>2027-03-01</td>\n",
       "      <td>174718.046583</td>\n",
       "      <td>173722.972894</td>\n",
       "      <td>189490.534307</td>\n",
       "      <td>174676.314249</td>\n",
       "      <td>174761.763208</td>\n",
       "      <td>6729.544168</td>\n",
       "      <td>6729.544168</td>\n",
       "      <td>6729.544168</td>\n",
       "      <td>6729.544168</td>\n",
       "      <td>6729.544168</td>\n",
       "      <td>6729.544168</td>\n",
       "      <td>0.0</td>\n",
       "      <td>0.0</td>\n",
       "      <td>0.0</td>\n",
       "      <td>181447.590751</td>\n",
       "    </tr>\n",
       "    <tr>\n",
       "      <th>80</th>\n",
       "      <td>2027-04-01</td>\n",
       "      <td>176891.416467</td>\n",
       "      <td>156674.607624</td>\n",
       "      <td>172683.489695</td>\n",
       "      <td>176847.896750</td>\n",
       "      <td>176936.836048</td>\n",
       "      <td>-12157.587306</td>\n",
       "      <td>-12157.587306</td>\n",
       "      <td>-12157.587306</td>\n",
       "      <td>-12157.587306</td>\n",
       "      <td>-12157.587306</td>\n",
       "      <td>-12157.587306</td>\n",
       "      <td>0.0</td>\n",
       "      <td>0.0</td>\n",
       "      <td>0.0</td>\n",
       "      <td>164733.829161</td>\n",
       "    </tr>\n",
       "    <tr>\n",
       "      <th>81</th>\n",
       "      <td>2027-05-01</td>\n",
       "      <td>178994.677646</td>\n",
       "      <td>158921.650877</td>\n",
       "      <td>175022.090109</td>\n",
       "      <td>178949.241695</td>\n",
       "      <td>179041.325717</td>\n",
       "      <td>-11836.856498</td>\n",
       "      <td>-11836.856498</td>\n",
       "      <td>-11836.856498</td>\n",
       "      <td>-11836.856498</td>\n",
       "      <td>-11836.856498</td>\n",
       "      <td>-11836.856498</td>\n",
       "      <td>0.0</td>\n",
       "      <td>0.0</td>\n",
       "      <td>0.0</td>\n",
       "      <td>167157.821148</td>\n",
       "    </tr>\n",
       "    <tr>\n",
       "      <th>82</th>\n",
       "      <td>2027-06-01</td>\n",
       "      <td>181168.047530</td>\n",
       "      <td>189121.909228</td>\n",
       "      <td>205145.699088</td>\n",
       "      <td>181121.419526</td>\n",
       "      <td>181216.286550</td>\n",
       "      <td>15968.425457</td>\n",
       "      <td>15968.425457</td>\n",
       "      <td>15968.425457</td>\n",
       "      <td>15968.425457</td>\n",
       "      <td>15968.425457</td>\n",
       "      <td>15968.425457</td>\n",
       "      <td>0.0</td>\n",
       "      <td>0.0</td>\n",
       "      <td>0.0</td>\n",
       "      <td>197136.472987</td>\n",
       "    </tr>\n",
       "    <tr>\n",
       "      <th>83</th>\n",
       "      <td>2027-07-01</td>\n",
       "      <td>183271.308709</td>\n",
       "      <td>172413.151360</td>\n",
       "      <td>189272.416050</td>\n",
       "      <td>183223.106724</td>\n",
       "      <td>183321.565479</td>\n",
       "      <td>-2247.271575</td>\n",
       "      <td>-2247.271575</td>\n",
       "      <td>-2247.271575</td>\n",
       "      <td>-2247.271575</td>\n",
       "      <td>-2247.271575</td>\n",
       "      <td>-2247.271575</td>\n",
       "      <td>0.0</td>\n",
       "      <td>0.0</td>\n",
       "      <td>0.0</td>\n",
       "      <td>181024.037134</td>\n",
       "    </tr>\n",
       "    <tr>\n",
       "      <th>84</th>\n",
       "      <td>2027-08-01</td>\n",
       "      <td>185444.678594</td>\n",
       "      <td>169338.233797</td>\n",
       "      <td>184568.496924</td>\n",
       "      <td>185395.164649</td>\n",
       "      <td>185497.031759</td>\n",
       "      <td>-8435.624409</td>\n",
       "      <td>-8435.624409</td>\n",
       "      <td>-8435.624409</td>\n",
       "      <td>-8435.624409</td>\n",
       "      <td>-8435.624409</td>\n",
       "      <td>-8435.624409</td>\n",
       "      <td>0.0</td>\n",
       "      <td>0.0</td>\n",
       "      <td>0.0</td>\n",
       "      <td>177009.054185</td>\n",
       "    </tr>\n",
       "    <tr>\n",
       "      <th>85</th>\n",
       "      <td>2027-09-01</td>\n",
       "      <td>187618.048478</td>\n",
       "      <td>177787.011361</td>\n",
       "      <td>194113.709102</td>\n",
       "      <td>187566.885540</td>\n",
       "      <td>187672.186561</td>\n",
       "      <td>-1666.259621</td>\n",
       "      <td>-1666.259621</td>\n",
       "      <td>-1666.259621</td>\n",
       "      <td>-1666.259621</td>\n",
       "      <td>-1666.259621</td>\n",
       "      <td>-1666.259621</td>\n",
       "      <td>0.0</td>\n",
       "      <td>0.0</td>\n",
       "      <td>0.0</td>\n",
       "      <td>185951.788857</td>\n",
       "    </tr>\n",
       "    <tr>\n",
       "      <th>86</th>\n",
       "      <td>2027-10-01</td>\n",
       "      <td>189721.309657</td>\n",
       "      <td>191071.072664</td>\n",
       "      <td>207274.625021</td>\n",
       "      <td>189668.585012</td>\n",
       "      <td>189777.493338</td>\n",
       "      <td>9304.483536</td>\n",
       "      <td>9304.483536</td>\n",
       "      <td>9304.483536</td>\n",
       "      <td>9304.483536</td>\n",
       "      <td>9304.483536</td>\n",
       "      <td>9304.483536</td>\n",
       "      <td>0.0</td>\n",
       "      <td>0.0</td>\n",
       "      <td>0.0</td>\n",
       "      <td>199025.793193</td>\n",
       "    </tr>\n",
       "    <tr>\n",
       "      <th>87</th>\n",
       "      <td>2027-11-01</td>\n",
       "      <td>191894.679541</td>\n",
       "      <td>184305.479580</td>\n",
       "      <td>200383.411357</td>\n",
       "      <td>191840.608255</td>\n",
       "      <td>191952.893757</td>\n",
       "      <td>497.531546</td>\n",
       "      <td>497.531546</td>\n",
       "      <td>497.531546</td>\n",
       "      <td>497.531546</td>\n",
       "      <td>497.531546</td>\n",
       "      <td>497.531546</td>\n",
       "      <td>0.0</td>\n",
       "      <td>0.0</td>\n",
       "      <td>0.0</td>\n",
       "      <td>192392.211088</td>\n",
       "    </tr>\n",
       "    <tr>\n",
       "      <th>88</th>\n",
       "      <td>2027-12-01</td>\n",
       "      <td>193997.940720</td>\n",
       "      <td>177544.103886</td>\n",
       "      <td>193711.276727</td>\n",
       "      <td>193942.146053</td>\n",
       "      <td>194058.580602</td>\n",
       "      <td>-8395.765904</td>\n",
       "      <td>-8395.765904</td>\n",
       "      <td>-8395.765904</td>\n",
       "      <td>-8395.765904</td>\n",
       "      <td>-8395.765904</td>\n",
       "      <td>-8395.765904</td>\n",
       "      <td>0.0</td>\n",
       "      <td>0.0</td>\n",
       "      <td>0.0</td>\n",
       "      <td>185602.174817</td>\n",
       "    </tr>\n",
       "  </tbody>\n",
       "</table>\n",
       "</div>"
      ]
     },
     "execution_count": 79,
     "metadata": {},
     "output_type": "execute_result"
    }
   ],
   "execution_count": 79
  },
  {
   "metadata": {
    "ExecuteTime": {
     "end_time": "2024-12-01T03:10:19.524991Z",
     "start_time": "2024-12-01T03:10:19.512252Z"
    }
   },
   "cell_type": "code",
   "source": [
    "# Display the last 10 predictions\n",
    "print(forecast_uni[['ds', 'yhat', 'yhat_lower', 'yhat_upper']].tail(10))\n",
    "\n",
    "# If you want to filter and display only the new predicted dates (future periods):\n",
    "predicted_future = forecast_uni[forecast_uni['ds'] > test['ds'].max()]\n",
    "print(predicted_future[['ds', 'yhat', 'yhat_lower', 'yhat_upper']])\n"
   ],
   "id": "281356552b424615",
   "outputs": [
    {
     "name": "stdout",
     "output_type": "stream",
     "text": [
      "           ds           yhat     yhat_lower     yhat_upper\n",
      "79 2027-03-01  181447.590751  173722.972894  189490.534307\n",
      "80 2027-04-01  164733.829161  156674.607624  172683.489695\n",
      "81 2027-05-01  167157.821148  158921.650877  175022.090109\n",
      "82 2027-06-01  197136.472987  189121.909228  205145.699088\n",
      "83 2027-07-01  181024.037134  172413.151360  189272.416050\n",
      "84 2027-08-01  177009.054185  169338.233797  184568.496924\n",
      "85 2027-09-01  185951.788857  177787.011361  194113.709102\n",
      "86 2027-10-01  199025.793193  191071.072664  207274.625021\n",
      "87 2027-11-01  192392.211088  184305.479580  200383.411357\n",
      "88 2027-12-01  185602.174817  177544.103886  193711.276727\n",
      "           ds           yhat     yhat_lower     yhat_upper\n",
      "51 2024-11-01  121760.299471  114009.040485  128975.029611\n",
      "52 2024-12-01  115846.157852  108146.576886  123736.198731\n",
      "53 2025-01-01  117235.868940  109259.401404  124890.926619\n",
      "54 2025-02-01  118726.046861  110550.009593  126410.479766\n",
      "55 2025-03-01  123612.132300  115734.458515  131332.407789\n",
      "56 2025-04-01  121054.477298  113160.519335  129139.980537\n",
      "57 2025-05-01  129103.654675  121249.087119  137262.986695\n",
      "58 2025-06-01  123875.705708  115555.958730  132109.750501\n",
      "59 2025-07-01  134854.250534  126850.018161  142162.380851\n",
      "60 2025-08-01  132361.728478  123859.464140  140112.140599\n",
      "61 2025-09-01  136094.761868  127915.106330  144053.963714\n",
      "62 2025-10-01  139143.489759  131288.965120  147357.378885\n",
      "63 2025-11-01  145386.553593  136807.458782  153468.125808\n",
      "64 2025-12-01  139052.858954  130884.226385  146950.636998\n",
      "65 2026-01-01  144215.697082  136108.431056  151894.602295\n",
      "66 2026-02-01  144695.643996  136474.352813  152261.220656\n",
      "67 2026-03-01  152574.574324  144154.604851  161244.371684\n",
      "68 2026-04-01  142944.973505  134600.554332  150692.203818\n",
      "69 2026-05-01  148036.727619  140510.845260  156109.198622\n",
      "70 2026-06-01  160472.840083  152808.878341  168310.878802\n",
      "71 2026-07-01  158021.509561  149733.408216  165681.347567\n",
      "72 2026-08-01  154684.472281  146200.230571  163688.732901\n",
      "73 2026-09-01  160978.047043  153475.359548  168949.682286\n",
      "74 2026-10-01  169095.511313  160773.843709  176236.136784\n",
      "75 2026-11-01  168929.903169  160152.641915  176921.608963\n",
      "76 2026-12-01  162303.905454  154347.139082  169753.645133\n",
      "77 2027-01-01  171252.217061  163012.398289  179465.355115\n",
      "78 2027-02-01  170692.336557  162929.025991  179129.808526\n",
      "79 2027-03-01  181447.590751  173722.972894  189490.534307\n",
      "80 2027-04-01  164733.829161  156674.607624  172683.489695\n",
      "81 2027-05-01  167157.821148  158921.650877  175022.090109\n",
      "82 2027-06-01  197136.472987  189121.909228  205145.699088\n",
      "83 2027-07-01  181024.037134  172413.151360  189272.416050\n",
      "84 2027-08-01  177009.054185  169338.233797  184568.496924\n",
      "85 2027-09-01  185951.788857  177787.011361  194113.709102\n",
      "86 2027-10-01  199025.793193  191071.072664  207274.625021\n",
      "87 2027-11-01  192392.211088  184305.479580  200383.411357\n",
      "88 2027-12-01  185602.174817  177544.103886  193711.276727\n"
     ]
    }
   ],
   "execution_count": 80
  },
  {
   "metadata": {
    "ExecuteTime": {
     "end_time": "2024-12-01T03:10:19.731353Z",
     "start_time": "2024-12-01T03:10:19.720019Z"
    }
   },
   "cell_type": "code",
   "source": "test.info()",
   "id": "64e7b602687f821c",
   "outputs": [
    {
     "name": "stdout",
     "output_type": "stream",
     "text": [
      "<class 'pandas.core.frame.DataFrame'>\n",
      "Index: 12 entries, 39 to 50\n",
      "Data columns (total 2 columns):\n",
      " #   Column  Non-Null Count  Dtype         \n",
      "---  ------  --------------  -----         \n",
      " 0   ds      12 non-null     datetime64[ns]\n",
      " 1   y       12 non-null     float64       \n",
      "dtypes: datetime64[ns](1), float64(1)\n",
      "memory usage: 288.0 bytes\n"
     ]
    }
   ],
   "execution_count": 81
  },
  {
   "metadata": {
    "ExecuteTime": {
     "end_time": "2024-12-01T03:10:20.275435Z",
     "start_time": "2024-12-01T03:10:19.983973Z"
    }
   },
   "cell_type": "code",
   "source": [
    "import matplotlib.pyplot as plt\n",
    "\n",
    "df['Date'] = pd.to_datetime(df['Date'])\n",
    "forecast_uni['ds'] = pd.to_datetime(forecast_uni['ds'])\n",
    "\n",
    "# Plot ds vs yhat\n",
    "plt.figure(figsize=(10, 6))\n",
    "plt.plot(forecast_uni['ds'], forecast_uni['yhat'], label='Predicted', color='red')\n",
    "# print test in red\n",
    "plt.plot(df['Date'], df['Value'], label='Actual', color='blue')\n",
    "\n",
    "# Add labels, title, and legend\n",
    "plt.xlabel('Date')\n",
    "plt.ylabel('Predicted Value')\n",
    "plt.title('Predicted Values Over Time (yhat)')\n",
    "plt.legend()\n",
    "plt.grid(True)\n",
    "\n",
    "# Show the plot\n",
    "plt.show()"
   ],
   "id": "204a4e33f24785f8",
   "outputs": [
    {
     "data": {
      "text/plain": [
       "<Figure size 1000x600 with 1 Axes>"
      ],
      "image/png": "[encoded data removed]"
     },
     "metadata": {},
     "output_type": "display_data"
    }
   ],
   "execution_count": 82
  },
  {
   "metadata": {
    "ExecuteTime": {
     "end_time": "2024-12-01T03:10:20.310082Z",
     "start_time": "2024-12-01T03:10:20.307253Z"
    }
   },
   "cell_type": "code",
   "source": "",
   "id": "2afa1f298085b095",
   "outputs": [],
   "execution_count": null
  },
  {
   "metadata": {},
   "cell_type": "code",
   "outputs": [],
   "execution_count": null,
   "source": "",
   "id": "9cded4e6da7be95f"
  }
 ],
 "metadata": {
  "kernelspec": {
   "display_name": "Python 3",
   "language": "python",
   "name": "python3"
  },
  "language_info": {
   "codemirror_mode": {
    "name": "ipython",
    "version": 2
   },
   "file_extension": ".py",
   "mimetype": "text/x-python",
   "name": "python",
   "nbconvert_exporter": "python",
   "pygments_lexer": "ipython2",
   "version": "2.7.6"
  }
 },
 "nbformat": 4,
 "nbformat_minor": 5
}
