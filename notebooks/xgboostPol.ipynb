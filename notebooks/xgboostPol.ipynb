{
 "cells": [
  {
   "metadata": {
    "ExecuteTime": {
     "end_time": "2024-11-30T22:24:44.470594Z",
     "start_time": "2024-11-30T22:24:44.440812Z"
    }
   },
   "cell_type": "code",
   "source": [
    "import pandas as pd\n",
    "import numpy as np\n",
    "import seaborn as sns\n",
    "from prophet import Prophet \n",
    "from prophet.plot import plot_cross_validation_metric\n",
    "from prophet.diagnostics import performance_metrics, cross_validation"
   ],
   "id": "db4c9da0f7950bbd",
   "outputs": [
    {
     "name": "stderr",
     "output_type": "stream",
     "text": [
      "/Users/polfuentes/opt/anaconda3/envs/LauzHack/lib/python3.11/site-packages/tqdm/auto.py:21: TqdmWarning: IProgress not found. Please update jupyter and ipywidgets. See https://ipywidgets.readthedocs.io/en/stable/user_install.html\n",
      "  from .autonotebook import tqdm as notebook_tqdm\n",
      "Importing plotly failed. Interactive plots will not work.\n"
     ]
    }
   ],
   "execution_count": 1
  },
  {
   "metadata": {
    "ExecuteTime": {
     "end_time": "2024-11-30T22:24:44.645341Z",
     "start_time": "2024-11-30T22:24:44.637975Z"
    }
   },
   "cell_type": "code",
   "source": [
    "\n",
    "\n",
    "df = pd.read_csv('../clean_data/ex_factory_vols.csv')\n",
    "\n",
    "df.info()\n"
   ],
   "id": "db5e34d8cbbbd7eb",
   "outputs": [
    {
     "name": "stdout",
     "output_type": "stream",
     "text": [
      "<class 'pandas.core.frame.DataFrame'>\n",
      "RangeIndex: 51 entries, 0 to 50\n",
      "Data columns (total 6 columns):\n",
      " #   Column     Non-Null Count  Dtype  \n",
      "---  ------     --------------  -----  \n",
      " 0   Country    51 non-null     object \n",
      " 1   Data type  51 non-null     object \n",
      " 2   Measure    51 non-null     object \n",
      " 3   Product    51 non-null     object \n",
      " 4   Date       51 non-null     object \n",
      " 5   Value      51 non-null     float64\n",
      "dtypes: float64(1), object(5)\n",
      "memory usage: 2.5+ KB\n"
     ]
    }
   ],
   "execution_count": 3
  },
  {
   "metadata": {
    "ExecuteTime": {
     "end_time": "2024-11-30T22:24:49.880593Z",
     "start_time": "2024-11-30T22:24:49.877576Z"
    }
   },
   "cell_type": "code",
   "source": "",
   "id": "4d287f4393191f96",
   "outputs": [],
   "execution_count": null
  },
  {
   "metadata": {
    "ExecuteTime": {
     "end_time": "2024-11-30T22:24:50.219754Z",
     "start_time": "2024-11-30T22:24:50.213903Z"
    }
   },
   "cell_type": "code",
   "source": "df.index.min(), df.index.max()\n",
   "id": "a02df969fe21e163",
   "outputs": [
    {
     "data": {
      "text/plain": [
       "(0, 50)"
      ]
     },
     "execution_count": 4,
     "metadata": {},
     "output_type": "execute_result"
    }
   ],
   "execution_count": 4
  },
  {
   "metadata": {
    "ExecuteTime": {
     "end_time": "2024-11-30T22:24:50.992763Z",
     "start_time": "2024-11-30T22:24:50.990234Z"
    }
   },
   "cell_type": "code",
   "source": "",
   "id": "b8935ed2aa988d1e",
   "outputs": [],
   "execution_count": null
  },
  {
   "metadata": {
    "ExecuteTime": {
     "end_time": "2024-11-30T22:24:51.484346Z",
     "start_time": "2024-11-30T22:24:51.472387Z"
    }
   },
   "cell_type": "code",
   "source": [
    "# Preparing the data\n",
    "uni_data = df.reset_index()[['Date', 'Value']]\n",
    "uni_data = uni_data.rename(columns={'Date': 'ds', 'Value': 'y'})\n",
    "\n",
    "uni_data.info()\n"
   ],
   "id": "d752ecd882c7f8a",
   "outputs": [
    {
     "name": "stdout",
     "output_type": "stream",
     "text": [
      "<class 'pandas.core.frame.DataFrame'>\n",
      "RangeIndex: 51 entries, 0 to 50\n",
      "Data columns (total 2 columns):\n",
      " #   Column  Non-Null Count  Dtype  \n",
      "---  ------  --------------  -----  \n",
      " 0   ds      51 non-null     object \n",
      " 1   y       51 non-null     float64\n",
      "dtypes: float64(1), object(1)\n",
      "memory usage: 948.0+ bytes\n"
     ]
    }
   ],
   "execution_count": 5
  },
  {
   "metadata": {
    "ExecuteTime": {
     "end_time": "2024-11-30T22:24:51.995274Z",
     "start_time": "2024-11-30T22:24:51.992978Z"
    }
   },
   "cell_type": "code",
   "source": [
    "## preprocess data\n",
    "\n",
    "\n",
    "\n"
   ],
   "id": "761b517c7ad21066",
   "outputs": [],
   "execution_count": 6
  },
  {
   "metadata": {
    "ExecuteTime": {
     "end_time": "2024-11-30T22:24:52.321040Z",
     "start_time": "2024-11-30T22:24:52.314900Z"
    }
   },
   "cell_type": "code",
   "source": [
    "# Splitting the data into training and validation sets\n",
    "split_date = '2023-12-01' \n",
    "train = uni_data[uni_data['ds'] < split_date]\n",
    "test = uni_data[uni_data['ds'] >= split_date]\n",
    "\n",
    "print(f\"train shape : {train.shape} and test shape : {test.shape}\")"
   ],
   "id": "f934558c4a661e65",
   "outputs": [
    {
     "name": "stdout",
     "output_type": "stream",
     "text": [
      "train shape : (40, 2) and test shape : (11, 2)\n"
     ]
    }
   ],
   "execution_count": 7
  },
  {
   "metadata": {
    "ExecuteTime": {
     "end_time": "2024-11-30T22:24:53.236425Z",
     "start_time": "2024-11-30T22:24:52.932627Z"
    }
   },
   "cell_type": "code",
   "source": [
    "\n",
    "# Training the model\n",
    "uni_model = Prophet()\n",
    "uni_model.fit(train)"
   ],
   "id": "b03d93f6cd47fe26",
   "outputs": [
    {
     "name": "stderr",
     "output_type": "stream",
     "text": [
      "23:24:52 - cmdstanpy - INFO - Chain [1] start processing\n",
      "23:24:53 - cmdstanpy - INFO - Chain [1] done processing\n"
     ]
    },
    {
     "data": {
      "text/plain": [
       "<prophet.forecaster.Prophet at 0x131f7fe90>"
      ]
     },
     "execution_count": 8,
     "metadata": {},
     "output_type": "execute_result"
    }
   ],
   "execution_count": 8
  },
  {
   "metadata": {
    "ExecuteTime": {
     "end_time": "2024-11-30T22:24:53.834871Z",
     "start_time": "2024-11-30T22:24:53.780581Z"
    }
   },
   "cell_type": "code",
   "source": [
    "# Making predictions on the validation set\n",
    "future_uni = uni_model.make_future_dataframe(periods=20, freq='MS')\n",
    "forecast_uni = uni_model.predict(future_uni)"
   ],
   "id": "bc46373d54f8a17b",
   "outputs": [],
   "execution_count": 9
  },
  {
   "metadata": {
    "ExecuteTime": {
     "end_time": "2024-11-30T22:24:54.388607Z",
     "start_time": "2024-11-30T22:24:54.373347Z"
    }
   },
   "cell_type": "code",
   "source": "forecast_uni.tail(10)\n",
   "id": "5d5d77bd03b547f7",
   "outputs": [
    {
     "data": {
      "text/plain": [
       "           ds          trend     yhat_lower     yhat_upper    trend_lower  \\\n",
       "50 2024-10-01  114022.264409  102981.980000  118687.092451  114019.457031   \n",
       "51 2024-11-01  116227.347996  113982.274438  129784.068782  116224.137306   \n",
       "52 2024-12-01  118361.299854  109861.912301  125937.589304  118357.646229   \n",
       "53 2025-01-01  120566.383440  111436.824914  127243.588565  120562.259347   \n",
       "54 2025-02-01  122771.467027  112067.456542  128016.397610  122766.774521   \n",
       "55 2025-03-01  124763.155428  116865.964440  132772.224956  124758.187723   \n",
       "56 2025-04-01  126968.239015  113598.258170  129792.569221  126962.724172   \n",
       "57 2025-05-01  129102.190873  121284.046338  138115.974185  129096.263702   \n",
       "58 2025-06-01  131307.274459  117355.078418  132888.363930  131300.818750   \n",
       "59 2025-07-01  133441.226318  128276.054760  143895.428691  133434.162671   \n",
       "\n",
       "      trend_upper  additive_terms  additive_terms_lower  additive_terms_upper  \\\n",
       "50  114025.066214    -2961.722626          -2961.722626          -2961.722626   \n",
       "51  116230.615134     5247.010506           5247.010506           5247.010506   \n",
       "52  118365.044783     -541.403187           -541.403187           -541.403187   \n",
       "53  120570.593511    -1583.784547          -1583.784547          -1583.784547   \n",
       "54  122776.213671    -2660.929818          -2660.929818          -2660.929818   \n",
       "55  124768.413813     -121.372879           -121.372879           -121.372879   \n",
       "56  126973.997464    -5091.645730          -5091.645730          -5091.645730   \n",
       "57  129108.520624      798.571038            798.571038            798.571038   \n",
       "58  131314.081025    -6449.014143          -6449.014143          -6449.014143   \n",
       "59  133448.663249     2635.974859           2635.974859           2635.974859   \n",
       "\n",
       "         yearly  yearly_lower  yearly_upper  multiplicative_terms  \\\n",
       "50 -2961.722626  -2961.722626  -2961.722626                   0.0   \n",
       "51  5247.010506   5247.010506   5247.010506                   0.0   \n",
       "52  -541.403187   -541.403187   -541.403187                   0.0   \n",
       "53 -1583.784547  -1583.784547  -1583.784547                   0.0   \n",
       "54 -2660.929818  -2660.929818  -2660.929818                   0.0   \n",
       "55  -121.372879   -121.372879   -121.372879                   0.0   \n",
       "56 -5091.645730  -5091.645730  -5091.645730                   0.0   \n",
       "57   798.571038    798.571038    798.571038                   0.0   \n",
       "58 -6449.014143  -6449.014143  -6449.014143                   0.0   \n",
       "59  2635.974859   2635.974859   2635.974859                   0.0   \n",
       "\n",
       "    multiplicative_terms_lower  multiplicative_terms_upper           yhat  \n",
       "50                         0.0                         0.0  111060.541783  \n",
       "51                         0.0                         0.0  121474.358502  \n",
       "52                         0.0                         0.0  117819.896666  \n",
       "53                         0.0                         0.0  118982.598894  \n",
       "54                         0.0                         0.0  120110.537209  \n",
       "55                         0.0                         0.0  124641.782549  \n",
       "56                         0.0                         0.0  121876.593284  \n",
       "57                         0.0                         0.0  129900.761910  \n",
       "58                         0.0                         0.0  124858.260317  \n",
       "59                         0.0                         0.0  136077.201177  "
      ],
      "text/html": [
       "<div>\n",
       "<style scoped>\n",
       "    .dataframe tbody tr th:only-of-type {\n",
       "        vertical-align: middle;\n",
       "    }\n",
       "\n",
       "    .dataframe tbody tr th {\n",
       "        vertical-align: top;\n",
       "    }\n",
       "\n",
       "    .dataframe thead th {\n",
       "        text-align: right;\n",
       "    }\n",
       "</style>\n",
       "<table border=\"1\" class=\"dataframe\">\n",
       "  <thead>\n",
       "    <tr style=\"text-align: right;\">\n",
       "      <th></th>\n",
       "      <th>ds</th>\n",
       "      <th>trend</th>\n",
       "      <th>yhat_lower</th>\n",
       "      <th>yhat_upper</th>\n",
       "      <th>trend_lower</th>\n",
       "      <th>trend_upper</th>\n",
       "      <th>additive_terms</th>\n",
       "      <th>additive_terms_lower</th>\n",
       "      <th>additive_terms_upper</th>\n",
       "      <th>yearly</th>\n",
       "      <th>yearly_lower</th>\n",
       "      <th>yearly_upper</th>\n",
       "      <th>multiplicative_terms</th>\n",
       "      <th>multiplicative_terms_lower</th>\n",
       "      <th>multiplicative_terms_upper</th>\n",
       "      <th>yhat</th>\n",
       "    </tr>\n",
       "  </thead>\n",
       "  <tbody>\n",
       "    <tr>\n",
       "      <th>50</th>\n",
       "      <td>2024-10-01</td>\n",
       "      <td>114022.264409</td>\n",
       "      <td>102981.980000</td>\n",
       "      <td>118687.092451</td>\n",
       "      <td>114019.457031</td>\n",
       "      <td>114025.066214</td>\n",
       "      <td>-2961.722626</td>\n",
       "      <td>-2961.722626</td>\n",
       "      <td>-2961.722626</td>\n",
       "      <td>-2961.722626</td>\n",
       "      <td>-2961.722626</td>\n",
       "      <td>-2961.722626</td>\n",
       "      <td>0.0</td>\n",
       "      <td>0.0</td>\n",
       "      <td>0.0</td>\n",
       "      <td>111060.541783</td>\n",
       "    </tr>\n",
       "    <tr>\n",
       "      <th>51</th>\n",
       "      <td>2024-11-01</td>\n",
       "      <td>116227.347996</td>\n",
       "      <td>113982.274438</td>\n",
       "      <td>129784.068782</td>\n",
       "      <td>116224.137306</td>\n",
       "      <td>116230.615134</td>\n",
       "      <td>5247.010506</td>\n",
       "      <td>5247.010506</td>\n",
       "      <td>5247.010506</td>\n",
       "      <td>5247.010506</td>\n",
       "      <td>5247.010506</td>\n",
       "      <td>5247.010506</td>\n",
       "      <td>0.0</td>\n",
       "      <td>0.0</td>\n",
       "      <td>0.0</td>\n",
       "      <td>121474.358502</td>\n",
       "    </tr>\n",
       "    <tr>\n",
       "      <th>52</th>\n",
       "      <td>2024-12-01</td>\n",
       "      <td>118361.299854</td>\n",
       "      <td>109861.912301</td>\n",
       "      <td>125937.589304</td>\n",
       "      <td>118357.646229</td>\n",
       "      <td>118365.044783</td>\n",
       "      <td>-541.403187</td>\n",
       "      <td>-541.403187</td>\n",
       "      <td>-541.403187</td>\n",
       "      <td>-541.403187</td>\n",
       "      <td>-541.403187</td>\n",
       "      <td>-541.403187</td>\n",
       "      <td>0.0</td>\n",
       "      <td>0.0</td>\n",
       "      <td>0.0</td>\n",
       "      <td>117819.896666</td>\n",
       "    </tr>\n",
       "    <tr>\n",
       "      <th>53</th>\n",
       "      <td>2025-01-01</td>\n",
       "      <td>120566.383440</td>\n",
       "      <td>111436.824914</td>\n",
       "      <td>127243.588565</td>\n",
       "      <td>120562.259347</td>\n",
       "      <td>120570.593511</td>\n",
       "      <td>-1583.784547</td>\n",
       "      <td>-1583.784547</td>\n",
       "      <td>-1583.784547</td>\n",
       "      <td>-1583.784547</td>\n",
       "      <td>-1583.784547</td>\n",
       "      <td>-1583.784547</td>\n",
       "      <td>0.0</td>\n",
       "      <td>0.0</td>\n",
       "      <td>0.0</td>\n",
       "      <td>118982.598894</td>\n",
       "    </tr>\n",
       "    <tr>\n",
       "      <th>54</th>\n",
       "      <td>2025-02-01</td>\n",
       "      <td>122771.467027</td>\n",
       "      <td>112067.456542</td>\n",
       "      <td>128016.397610</td>\n",
       "      <td>122766.774521</td>\n",
       "      <td>122776.213671</td>\n",
       "      <td>-2660.929818</td>\n",
       "      <td>-2660.929818</td>\n",
       "      <td>-2660.929818</td>\n",
       "      <td>-2660.929818</td>\n",
       "      <td>-2660.929818</td>\n",
       "      <td>-2660.929818</td>\n",
       "      <td>0.0</td>\n",
       "      <td>0.0</td>\n",
       "      <td>0.0</td>\n",
       "      <td>120110.537209</td>\n",
       "    </tr>\n",
       "    <tr>\n",
       "      <th>55</th>\n",
       "      <td>2025-03-01</td>\n",
       "      <td>124763.155428</td>\n",
       "      <td>116865.964440</td>\n",
       "      <td>132772.224956</td>\n",
       "      <td>124758.187723</td>\n",
       "      <td>124768.413813</td>\n",
       "      <td>-121.372879</td>\n",
       "      <td>-121.372879</td>\n",
       "      <td>-121.372879</td>\n",
       "      <td>-121.372879</td>\n",
       "      <td>-121.372879</td>\n",
       "      <td>-121.372879</td>\n",
       "      <td>0.0</td>\n",
       "      <td>0.0</td>\n",
       "      <td>0.0</td>\n",
       "      <td>124641.782549</td>\n",
       "    </tr>\n",
       "    <tr>\n",
       "      <th>56</th>\n",
       "      <td>2025-04-01</td>\n",
       "      <td>126968.239015</td>\n",
       "      <td>113598.258170</td>\n",
       "      <td>129792.569221</td>\n",
       "      <td>126962.724172</td>\n",
       "      <td>126973.997464</td>\n",
       "      <td>-5091.645730</td>\n",
       "      <td>-5091.645730</td>\n",
       "      <td>-5091.645730</td>\n",
       "      <td>-5091.645730</td>\n",
       "      <td>-5091.645730</td>\n",
       "      <td>-5091.645730</td>\n",
       "      <td>0.0</td>\n",
       "      <td>0.0</td>\n",
       "      <td>0.0</td>\n",
       "      <td>121876.593284</td>\n",
       "    </tr>\n",
       "    <tr>\n",
       "      <th>57</th>\n",
       "      <td>2025-05-01</td>\n",
       "      <td>129102.190873</td>\n",
       "      <td>121284.046338</td>\n",
       "      <td>138115.974185</td>\n",
       "      <td>129096.263702</td>\n",
       "      <td>129108.520624</td>\n",
       "      <td>798.571038</td>\n",
       "      <td>798.571038</td>\n",
       "      <td>798.571038</td>\n",
       "      <td>798.571038</td>\n",
       "      <td>798.571038</td>\n",
       "      <td>798.571038</td>\n",
       "      <td>0.0</td>\n",
       "      <td>0.0</td>\n",
       "      <td>0.0</td>\n",
       "      <td>129900.761910</td>\n",
       "    </tr>\n",
       "    <tr>\n",
       "      <th>58</th>\n",
       "      <td>2025-06-01</td>\n",
       "      <td>131307.274459</td>\n",
       "      <td>117355.078418</td>\n",
       "      <td>132888.363930</td>\n",
       "      <td>131300.818750</td>\n",
       "      <td>131314.081025</td>\n",
       "      <td>-6449.014143</td>\n",
       "      <td>-6449.014143</td>\n",
       "      <td>-6449.014143</td>\n",
       "      <td>-6449.014143</td>\n",
       "      <td>-6449.014143</td>\n",
       "      <td>-6449.014143</td>\n",
       "      <td>0.0</td>\n",
       "      <td>0.0</td>\n",
       "      <td>0.0</td>\n",
       "      <td>124858.260317</td>\n",
       "    </tr>\n",
       "    <tr>\n",
       "      <th>59</th>\n",
       "      <td>2025-07-01</td>\n",
       "      <td>133441.226318</td>\n",
       "      <td>128276.054760</td>\n",
       "      <td>143895.428691</td>\n",
       "      <td>133434.162671</td>\n",
       "      <td>133448.663249</td>\n",
       "      <td>2635.974859</td>\n",
       "      <td>2635.974859</td>\n",
       "      <td>2635.974859</td>\n",
       "      <td>2635.974859</td>\n",
       "      <td>2635.974859</td>\n",
       "      <td>2635.974859</td>\n",
       "      <td>0.0</td>\n",
       "      <td>0.0</td>\n",
       "      <td>0.0</td>\n",
       "      <td>136077.201177</td>\n",
       "    </tr>\n",
       "  </tbody>\n",
       "</table>\n",
       "</div>"
      ]
     },
     "execution_count": 10,
     "metadata": {},
     "output_type": "execute_result"
    }
   ],
   "execution_count": 10
  },
  {
   "metadata": {
    "ExecuteTime": {
     "end_time": "2024-11-30T22:24:54.789144Z",
     "start_time": "2024-11-30T22:24:54.785478Z"
    }
   },
   "cell_type": "code",
   "source": "test.columns\n",
   "id": "6eb38a487f3404a8",
   "outputs": [
    {
     "data": {
      "text/plain": [
       "Index(['ds', 'y'], dtype='object')"
      ]
     },
     "execution_count": 11,
     "metadata": {},
     "output_type": "execute_result"
    }
   ],
   "execution_count": 11
  },
  {
   "metadata": {
    "ExecuteTime": {
     "end_time": "2024-11-30T22:24:55.276502Z",
     "start_time": "2024-11-30T22:24:55.270801Z"
    }
   },
   "cell_type": "code",
   "source": [
    "y_pred_df_uni = forecast_uni[forecast_uni['ds'] >= split_date][['ds', 'yhat']]\n",
    "print(y_pred_df_uni.head())"
   ],
   "id": "9ce7f6a5d3d3284f",
   "outputs": [
    {
     "name": "stdout",
     "output_type": "stream",
     "text": [
      "           ds          yhat\n",
      "40 2023-12-01  82075.118806\n",
      "41 2024-01-01  95357.834873\n",
      "42 2024-02-01  94477.323306\n",
      "43 2024-03-01  95155.890784\n",
      "44 2024-04-01  99231.779232\n"
     ]
    }
   ],
   "execution_count": 12
  },
  {
   "metadata": {
    "ExecuteTime": {
     "end_time": "2024-11-30T22:24:56.556594Z",
     "start_time": "2024-11-30T22:24:55.740882Z"
    }
   },
   "cell_type": "code",
   "source": [
    "\n",
    "result = pd.merge(test, y_pred_df_uni, how='inner')\n",
    "\n",
    "result.shape"
   ],
   "id": "7cae71afb9a29c99",
   "outputs": [
    {
     "ename": "ValueError",
     "evalue": "You are trying to merge on object and datetime64[ns] columns for key 'ds'. If you wish to proceed you should use pd.concat",
     "output_type": "error",
     "traceback": [
      "\u001B[0;31m---------------------------------------------------------------------------\u001B[0m",
      "\u001B[0;31mValueError\u001B[0m                                Traceback (most recent call last)",
      "Cell \u001B[0;32mIn[13], line 1\u001B[0m\n\u001B[0;32m----> 1\u001B[0m result \u001B[38;5;241m=\u001B[39m pd\u001B[38;5;241m.\u001B[39mmerge(test, y_pred_df_uni, how\u001B[38;5;241m=\u001B[39m\u001B[38;5;124m'\u001B[39m\u001B[38;5;124minner\u001B[39m\u001B[38;5;124m'\u001B[39m)\n\u001B[1;32m      3\u001B[0m result\u001B[38;5;241m.\u001B[39mshape\n",
      "File \u001B[0;32m~/opt/anaconda3/envs/LauzHack/lib/python3.11/site-packages/pandas/core/reshape/merge.py:170\u001B[0m, in \u001B[0;36mmerge\u001B[0;34m(left, right, how, on, left_on, right_on, left_index, right_index, sort, suffixes, copy, indicator, validate)\u001B[0m\n\u001B[1;32m    155\u001B[0m     \u001B[38;5;28;01mreturn\u001B[39;00m _cross_merge(\n\u001B[1;32m    156\u001B[0m         left_df,\n\u001B[1;32m    157\u001B[0m         right_df,\n\u001B[0;32m   (...)\u001B[0m\n\u001B[1;32m    167\u001B[0m         copy\u001B[38;5;241m=\u001B[39mcopy,\n\u001B[1;32m    168\u001B[0m     )\n\u001B[1;32m    169\u001B[0m \u001B[38;5;28;01melse\u001B[39;00m:\n\u001B[0;32m--> 170\u001B[0m     op \u001B[38;5;241m=\u001B[39m _MergeOperation(\n\u001B[1;32m    171\u001B[0m         left_df,\n\u001B[1;32m    172\u001B[0m         right_df,\n\u001B[1;32m    173\u001B[0m         how\u001B[38;5;241m=\u001B[39mhow,\n\u001B[1;32m    174\u001B[0m         on\u001B[38;5;241m=\u001B[39mon,\n\u001B[1;32m    175\u001B[0m         left_on\u001B[38;5;241m=\u001B[39mleft_on,\n\u001B[1;32m    176\u001B[0m         right_on\u001B[38;5;241m=\u001B[39mright_on,\n\u001B[1;32m    177\u001B[0m         left_index\u001B[38;5;241m=\u001B[39mleft_index,\n\u001B[1;32m    178\u001B[0m         right_index\u001B[38;5;241m=\u001B[39mright_index,\n\u001B[1;32m    179\u001B[0m         sort\u001B[38;5;241m=\u001B[39msort,\n\u001B[1;32m    180\u001B[0m         suffixes\u001B[38;5;241m=\u001B[39msuffixes,\n\u001B[1;32m    181\u001B[0m         indicator\u001B[38;5;241m=\u001B[39mindicator,\n\u001B[1;32m    182\u001B[0m         validate\u001B[38;5;241m=\u001B[39mvalidate,\n\u001B[1;32m    183\u001B[0m     )\n\u001B[1;32m    184\u001B[0m     \u001B[38;5;28;01mreturn\u001B[39;00m op\u001B[38;5;241m.\u001B[39mget_result(copy\u001B[38;5;241m=\u001B[39mcopy)\n",
      "File \u001B[0;32m~/opt/anaconda3/envs/LauzHack/lib/python3.11/site-packages/pandas/core/reshape/merge.py:807\u001B[0m, in \u001B[0;36m_MergeOperation.__init__\u001B[0;34m(self, left, right, how, on, left_on, right_on, left_index, right_index, sort, suffixes, indicator, validate)\u001B[0m\n\u001B[1;32m    803\u001B[0m \u001B[38;5;28mself\u001B[39m\u001B[38;5;241m.\u001B[39m_validate_tolerance(\u001B[38;5;28mself\u001B[39m\u001B[38;5;241m.\u001B[39mleft_join_keys)\n\u001B[1;32m    805\u001B[0m \u001B[38;5;66;03m# validate the merge keys dtypes. We may need to coerce\u001B[39;00m\n\u001B[1;32m    806\u001B[0m \u001B[38;5;66;03m# to avoid incompatible dtypes\u001B[39;00m\n\u001B[0;32m--> 807\u001B[0m \u001B[38;5;28mself\u001B[39m\u001B[38;5;241m.\u001B[39m_maybe_coerce_merge_keys()\n\u001B[1;32m    809\u001B[0m \u001B[38;5;66;03m# If argument passed to validate,\u001B[39;00m\n\u001B[1;32m    810\u001B[0m \u001B[38;5;66;03m# check if columns specified as unique\u001B[39;00m\n\u001B[1;32m    811\u001B[0m \u001B[38;5;66;03m# are in fact unique.\u001B[39;00m\n\u001B[1;32m    812\u001B[0m \u001B[38;5;28;01mif\u001B[39;00m validate \u001B[38;5;129;01mis\u001B[39;00m \u001B[38;5;129;01mnot\u001B[39;00m \u001B[38;5;28;01mNone\u001B[39;00m:\n",
      "File \u001B[0;32m~/opt/anaconda3/envs/LauzHack/lib/python3.11/site-packages/pandas/core/reshape/merge.py:1514\u001B[0m, in \u001B[0;36m_MergeOperation._maybe_coerce_merge_keys\u001B[0;34m(self)\u001B[0m\n\u001B[1;32m   1512\u001B[0m     \u001B[38;5;28;01mraise\u001B[39;00m \u001B[38;5;167;01mValueError\u001B[39;00m(msg)\n\u001B[1;32m   1513\u001B[0m \u001B[38;5;28;01melif\u001B[39;00m \u001B[38;5;129;01mnot\u001B[39;00m needs_i8_conversion(lk\u001B[38;5;241m.\u001B[39mdtype) \u001B[38;5;129;01mand\u001B[39;00m needs_i8_conversion(rk\u001B[38;5;241m.\u001B[39mdtype):\n\u001B[0;32m-> 1514\u001B[0m     \u001B[38;5;28;01mraise\u001B[39;00m \u001B[38;5;167;01mValueError\u001B[39;00m(msg)\n\u001B[1;32m   1515\u001B[0m \u001B[38;5;28;01melif\u001B[39;00m \u001B[38;5;28misinstance\u001B[39m(lk\u001B[38;5;241m.\u001B[39mdtype, DatetimeTZDtype) \u001B[38;5;129;01mand\u001B[39;00m \u001B[38;5;129;01mnot\u001B[39;00m \u001B[38;5;28misinstance\u001B[39m(\n\u001B[1;32m   1516\u001B[0m     rk\u001B[38;5;241m.\u001B[39mdtype, DatetimeTZDtype\n\u001B[1;32m   1517\u001B[0m ):\n\u001B[1;32m   1518\u001B[0m     \u001B[38;5;28;01mraise\u001B[39;00m \u001B[38;5;167;01mValueError\u001B[39;00m(msg)\n",
      "\u001B[0;31mValueError\u001B[0m: You are trying to merge on object and datetime64[ns] columns for key 'ds'. If you wish to proceed you should use pd.concat"
     ]
    }
   ],
   "execution_count": 13
  },
  {
   "metadata": {
    "ExecuteTime": {
     "end_time": "2024-11-30T22:24:56.640127Z",
     "start_time": "2024-11-30T22:09:47.643211Z"
    }
   },
   "cell_type": "code",
   "source": [
    "#calculate rmse and mae\n",
    "rmse = np.sqrt(np.mean((result['y']-result['yhat'])**2))\n",
    "mae = (np.mean(np.abs(result['y']-result['yhat'])))\n",
    "\n",
    "print(f\"RMSE from Univariate Analysis is : {rmse}\")\n",
    "print(f\"MAE from Univariate Analysis is : {mae}\")"
   ],
   "id": "475177e52e5f15de",
   "outputs": [
    {
     "name": "stdout",
     "output_type": "stream",
     "text": [
      "RMSE from Univariate Analysis is : 32031.434713652572\n",
      "MAE from Univariate Analysis is : 22610.978510026198\n"
     ]
    }
   ],
   "execution_count": 192
  },
  {
   "metadata": {
    "ExecuteTime": {
     "end_time": "2024-11-30T22:24:56.640485Z",
     "start_time": "2024-11-30T22:09:48.168184Z"
    }
   },
   "cell_type": "code",
   "source": "result.set_index('ds').plot()\n",
   "id": "6c8209f29f27c432",
   "outputs": [
    {
     "data": {
      "text/plain": [
       "<Axes: xlabel='ds'>"
      ]
     },
     "execution_count": 193,
     "metadata": {},
     "output_type": "execute_result"
    },
    {
     "data": {
      "text/plain": [
       "<Figure size 640x480 with 1 Axes>"
      ],
      "image/png": "[encoded data removed]"
     },
     "metadata": {},
     "output_type": "display_data"
    }
   ],
   "execution_count": 193
  },
  {
   "metadata": {
    "ExecuteTime": {
     "end_time": "2024-11-30T22:24:57.298828Z",
     "start_time": "2024-11-30T22:24:57.247928Z"
    }
   },
   "cell_type": "code",
   "source": [
    "# Making predictions on the validation set\n",
    "future_uni = uni_model.make_future_dataframe(periods=20, freq='MS')\n",
    "forecast_uni = uni_model.predict(future_uni)\n",
    "forecast_uni.tail(10)"
   ],
   "id": "1ddfe05ad89d97e7",
   "outputs": [
    {
     "data": {
      "text/plain": [
       "           ds          trend     yhat_lower     yhat_upper    trend_lower  \\\n",
       "50 2024-10-01  114022.264409  102835.130018  119932.108336  114019.131582   \n",
       "51 2024-11-01  116227.347996  113623.686174  129522.024546  116223.851279   \n",
       "52 2024-12-01  118361.299854  109434.471690  125545.191500  118357.322696   \n",
       "53 2025-01-01  120566.383440  110800.712062  127271.920328  120561.963273   \n",
       "54 2025-02-01  122771.467027  112054.294798  128477.965789  122766.471510   \n",
       "55 2025-03-01  124763.155428  116624.457386  132372.100416  124757.656684   \n",
       "56 2025-04-01  126968.239015  113419.824506  129785.381205  126962.211816   \n",
       "57 2025-05-01  129102.190873  122010.937048  138505.652498  129095.586180   \n",
       "58 2025-06-01  131307.274459  116868.347169  133157.403851  131300.089261   \n",
       "59 2025-07-01  133441.226318  127737.296665  143911.762726  133433.554209   \n",
       "\n",
       "      trend_upper  additive_terms  additive_terms_lower  additive_terms_upper  \\\n",
       "50  114025.497371    -2961.722626          -2961.722626          -2961.722626   \n",
       "51  116231.042897     5247.010506           5247.010506           5247.010506   \n",
       "52  118365.496900     -541.403187           -541.403187           -541.403187   \n",
       "53  120571.010745    -1583.784547          -1583.784547          -1583.784547   \n",
       "54  122776.675305    -2660.929818          -2660.929818          -2660.929818   \n",
       "55  124768.947678     -121.372879           -121.372879           -121.372879   \n",
       "56  126974.618002    -5091.645730          -5091.645730          -5091.645730   \n",
       "57  129109.044533      798.571038            798.571038            798.571038   \n",
       "58  131314.698471    -6449.014143          -6449.014143          -6449.014143   \n",
       "59  133449.066028     2635.974859           2635.974859           2635.974859   \n",
       "\n",
       "         yearly  yearly_lower  yearly_upper  multiplicative_terms  \\\n",
       "50 -2961.722626  -2961.722626  -2961.722626                   0.0   \n",
       "51  5247.010506   5247.010506   5247.010506                   0.0   \n",
       "52  -541.403187   -541.403187   -541.403187                   0.0   \n",
       "53 -1583.784547  -1583.784547  -1583.784547                   0.0   \n",
       "54 -2660.929818  -2660.929818  -2660.929818                   0.0   \n",
       "55  -121.372879   -121.372879   -121.372879                   0.0   \n",
       "56 -5091.645730  -5091.645730  -5091.645730                   0.0   \n",
       "57   798.571038    798.571038    798.571038                   0.0   \n",
       "58 -6449.014143  -6449.014143  -6449.014143                   0.0   \n",
       "59  2635.974859   2635.974859   2635.974859                   0.0   \n",
       "\n",
       "    multiplicative_terms_lower  multiplicative_terms_upper           yhat  \n",
       "50                         0.0                         0.0  111060.541783  \n",
       "51                         0.0                         0.0  121474.358502  \n",
       "52                         0.0                         0.0  117819.896666  \n",
       "53                         0.0                         0.0  118982.598894  \n",
       "54                         0.0                         0.0  120110.537209  \n",
       "55                         0.0                         0.0  124641.782549  \n",
       "56                         0.0                         0.0  121876.593284  \n",
       "57                         0.0                         0.0  129900.761910  \n",
       "58                         0.0                         0.0  124858.260317  \n",
       "59                         0.0                         0.0  136077.201177  "
      ],
      "text/html": [
       "<div>\n",
       "<style scoped>\n",
       "    .dataframe tbody tr th:only-of-type {\n",
       "        vertical-align: middle;\n",
       "    }\n",
       "\n",
       "    .dataframe tbody tr th {\n",
       "        vertical-align: top;\n",
       "    }\n",
       "\n",
       "    .dataframe thead th {\n",
       "        text-align: right;\n",
       "    }\n",
       "</style>\n",
       "<table border=\"1\" class=\"dataframe\">\n",
       "  <thead>\n",
       "    <tr style=\"text-align: right;\">\n",
       "      <th></th>\n",
       "      <th>ds</th>\n",
       "      <th>trend</th>\n",
       "      <th>yhat_lower</th>\n",
       "      <th>yhat_upper</th>\n",
       "      <th>trend_lower</th>\n",
       "      <th>trend_upper</th>\n",
       "      <th>additive_terms</th>\n",
       "      <th>additive_terms_lower</th>\n",
       "      <th>additive_terms_upper</th>\n",
       "      <th>yearly</th>\n",
       "      <th>yearly_lower</th>\n",
       "      <th>yearly_upper</th>\n",
       "      <th>multiplicative_terms</th>\n",
       "      <th>multiplicative_terms_lower</th>\n",
       "      <th>multiplicative_terms_upper</th>\n",
       "      <th>yhat</th>\n",
       "    </tr>\n",
       "  </thead>\n",
       "  <tbody>\n",
       "    <tr>\n",
       "      <th>50</th>\n",
       "      <td>2024-10-01</td>\n",
       "      <td>114022.264409</td>\n",
       "      <td>102835.130018</td>\n",
       "      <td>119932.108336</td>\n",
       "      <td>114019.131582</td>\n",
       "      <td>114025.497371</td>\n",
       "      <td>-2961.722626</td>\n",
       "      <td>-2961.722626</td>\n",
       "      <td>-2961.722626</td>\n",
       "      <td>-2961.722626</td>\n",
       "      <td>-2961.722626</td>\n",
       "      <td>-2961.722626</td>\n",
       "      <td>0.0</td>\n",
       "      <td>0.0</td>\n",
       "      <td>0.0</td>\n",
       "      <td>111060.541783</td>\n",
       "    </tr>\n",
       "    <tr>\n",
       "      <th>51</th>\n",
       "      <td>2024-11-01</td>\n",
       "      <td>116227.347996</td>\n",
       "      <td>113623.686174</td>\n",
       "      <td>129522.024546</td>\n",
       "      <td>116223.851279</td>\n",
       "      <td>116231.042897</td>\n",
       "      <td>5247.010506</td>\n",
       "      <td>5247.010506</td>\n",
       "      <td>5247.010506</td>\n",
       "      <td>5247.010506</td>\n",
       "      <td>5247.010506</td>\n",
       "      <td>5247.010506</td>\n",
       "      <td>0.0</td>\n",
       "      <td>0.0</td>\n",
       "      <td>0.0</td>\n",
       "      <td>121474.358502</td>\n",
       "    </tr>\n",
       "    <tr>\n",
       "      <th>52</th>\n",
       "      <td>2024-12-01</td>\n",
       "      <td>118361.299854</td>\n",
       "      <td>109434.471690</td>\n",
       "      <td>125545.191500</td>\n",
       "      <td>118357.322696</td>\n",
       "      <td>118365.496900</td>\n",
       "      <td>-541.403187</td>\n",
       "      <td>-541.403187</td>\n",
       "      <td>-541.403187</td>\n",
       "      <td>-541.403187</td>\n",
       "      <td>-541.403187</td>\n",
       "      <td>-541.403187</td>\n",
       "      <td>0.0</td>\n",
       "      <td>0.0</td>\n",
       "      <td>0.0</td>\n",
       "      <td>117819.896666</td>\n",
       "    </tr>\n",
       "    <tr>\n",
       "      <th>53</th>\n",
       "      <td>2025-01-01</td>\n",
       "      <td>120566.383440</td>\n",
       "      <td>110800.712062</td>\n",
       "      <td>127271.920328</td>\n",
       "      <td>120561.963273</td>\n",
       "      <td>120571.010745</td>\n",
       "      <td>-1583.784547</td>\n",
       "      <td>-1583.784547</td>\n",
       "      <td>-1583.784547</td>\n",
       "      <td>-1583.784547</td>\n",
       "      <td>-1583.784547</td>\n",
       "      <td>-1583.784547</td>\n",
       "      <td>0.0</td>\n",
       "      <td>0.0</td>\n",
       "      <td>0.0</td>\n",
       "      <td>118982.598894</td>\n",
       "    </tr>\n",
       "    <tr>\n",
       "      <th>54</th>\n",
       "      <td>2025-02-01</td>\n",
       "      <td>122771.467027</td>\n",
       "      <td>112054.294798</td>\n",
       "      <td>128477.965789</td>\n",
       "      <td>122766.471510</td>\n",
       "      <td>122776.675305</td>\n",
       "      <td>-2660.929818</td>\n",
       "      <td>-2660.929818</td>\n",
       "      <td>-2660.929818</td>\n",
       "      <td>-2660.929818</td>\n",
       "      <td>-2660.929818</td>\n",
       "      <td>-2660.929818</td>\n",
       "      <td>0.0</td>\n",
       "      <td>0.0</td>\n",
       "      <td>0.0</td>\n",
       "      <td>120110.537209</td>\n",
       "    </tr>\n",
       "    <tr>\n",
       "      <th>55</th>\n",
       "      <td>2025-03-01</td>\n",
       "      <td>124763.155428</td>\n",
       "      <td>116624.457386</td>\n",
       "      <td>132372.100416</td>\n",
       "      <td>124757.656684</td>\n",
       "      <td>124768.947678</td>\n",
       "      <td>-121.372879</td>\n",
       "      <td>-121.372879</td>\n",
       "      <td>-121.372879</td>\n",
       "      <td>-121.372879</td>\n",
       "      <td>-121.372879</td>\n",
       "      <td>-121.372879</td>\n",
       "      <td>0.0</td>\n",
       "      <td>0.0</td>\n",
       "      <td>0.0</td>\n",
       "      <td>124641.782549</td>\n",
       "    </tr>\n",
       "    <tr>\n",
       "      <th>56</th>\n",
       "      <td>2025-04-01</td>\n",
       "      <td>126968.239015</td>\n",
       "      <td>113419.824506</td>\n",
       "      <td>129785.381205</td>\n",
       "      <td>126962.211816</td>\n",
       "      <td>126974.618002</td>\n",
       "      <td>-5091.645730</td>\n",
       "      <td>-5091.645730</td>\n",
       "      <td>-5091.645730</td>\n",
       "      <td>-5091.645730</td>\n",
       "      <td>-5091.645730</td>\n",
       "      <td>-5091.645730</td>\n",
       "      <td>0.0</td>\n",
       "      <td>0.0</td>\n",
       "      <td>0.0</td>\n",
       "      <td>121876.593284</td>\n",
       "    </tr>\n",
       "    <tr>\n",
       "      <th>57</th>\n",
       "      <td>2025-05-01</td>\n",
       "      <td>129102.190873</td>\n",
       "      <td>122010.937048</td>\n",
       "      <td>138505.652498</td>\n",
       "      <td>129095.586180</td>\n",
       "      <td>129109.044533</td>\n",
       "      <td>798.571038</td>\n",
       "      <td>798.571038</td>\n",
       "      <td>798.571038</td>\n",
       "      <td>798.571038</td>\n",
       "      <td>798.571038</td>\n",
       "      <td>798.571038</td>\n",
       "      <td>0.0</td>\n",
       "      <td>0.0</td>\n",
       "      <td>0.0</td>\n",
       "      <td>129900.761910</td>\n",
       "    </tr>\n",
       "    <tr>\n",
       "      <th>58</th>\n",
       "      <td>2025-06-01</td>\n",
       "      <td>131307.274459</td>\n",
       "      <td>116868.347169</td>\n",
       "      <td>133157.403851</td>\n",
       "      <td>131300.089261</td>\n",
       "      <td>131314.698471</td>\n",
       "      <td>-6449.014143</td>\n",
       "      <td>-6449.014143</td>\n",
       "      <td>-6449.014143</td>\n",
       "      <td>-6449.014143</td>\n",
       "      <td>-6449.014143</td>\n",
       "      <td>-6449.014143</td>\n",
       "      <td>0.0</td>\n",
       "      <td>0.0</td>\n",
       "      <td>0.0</td>\n",
       "      <td>124858.260317</td>\n",
       "    </tr>\n",
       "    <tr>\n",
       "      <th>59</th>\n",
       "      <td>2025-07-01</td>\n",
       "      <td>133441.226318</td>\n",
       "      <td>127737.296665</td>\n",
       "      <td>143911.762726</td>\n",
       "      <td>133433.554209</td>\n",
       "      <td>133449.066028</td>\n",
       "      <td>2635.974859</td>\n",
       "      <td>2635.974859</td>\n",
       "      <td>2635.974859</td>\n",
       "      <td>2635.974859</td>\n",
       "      <td>2635.974859</td>\n",
       "      <td>2635.974859</td>\n",
       "      <td>0.0</td>\n",
       "      <td>0.0</td>\n",
       "      <td>0.0</td>\n",
       "      <td>136077.201177</td>\n",
       "    </tr>\n",
       "  </tbody>\n",
       "</table>\n",
       "</div>"
      ]
     },
     "execution_count": 14,
     "metadata": {},
     "output_type": "execute_result"
    }
   ],
   "execution_count": 14
  },
  {
   "metadata": {
    "ExecuteTime": {
     "end_time": "2024-11-30T22:25:07.430280Z",
     "start_time": "2024-11-30T22:25:07.420032Z"
    }
   },
   "cell_type": "code",
   "source": [
    "# Display the last 10 predictions\n",
    "print(forecast_uni[['ds', 'yhat', 'yhat_lower', 'yhat_upper']].tail(10))\n",
    "\n",
    "# If you want to filter and display only the new predicted dates (future periods):\n",
    "predicted_future = forecast_uni[forecast_uni['ds'] > test['ds'].max()]\n",
    "print(predicted_future[['ds', 'yhat', 'yhat_lower', 'yhat_upper']])\n"
   ],
   "id": "281356552b424615",
   "outputs": [
    {
     "name": "stdout",
     "output_type": "stream",
     "text": [
      "           ds           yhat     yhat_lower     yhat_upper\n",
      "50 2024-10-01  111060.541783  102835.130018  119932.108336\n",
      "51 2024-11-01  121474.358502  113623.686174  129522.024546\n",
      "52 2024-12-01  117819.896666  109434.471690  125545.191500\n",
      "53 2025-01-01  118982.598894  110800.712062  127271.920328\n",
      "54 2025-02-01  120110.537209  112054.294798  128477.965789\n",
      "55 2025-03-01  124641.782549  116624.457386  132372.100416\n",
      "56 2025-04-01  121876.593284  113419.824506  129785.381205\n",
      "57 2025-05-01  129900.761910  122010.937048  138505.652498\n",
      "58 2025-06-01  124858.260317  116868.347169  133157.403851\n",
      "59 2025-07-01  136077.201177  127737.296665  143911.762726\n",
      "           ds           yhat     yhat_lower     yhat_upper\n",
      "51 2024-11-01  121474.358502  113623.686174  129522.024546\n",
      "52 2024-12-01  117819.896666  109434.471690  125545.191500\n",
      "53 2025-01-01  118982.598894  110800.712062  127271.920328\n",
      "54 2025-02-01  120110.537209  112054.294798  128477.965789\n",
      "55 2025-03-01  124641.782549  116624.457386  132372.100416\n",
      "56 2025-04-01  121876.593284  113419.824506  129785.381205\n",
      "57 2025-05-01  129900.761910  122010.937048  138505.652498\n",
      "58 2025-06-01  124858.260317  116868.347169  133157.403851\n",
      "59 2025-07-01  136077.201177  127737.296665  143911.762726\n"
     ]
    }
   ],
   "execution_count": 15
  },
  {
   "metadata": {
    "ExecuteTime": {
     "end_time": "2024-11-30T22:25:08.154660Z",
     "start_time": "2024-11-30T22:25:07.922560Z"
    }
   },
   "cell_type": "code",
   "source": [
    "import matplotlib.pyplot as plt\n",
    "\n",
    "# Plot ds vs yhat\n",
    "plt.figure(figsize=(10, 6))\n",
    "plt.plot(forecast_uni['ds'], forecast_uni['yhat'], label='Predicted', color='blue')\n",
    "\n",
    "# Add labels, title, and legend\n",
    "plt.xlabel('Date')\n",
    "plt.ylabel('Predicted Value')\n",
    "plt.title('Predicted Values Over Time (yhat)')\n",
    "plt.legend()\n",
    "plt.grid(True)\n",
    "\n",
    "# Show the plot\n",
    "plt.show()"
   ],
   "id": "204a4e33f24785f8",
   "outputs": [
    {
     "data": {
      "text/plain": [
       "<Figure size 1000x600 with 1 Axes>"
      ],
      "image/png": "[encoded data removed]"
     },
     "metadata": {},
     "output_type": "display_data"
    }
   ],
   "execution_count": 16
  },
  {
   "metadata": {},
   "cell_type": "code",
   "outputs": [],
   "execution_count": null,
   "source": "",
   "id": "2afa1f298085b095"
  }
 ],
 "metadata": {
  "kernelspec": {
   "display_name": "Python 3",
   "language": "python",
   "name": "python3"
  },
  "language_info": {
   "codemirror_mode": {
    "name": "ipython",
    "version": 2
   },
   "file_extension": ".py",
   "mimetype": "text/x-python",
   "name": "python",
   "nbconvert_exporter": "python",
   "pygments_lexer": "ipython2",
   "version": "2.7.6"
  }
 },
 "nbformat": 4,
 "nbformat_minor": 5
}
