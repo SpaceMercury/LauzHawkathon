{
 "cells": [
  {
   "metadata": {
    "ExecuteTime": {
     "end_time": "2024-12-01T00:30:01.507815Z",
     "start_time": "2024-12-01T00:30:01.503739Z"
    }
   },
   "cell_type": "code",
   "source": [
    "import pandas as pd\n",
    "import numpy as np\n",
    "import seaborn as sns\n",
    "from prophet import Prophet \n",
    "from prophet.plot import plot_cross_validation_metric\n",
    "from prophet.diagnostics import performance_metrics, cross_validation"
   ],
   "id": "db4c9da0f7950bbd",
   "outputs": [],
   "execution_count": 25
  },
  {
   "metadata": {
    "ExecuteTime": {
     "end_time": "2024-12-01T00:32:10.629464Z",
     "start_time": "2024-12-01T00:32:10.620499Z"
    }
   },
   "cell_type": "code",
   "source": [
    "\n",
    "\n",
    "df = pd.read_csv('../clean_data/ex_factory_vols.csv')\n",
    "\n",
    "df.info()\n"
   ],
   "id": "db5e34d8cbbbd7eb",
   "outputs": [
    {
     "name": "stdout",
     "output_type": "stream",
     "text": [
      "<class 'pandas.core.frame.DataFrame'>\n",
      "RangeIndex: 51 entries, 0 to 50\n",
      "Data columns (total 6 columns):\n",
      " #   Column     Non-Null Count  Dtype  \n",
      "---  ------     --------------  -----  \n",
      " 0   Country    51 non-null     object \n",
      " 1   Data type  51 non-null     object \n",
      " 2   Measure    51 non-null     object \n",
      " 3   Product    51 non-null     object \n",
      " 4   Date       51 non-null     object \n",
      " 5   Value      51 non-null     float64\n",
      "dtypes: float64(1), object(5)\n",
      "memory usage: 2.5+ KB\n"
     ]
    }
   ],
   "execution_count": 47
  },
  {
   "metadata": {
    "ExecuteTime": {
     "end_time": "2024-12-01T00:32:11.254579Z",
     "start_time": "2024-12-01T00:32:11.252506Z"
    }
   },
   "cell_type": "code",
   "source": "",
   "id": "4d287f4393191f96",
   "outputs": [],
   "execution_count": null
  },
  {
   "metadata": {
    "ExecuteTime": {
     "end_time": "2024-12-01T00:32:11.626739Z",
     "start_time": "2024-12-01T00:32:11.623684Z"
    }
   },
   "cell_type": "code",
   "source": "df.index.min(), df.index.max()\n",
   "id": "a02df969fe21e163",
   "outputs": [
    {
     "data": {
      "text/plain": [
       "(0, 50)"
      ]
     },
     "execution_count": 48,
     "metadata": {},
     "output_type": "execute_result"
    }
   ],
   "execution_count": 48
  },
  {
   "metadata": {
    "ExecuteTime": {
     "end_time": "2024-12-01T00:32:12.105742Z",
     "start_time": "2024-12-01T00:32:12.103968Z"
    }
   },
   "cell_type": "code",
   "source": "",
   "id": "b8935ed2aa988d1e",
   "outputs": [],
   "execution_count": null
  },
  {
   "metadata": {
    "ExecuteTime": {
     "end_time": "2024-12-01T00:32:12.510665Z",
     "start_time": "2024-12-01T00:32:12.504370Z"
    }
   },
   "cell_type": "code",
   "source": [
    "# Preparing the data\n",
    "uni_data = df.reset_index()[['Date', 'Value']]\n",
    "uni_data = uni_data.rename(columns={'Date': 'ds', 'Value': 'y'})\n",
    "\n",
    "uni_data.info()\n"
   ],
   "id": "d752ecd882c7f8a",
   "outputs": [
    {
     "name": "stdout",
     "output_type": "stream",
     "text": [
      "<class 'pandas.core.frame.DataFrame'>\n",
      "RangeIndex: 51 entries, 0 to 50\n",
      "Data columns (total 2 columns):\n",
      " #   Column  Non-Null Count  Dtype  \n",
      "---  ------  --------------  -----  \n",
      " 0   ds      51 non-null     object \n",
      " 1   y       51 non-null     float64\n",
      "dtypes: float64(1), object(1)\n",
      "memory usage: 948.0+ bytes\n"
     ]
    }
   ],
   "execution_count": 49
  },
  {
   "metadata": {
    "ExecuteTime": {
     "end_time": "2024-12-01T00:32:13.855091Z",
     "start_time": "2024-12-01T00:32:13.851554Z"
    }
   },
   "cell_type": "code",
   "source": [
    "## preprocess data\n",
    "\n",
    "\n",
    "\n"
   ],
   "id": "761b517c7ad21066",
   "outputs": [],
   "execution_count": 50
  },
  {
   "metadata": {
    "ExecuteTime": {
     "end_time": "2024-12-01T00:32:14.941591Z",
     "start_time": "2024-12-01T00:32:14.936790Z"
    }
   },
   "cell_type": "code",
   "source": [
    "# Splitting the data into training and validation sets\n",
    "split_date = '2023-11-01' \n",
    "train = uni_data[uni_data['ds'] < split_date]\n",
    "test = uni_data[uni_data['ds'] >= split_date]\n",
    "\n",
    "print(f\"train shape : {train.shape} and test shape : {test.shape}\")"
   ],
   "id": "f934558c4a661e65",
   "outputs": [
    {
     "name": "stdout",
     "output_type": "stream",
     "text": [
      "train shape : (39, 2) and test shape : (12, 2)\n"
     ]
    }
   ],
   "execution_count": 51
  },
  {
   "metadata": {
    "ExecuteTime": {
     "end_time": "2024-12-01T00:32:20.443073Z",
     "start_time": "2024-12-01T00:32:20.244216Z"
    }
   },
   "cell_type": "code",
   "source": [
    "\n",
    "# Training the model\n",
    "uni_model = Prophet()\n",
    "uni_model.fit(train)"
   ],
   "id": "b03d93f6cd47fe26",
   "outputs": [
    {
     "name": "stderr",
     "output_type": "stream",
     "text": [
      "01:32:20 - cmdstanpy - INFO - Chain [1] start processing\n",
      "01:32:20 - cmdstanpy - INFO - Chain [1] done processing\n"
     ]
    },
    {
     "data": {
      "text/plain": [
       "<prophet.forecaster.Prophet at 0x132626d90>"
      ]
     },
     "execution_count": 52,
     "metadata": {},
     "output_type": "execute_result"
    }
   ],
   "execution_count": 52
  },
  {
   "metadata": {
    "ExecuteTime": {
     "end_time": "2024-12-01T00:32:21.822499Z",
     "start_time": "2024-12-01T00:32:21.776401Z"
    }
   },
   "cell_type": "code",
   "source": [
    "# Making predictions on the validation set\n",
    "future_uni = uni_model.make_future_dataframe(periods=20, freq='MS')\n",
    "forecast_uni = uni_model.predict(future_uni)"
   ],
   "id": "bc46373d54f8a17b",
   "outputs": [],
   "execution_count": 53
  },
  {
   "metadata": {
    "ExecuteTime": {
     "end_time": "2024-12-01T00:32:24.019349Z",
     "start_time": "2024-12-01T00:32:24.004421Z"
    }
   },
   "cell_type": "code",
   "source": "forecast_uni.tail(10)\n",
   "id": "5d5d77bd03b547f7",
   "outputs": [
    {
     "data": {
      "text/plain": [
       "           ds          trend     yhat_lower     yhat_upper    trend_lower  \\\n",
       "49 2024-09-01  110849.015458  103070.936679  119643.447841  110843.552022   \n",
       "50 2024-10-01  112952.276637  101303.052579  117479.714180  112946.038814   \n",
       "51 2024-11-01  115125.646522  113036.401079  129929.388083  115118.520027   \n",
       "52 2024-12-01  117228.907700  107845.667404  123806.508617  117220.759057   \n",
       "53 2025-01-01  119402.277585  109325.603885  124665.696151  119392.985703   \n",
       "54 2025-02-01  121575.647469  111146.629816  126095.275635  121565.427088   \n",
       "55 2025-03-01  123538.691236  115840.007478  131987.306011  123527.497195   \n",
       "56 2025-04-01  125712.061121  112985.598488  129094.737048  125699.552355   \n",
       "57 2025-05-01  127815.322299  120732.331372  136944.733347  127801.951510   \n",
       "58 2025-06-01  129988.692184  115874.575382  131855.814786  129974.385135   \n",
       "\n",
       "      trend_upper  additive_terms  additive_terms_lower  additive_terms_upper  \\\n",
       "49  110854.390469      452.226341            452.226341            452.226341   \n",
       "50  112958.322368    -3778.267853          -3778.267853          -3778.267853   \n",
       "51  115132.431174     6634.652949           6634.652949           6634.652949   \n",
       "52  117236.366532    -1382.749848          -1382.749848          -1382.749848   \n",
       "53  119410.615201    -2166.408645          -2166.408645          -2166.408645   \n",
       "54  121584.720840    -2849.600609          -2849.600609          -2849.600609   \n",
       "55  123548.691760       73.441063             73.441063             73.441063   \n",
       "56  125722.793205    -4657.583823          -4657.583823          -4657.583823   \n",
       "57  127827.170973     1288.332375           1288.332375           1288.332375   \n",
       "58  130001.617852    -6112.986476          -6112.986476          -6112.986476   \n",
       "\n",
       "         yearly  yearly_lower  yearly_upper  multiplicative_terms  \\\n",
       "49   452.226341    452.226341    452.226341                   0.0   \n",
       "50 -3778.267853  -3778.267853  -3778.267853                   0.0   \n",
       "51  6634.652949   6634.652949   6634.652949                   0.0   \n",
       "52 -1382.749848  -1382.749848  -1382.749848                   0.0   \n",
       "53 -2166.408645  -2166.408645  -2166.408645                   0.0   \n",
       "54 -2849.600609  -2849.600609  -2849.600609                   0.0   \n",
       "55    73.441063     73.441063     73.441063                   0.0   \n",
       "56 -4657.583823  -4657.583823  -4657.583823                   0.0   \n",
       "57  1288.332375   1288.332375   1288.332375                   0.0   \n",
       "58 -6112.986476  -6112.986476  -6112.986476                   0.0   \n",
       "\n",
       "    multiplicative_terms_lower  multiplicative_terms_upper           yhat  \n",
       "49                         0.0                         0.0  111301.241800  \n",
       "50                         0.0                         0.0  109174.008784  \n",
       "51                         0.0                         0.0  121760.299471  \n",
       "52                         0.0                         0.0  115846.157852  \n",
       "53                         0.0                         0.0  117235.868940  \n",
       "54                         0.0                         0.0  118726.046861  \n",
       "55                         0.0                         0.0  123612.132300  \n",
       "56                         0.0                         0.0  121054.477298  \n",
       "57                         0.0                         0.0  129103.654675  \n",
       "58                         0.0                         0.0  123875.705708  "
      ],
      "text/html": [
       "<div>\n",
       "<style scoped>\n",
       "    .dataframe tbody tr th:only-of-type {\n",
       "        vertical-align: middle;\n",
       "    }\n",
       "\n",
       "    .dataframe tbody tr th {\n",
       "        vertical-align: top;\n",
       "    }\n",
       "\n",
       "    .dataframe thead th {\n",
       "        text-align: right;\n",
       "    }\n",
       "</style>\n",
       "<table border=\"1\" class=\"dataframe\">\n",
       "  <thead>\n",
       "    <tr style=\"text-align: right;\">\n",
       "      <th></th>\n",
       "      <th>ds</th>\n",
       "      <th>trend</th>\n",
       "      <th>yhat_lower</th>\n",
       "      <th>yhat_upper</th>\n",
       "      <th>trend_lower</th>\n",
       "      <th>trend_upper</th>\n",
       "      <th>additive_terms</th>\n",
       "      <th>additive_terms_lower</th>\n",
       "      <th>additive_terms_upper</th>\n",
       "      <th>yearly</th>\n",
       "      <th>yearly_lower</th>\n",
       "      <th>yearly_upper</th>\n",
       "      <th>multiplicative_terms</th>\n",
       "      <th>multiplicative_terms_lower</th>\n",
       "      <th>multiplicative_terms_upper</th>\n",
       "      <th>yhat</th>\n",
       "    </tr>\n",
       "  </thead>\n",
       "  <tbody>\n",
       "    <tr>\n",
       "      <th>49</th>\n",
       "      <td>2024-09-01</td>\n",
       "      <td>110849.015458</td>\n",
       "      <td>103070.936679</td>\n",
       "      <td>119643.447841</td>\n",
       "      <td>110843.552022</td>\n",
       "      <td>110854.390469</td>\n",
       "      <td>452.226341</td>\n",
       "      <td>452.226341</td>\n",
       "      <td>452.226341</td>\n",
       "      <td>452.226341</td>\n",
       "      <td>452.226341</td>\n",
       "      <td>452.226341</td>\n",
       "      <td>0.0</td>\n",
       "      <td>0.0</td>\n",
       "      <td>0.0</td>\n",
       "      <td>111301.241800</td>\n",
       "    </tr>\n",
       "    <tr>\n",
       "      <th>50</th>\n",
       "      <td>2024-10-01</td>\n",
       "      <td>112952.276637</td>\n",
       "      <td>101303.052579</td>\n",
       "      <td>117479.714180</td>\n",
       "      <td>112946.038814</td>\n",
       "      <td>112958.322368</td>\n",
       "      <td>-3778.267853</td>\n",
       "      <td>-3778.267853</td>\n",
       "      <td>-3778.267853</td>\n",
       "      <td>-3778.267853</td>\n",
       "      <td>-3778.267853</td>\n",
       "      <td>-3778.267853</td>\n",
       "      <td>0.0</td>\n",
       "      <td>0.0</td>\n",
       "      <td>0.0</td>\n",
       "      <td>109174.008784</td>\n",
       "    </tr>\n",
       "    <tr>\n",
       "      <th>51</th>\n",
       "      <td>2024-11-01</td>\n",
       "      <td>115125.646522</td>\n",
       "      <td>113036.401079</td>\n",
       "      <td>129929.388083</td>\n",
       "      <td>115118.520027</td>\n",
       "      <td>115132.431174</td>\n",
       "      <td>6634.652949</td>\n",
       "      <td>6634.652949</td>\n",
       "      <td>6634.652949</td>\n",
       "      <td>6634.652949</td>\n",
       "      <td>6634.652949</td>\n",
       "      <td>6634.652949</td>\n",
       "      <td>0.0</td>\n",
       "      <td>0.0</td>\n",
       "      <td>0.0</td>\n",
       "      <td>121760.299471</td>\n",
       "    </tr>\n",
       "    <tr>\n",
       "      <th>52</th>\n",
       "      <td>2024-12-01</td>\n",
       "      <td>117228.907700</td>\n",
       "      <td>107845.667404</td>\n",
       "      <td>123806.508617</td>\n",
       "      <td>117220.759057</td>\n",
       "      <td>117236.366532</td>\n",
       "      <td>-1382.749848</td>\n",
       "      <td>-1382.749848</td>\n",
       "      <td>-1382.749848</td>\n",
       "      <td>-1382.749848</td>\n",
       "      <td>-1382.749848</td>\n",
       "      <td>-1382.749848</td>\n",
       "      <td>0.0</td>\n",
       "      <td>0.0</td>\n",
       "      <td>0.0</td>\n",
       "      <td>115846.157852</td>\n",
       "    </tr>\n",
       "    <tr>\n",
       "      <th>53</th>\n",
       "      <td>2025-01-01</td>\n",
       "      <td>119402.277585</td>\n",
       "      <td>109325.603885</td>\n",
       "      <td>124665.696151</td>\n",
       "      <td>119392.985703</td>\n",
       "      <td>119410.615201</td>\n",
       "      <td>-2166.408645</td>\n",
       "      <td>-2166.408645</td>\n",
       "      <td>-2166.408645</td>\n",
       "      <td>-2166.408645</td>\n",
       "      <td>-2166.408645</td>\n",
       "      <td>-2166.408645</td>\n",
       "      <td>0.0</td>\n",
       "      <td>0.0</td>\n",
       "      <td>0.0</td>\n",
       "      <td>117235.868940</td>\n",
       "    </tr>\n",
       "    <tr>\n",
       "      <th>54</th>\n",
       "      <td>2025-02-01</td>\n",
       "      <td>121575.647469</td>\n",
       "      <td>111146.629816</td>\n",
       "      <td>126095.275635</td>\n",
       "      <td>121565.427088</td>\n",
       "      <td>121584.720840</td>\n",
       "      <td>-2849.600609</td>\n",
       "      <td>-2849.600609</td>\n",
       "      <td>-2849.600609</td>\n",
       "      <td>-2849.600609</td>\n",
       "      <td>-2849.600609</td>\n",
       "      <td>-2849.600609</td>\n",
       "      <td>0.0</td>\n",
       "      <td>0.0</td>\n",
       "      <td>0.0</td>\n",
       "      <td>118726.046861</td>\n",
       "    </tr>\n",
       "    <tr>\n",
       "      <th>55</th>\n",
       "      <td>2025-03-01</td>\n",
       "      <td>123538.691236</td>\n",
       "      <td>115840.007478</td>\n",
       "      <td>131987.306011</td>\n",
       "      <td>123527.497195</td>\n",
       "      <td>123548.691760</td>\n",
       "      <td>73.441063</td>\n",
       "      <td>73.441063</td>\n",
       "      <td>73.441063</td>\n",
       "      <td>73.441063</td>\n",
       "      <td>73.441063</td>\n",
       "      <td>73.441063</td>\n",
       "      <td>0.0</td>\n",
       "      <td>0.0</td>\n",
       "      <td>0.0</td>\n",
       "      <td>123612.132300</td>\n",
       "    </tr>\n",
       "    <tr>\n",
       "      <th>56</th>\n",
       "      <td>2025-04-01</td>\n",
       "      <td>125712.061121</td>\n",
       "      <td>112985.598488</td>\n",
       "      <td>129094.737048</td>\n",
       "      <td>125699.552355</td>\n",
       "      <td>125722.793205</td>\n",
       "      <td>-4657.583823</td>\n",
       "      <td>-4657.583823</td>\n",
       "      <td>-4657.583823</td>\n",
       "      <td>-4657.583823</td>\n",
       "      <td>-4657.583823</td>\n",
       "      <td>-4657.583823</td>\n",
       "      <td>0.0</td>\n",
       "      <td>0.0</td>\n",
       "      <td>0.0</td>\n",
       "      <td>121054.477298</td>\n",
       "    </tr>\n",
       "    <tr>\n",
       "      <th>57</th>\n",
       "      <td>2025-05-01</td>\n",
       "      <td>127815.322299</td>\n",
       "      <td>120732.331372</td>\n",
       "      <td>136944.733347</td>\n",
       "      <td>127801.951510</td>\n",
       "      <td>127827.170973</td>\n",
       "      <td>1288.332375</td>\n",
       "      <td>1288.332375</td>\n",
       "      <td>1288.332375</td>\n",
       "      <td>1288.332375</td>\n",
       "      <td>1288.332375</td>\n",
       "      <td>1288.332375</td>\n",
       "      <td>0.0</td>\n",
       "      <td>0.0</td>\n",
       "      <td>0.0</td>\n",
       "      <td>129103.654675</td>\n",
       "    </tr>\n",
       "    <tr>\n",
       "      <th>58</th>\n",
       "      <td>2025-06-01</td>\n",
       "      <td>129988.692184</td>\n",
       "      <td>115874.575382</td>\n",
       "      <td>131855.814786</td>\n",
       "      <td>129974.385135</td>\n",
       "      <td>130001.617852</td>\n",
       "      <td>-6112.986476</td>\n",
       "      <td>-6112.986476</td>\n",
       "      <td>-6112.986476</td>\n",
       "      <td>-6112.986476</td>\n",
       "      <td>-6112.986476</td>\n",
       "      <td>-6112.986476</td>\n",
       "      <td>0.0</td>\n",
       "      <td>0.0</td>\n",
       "      <td>0.0</td>\n",
       "      <td>123875.705708</td>\n",
       "    </tr>\n",
       "  </tbody>\n",
       "</table>\n",
       "</div>"
      ]
     },
     "execution_count": 54,
     "metadata": {},
     "output_type": "execute_result"
    }
   ],
   "execution_count": 54
  },
  {
   "metadata": {
    "ExecuteTime": {
     "end_time": "2024-12-01T00:30:06.599834Z",
     "start_time": "2024-12-01T00:30:06.596284Z"
    }
   },
   "cell_type": "code",
   "source": "test.columns\n",
   "id": "6eb38a487f3404a8",
   "outputs": [
    {
     "data": {
      "text/plain": [
       "Index(['ds', 'y'], dtype='object')"
      ]
     },
     "execution_count": 34,
     "metadata": {},
     "output_type": "execute_result"
    }
   ],
   "execution_count": 34
  },
  {
   "metadata": {
    "ExecuteTime": {
     "end_time": "2024-12-01T00:30:07.091579Z",
     "start_time": "2024-12-01T00:30:07.084371Z"
    }
   },
   "cell_type": "code",
   "source": [
    "y_pred_df_uni = forecast_uni[forecast_uni['ds'] >= split_date][['ds', 'yhat']]\n",
    "print(y_pred_df_uni.head())"
   ],
   "id": "9ce7f6a5d3d3284f",
   "outputs": [
    {
     "name": "stdout",
     "output_type": "stream",
     "text": [
      "           ds          yhat\n",
      "39 2023-11-01  89963.391689\n",
      "40 2023-12-01  83173.355417\n",
      "41 2024-01-01  95915.373685\n",
      "42 2024-02-01  94285.468131\n",
      "43 2024-03-01  94563.086700\n"
     ]
    }
   ],
   "execution_count": 35
  },
  {
   "metadata": {
    "ExecuteTime": {
     "end_time": "2024-12-01T00:34:29.175988Z",
     "start_time": "2024-12-01T00:34:29.169072Z"
    }
   },
   "cell_type": "code",
   "source": [
    "\n",
    "print(y_pred_df_uni.info())\n",
    "\n"
   ],
   "id": "7cae71afb9a29c99",
   "outputs": [
    {
     "name": "stdout",
     "output_type": "stream",
     "text": [
      "<class 'pandas.core.frame.DataFrame'>\n",
      "Index: 20 entries, 39 to 58\n",
      "Data columns (total 2 columns):\n",
      " #   Column  Non-Null Count  Dtype         \n",
      "---  ------  --------------  -----         \n",
      " 0   ds      20 non-null     datetime64[ns]\n",
      " 1   yhat    20 non-null     float64       \n",
      "dtypes: datetime64[ns](1), float64(1)\n",
      "memory usage: 480.0 bytes\n",
      "None\n"
     ]
    }
   ],
   "execution_count": 60
  },
  {
   "metadata": {
    "ExecuteTime": {
     "end_time": "2024-12-01T00:36:12.871366Z",
     "start_time": "2024-12-01T00:36:12.866369Z"
    }
   },
   "cell_type": "code",
   "source": [
    "y = test['y'].values\n",
    "yhat = y_pred_df_uni['yhat'].values\n",
    "\n",
    "sumerror= 0\n",
    "for i in range(len(y)):\n",
    "    sumerror += (y[i] - yhat[i])**2\n",
    "\n",
    "rmse = np.sqrt(sumerror/len(y))\n",
    "    \n",
    "print(rmse)"
   ],
   "id": "3f2d52f7e4577840",
   "outputs": [
    {
     "name": "stdout",
     "output_type": "stream",
     "text": [
      "11349.652426917306\n"
     ]
    }
   ],
   "execution_count": 62
  },
  {
   "metadata": {
    "ExecuteTime": {
     "end_time": "2024-12-01T00:38:35.481738Z",
     "start_time": "2024-12-01T00:38:35.442028Z"
    }
   },
   "cell_type": "code",
   "source": [
    "# Making predictions on the validation set\n",
    "future_uni = uni_model.make_future_dataframe(periods=20, freq='MS')\n",
    "forecast_uni = uni_model.predict(future_uni)\n",
    "forecast_uni.tail(10)"
   ],
   "id": "1ddfe05ad89d97e7",
   "outputs": [
    {
     "data": {
      "text/plain": [
       "           ds          trend     yhat_lower     yhat_upper    trend_lower  \\\n",
       "49 2024-09-01  110849.015458  102860.951516  119242.254601  110843.755965   \n",
       "50 2024-10-01  112952.276637  101323.913455  117146.497752  112946.264204   \n",
       "51 2024-11-01  115125.646522  114112.526386  130151.971891  115118.964492   \n",
       "52 2024-12-01  117228.907700  107367.495235  123409.906168  117221.243300   \n",
       "53 2025-01-01  119402.277585  109869.442314  125763.889130  119393.569296   \n",
       "54 2025-02-01  121575.647469  110788.949781  126392.477241  121566.002605   \n",
       "55 2025-03-01  123538.691236  115523.708188  131533.819640  123528.099239   \n",
       "56 2025-04-01  125712.061121  113036.132190  129176.718459  125700.531886   \n",
       "57 2025-05-01  127815.322299  121185.215883  137305.713259  127802.791355   \n",
       "58 2025-06-01  129988.692184  115567.321067  131336.414619  129975.104622   \n",
       "\n",
       "      trend_upper  additive_terms  additive_terms_lower  additive_terms_upper  \\\n",
       "49  110854.324370      452.226341            452.226341            452.226341   \n",
       "50  112958.271244    -3778.267853          -3778.267853          -3778.267853   \n",
       "51  115132.448960     6634.652949           6634.652949           6634.652949   \n",
       "52  117236.656824    -1382.749848          -1382.749848          -1382.749848   \n",
       "53  119410.997206    -2166.408645          -2166.408645          -2166.408645   \n",
       "54  121585.264570    -2849.600609          -2849.600609          -2849.600609   \n",
       "55  123549.155032       73.441063             73.441063             73.441063   \n",
       "56  125723.624920    -4657.583823          -4657.583823          -4657.583823   \n",
       "57  127828.008868     1288.332375           1288.332375           1288.332375   \n",
       "58  130002.511515    -6112.986476          -6112.986476          -6112.986476   \n",
       "\n",
       "         yearly  yearly_lower  yearly_upper  multiplicative_terms  \\\n",
       "49   452.226341    452.226341    452.226341                   0.0   \n",
       "50 -3778.267853  -3778.267853  -3778.267853                   0.0   \n",
       "51  6634.652949   6634.652949   6634.652949                   0.0   \n",
       "52 -1382.749848  -1382.749848  -1382.749848                   0.0   \n",
       "53 -2166.408645  -2166.408645  -2166.408645                   0.0   \n",
       "54 -2849.600609  -2849.600609  -2849.600609                   0.0   \n",
       "55    73.441063     73.441063     73.441063                   0.0   \n",
       "56 -4657.583823  -4657.583823  -4657.583823                   0.0   \n",
       "57  1288.332375   1288.332375   1288.332375                   0.0   \n",
       "58 -6112.986476  -6112.986476  -6112.986476                   0.0   \n",
       "\n",
       "    multiplicative_terms_lower  multiplicative_terms_upper           yhat  \n",
       "49                         0.0                         0.0  111301.241800  \n",
       "50                         0.0                         0.0  109174.008784  \n",
       "51                         0.0                         0.0  121760.299471  \n",
       "52                         0.0                         0.0  115846.157852  \n",
       "53                         0.0                         0.0  117235.868940  \n",
       "54                         0.0                         0.0  118726.046861  \n",
       "55                         0.0                         0.0  123612.132300  \n",
       "56                         0.0                         0.0  121054.477298  \n",
       "57                         0.0                         0.0  129103.654675  \n",
       "58                         0.0                         0.0  123875.705708  "
      ],
      "text/html": [
       "<div>\n",
       "<style scoped>\n",
       "    .dataframe tbody tr th:only-of-type {\n",
       "        vertical-align: middle;\n",
       "    }\n",
       "\n",
       "    .dataframe tbody tr th {\n",
       "        vertical-align: top;\n",
       "    }\n",
       "\n",
       "    .dataframe thead th {\n",
       "        text-align: right;\n",
       "    }\n",
       "</style>\n",
       "<table border=\"1\" class=\"dataframe\">\n",
       "  <thead>\n",
       "    <tr style=\"text-align: right;\">\n",
       "      <th></th>\n",
       "      <th>ds</th>\n",
       "      <th>trend</th>\n",
       "      <th>yhat_lower</th>\n",
       "      <th>yhat_upper</th>\n",
       "      <th>trend_lower</th>\n",
       "      <th>trend_upper</th>\n",
       "      <th>additive_terms</th>\n",
       "      <th>additive_terms_lower</th>\n",
       "      <th>additive_terms_upper</th>\n",
       "      <th>yearly</th>\n",
       "      <th>yearly_lower</th>\n",
       "      <th>yearly_upper</th>\n",
       "      <th>multiplicative_terms</th>\n",
       "      <th>multiplicative_terms_lower</th>\n",
       "      <th>multiplicative_terms_upper</th>\n",
       "      <th>yhat</th>\n",
       "    </tr>\n",
       "  </thead>\n",
       "  <tbody>\n",
       "    <tr>\n",
       "      <th>49</th>\n",
       "      <td>2024-09-01</td>\n",
       "      <td>110849.015458</td>\n",
       "      <td>102860.951516</td>\n",
       "      <td>119242.254601</td>\n",
       "      <td>110843.755965</td>\n",
       "      <td>110854.324370</td>\n",
       "      <td>452.226341</td>\n",
       "      <td>452.226341</td>\n",
       "      <td>452.226341</td>\n",
       "      <td>452.226341</td>\n",
       "      <td>452.226341</td>\n",
       "      <td>452.226341</td>\n",
       "      <td>0.0</td>\n",
       "      <td>0.0</td>\n",
       "      <td>0.0</td>\n",
       "      <td>111301.241800</td>\n",
       "    </tr>\n",
       "    <tr>\n",
       "      <th>50</th>\n",
       "      <td>2024-10-01</td>\n",
       "      <td>112952.276637</td>\n",
       "      <td>101323.913455</td>\n",
       "      <td>117146.497752</td>\n",
       "      <td>112946.264204</td>\n",
       "      <td>112958.271244</td>\n",
       "      <td>-3778.267853</td>\n",
       "      <td>-3778.267853</td>\n",
       "      <td>-3778.267853</td>\n",
       "      <td>-3778.267853</td>\n",
       "      <td>-3778.267853</td>\n",
       "      <td>-3778.267853</td>\n",
       "      <td>0.0</td>\n",
       "      <td>0.0</td>\n",
       "      <td>0.0</td>\n",
       "      <td>109174.008784</td>\n",
       "    </tr>\n",
       "    <tr>\n",
       "      <th>51</th>\n",
       "      <td>2024-11-01</td>\n",
       "      <td>115125.646522</td>\n",
       "      <td>114112.526386</td>\n",
       "      <td>130151.971891</td>\n",
       "      <td>115118.964492</td>\n",
       "      <td>115132.448960</td>\n",
       "      <td>6634.652949</td>\n",
       "      <td>6634.652949</td>\n",
       "      <td>6634.652949</td>\n",
       "      <td>6634.652949</td>\n",
       "      <td>6634.652949</td>\n",
       "      <td>6634.652949</td>\n",
       "      <td>0.0</td>\n",
       "      <td>0.0</td>\n",
       "      <td>0.0</td>\n",
       "      <td>121760.299471</td>\n",
       "    </tr>\n",
       "    <tr>\n",
       "      <th>52</th>\n",
       "      <td>2024-12-01</td>\n",
       "      <td>117228.907700</td>\n",
       "      <td>107367.495235</td>\n",
       "      <td>123409.906168</td>\n",
       "      <td>117221.243300</td>\n",
       "      <td>117236.656824</td>\n",
       "      <td>-1382.749848</td>\n",
       "      <td>-1382.749848</td>\n",
       "      <td>-1382.749848</td>\n",
       "      <td>-1382.749848</td>\n",
       "      <td>-1382.749848</td>\n",
       "      <td>-1382.749848</td>\n",
       "      <td>0.0</td>\n",
       "      <td>0.0</td>\n",
       "      <td>0.0</td>\n",
       "      <td>115846.157852</td>\n",
       "    </tr>\n",
       "    <tr>\n",
       "      <th>53</th>\n",
       "      <td>2025-01-01</td>\n",
       "      <td>119402.277585</td>\n",
       "      <td>109869.442314</td>\n",
       "      <td>125763.889130</td>\n",
       "      <td>119393.569296</td>\n",
       "      <td>119410.997206</td>\n",
       "      <td>-2166.408645</td>\n",
       "      <td>-2166.408645</td>\n",
       "      <td>-2166.408645</td>\n",
       "      <td>-2166.408645</td>\n",
       "      <td>-2166.408645</td>\n",
       "      <td>-2166.408645</td>\n",
       "      <td>0.0</td>\n",
       "      <td>0.0</td>\n",
       "      <td>0.0</td>\n",
       "      <td>117235.868940</td>\n",
       "    </tr>\n",
       "    <tr>\n",
       "      <th>54</th>\n",
       "      <td>2025-02-01</td>\n",
       "      <td>121575.647469</td>\n",
       "      <td>110788.949781</td>\n",
       "      <td>126392.477241</td>\n",
       "      <td>121566.002605</td>\n",
       "      <td>121585.264570</td>\n",
       "      <td>-2849.600609</td>\n",
       "      <td>-2849.600609</td>\n",
       "      <td>-2849.600609</td>\n",
       "      <td>-2849.600609</td>\n",
       "      <td>-2849.600609</td>\n",
       "      <td>-2849.600609</td>\n",
       "      <td>0.0</td>\n",
       "      <td>0.0</td>\n",
       "      <td>0.0</td>\n",
       "      <td>118726.046861</td>\n",
       "    </tr>\n",
       "    <tr>\n",
       "      <th>55</th>\n",
       "      <td>2025-03-01</td>\n",
       "      <td>123538.691236</td>\n",
       "      <td>115523.708188</td>\n",
       "      <td>131533.819640</td>\n",
       "      <td>123528.099239</td>\n",
       "      <td>123549.155032</td>\n",
       "      <td>73.441063</td>\n",
       "      <td>73.441063</td>\n",
       "      <td>73.441063</td>\n",
       "      <td>73.441063</td>\n",
       "      <td>73.441063</td>\n",
       "      <td>73.441063</td>\n",
       "      <td>0.0</td>\n",
       "      <td>0.0</td>\n",
       "      <td>0.0</td>\n",
       "      <td>123612.132300</td>\n",
       "    </tr>\n",
       "    <tr>\n",
       "      <th>56</th>\n",
       "      <td>2025-04-01</td>\n",
       "      <td>125712.061121</td>\n",
       "      <td>113036.132190</td>\n",
       "      <td>129176.718459</td>\n",
       "      <td>125700.531886</td>\n",
       "      <td>125723.624920</td>\n",
       "      <td>-4657.583823</td>\n",
       "      <td>-4657.583823</td>\n",
       "      <td>-4657.583823</td>\n",
       "      <td>-4657.583823</td>\n",
       "      <td>-4657.583823</td>\n",
       "      <td>-4657.583823</td>\n",
       "      <td>0.0</td>\n",
       "      <td>0.0</td>\n",
       "      <td>0.0</td>\n",
       "      <td>121054.477298</td>\n",
       "    </tr>\n",
       "    <tr>\n",
       "      <th>57</th>\n",
       "      <td>2025-05-01</td>\n",
       "      <td>127815.322299</td>\n",
       "      <td>121185.215883</td>\n",
       "      <td>137305.713259</td>\n",
       "      <td>127802.791355</td>\n",
       "      <td>127828.008868</td>\n",
       "      <td>1288.332375</td>\n",
       "      <td>1288.332375</td>\n",
       "      <td>1288.332375</td>\n",
       "      <td>1288.332375</td>\n",
       "      <td>1288.332375</td>\n",
       "      <td>1288.332375</td>\n",
       "      <td>0.0</td>\n",
       "      <td>0.0</td>\n",
       "      <td>0.0</td>\n",
       "      <td>129103.654675</td>\n",
       "    </tr>\n",
       "    <tr>\n",
       "      <th>58</th>\n",
       "      <td>2025-06-01</td>\n",
       "      <td>129988.692184</td>\n",
       "      <td>115567.321067</td>\n",
       "      <td>131336.414619</td>\n",
       "      <td>129975.104622</td>\n",
       "      <td>130002.511515</td>\n",
       "      <td>-6112.986476</td>\n",
       "      <td>-6112.986476</td>\n",
       "      <td>-6112.986476</td>\n",
       "      <td>-6112.986476</td>\n",
       "      <td>-6112.986476</td>\n",
       "      <td>-6112.986476</td>\n",
       "      <td>0.0</td>\n",
       "      <td>0.0</td>\n",
       "      <td>0.0</td>\n",
       "      <td>123875.705708</td>\n",
       "    </tr>\n",
       "  </tbody>\n",
       "</table>\n",
       "</div>"
      ]
     },
     "execution_count": 74,
     "metadata": {},
     "output_type": "execute_result"
    }
   ],
   "execution_count": 74
  },
  {
   "metadata": {
    "ExecuteTime": {
     "end_time": "2024-12-01T00:38:36.040746Z",
     "start_time": "2024-12-01T00:38:36.033551Z"
    }
   },
   "cell_type": "code",
   "source": [
    "# Display the last 10 predictions\n",
    "print(forecast_uni[['ds', 'yhat', 'yhat_lower', 'yhat_upper']].tail(10))\n",
    "\n",
    "# If you want to filter and display only the new predicted dates (future periods):\n",
    "predicted_future = forecast_uni[forecast_uni['ds'] > test['ds'].max()]\n",
    "print(predicted_future[['ds', 'yhat', 'yhat_lower', 'yhat_upper']])\n"
   ],
   "id": "281356552b424615",
   "outputs": [
    {
     "name": "stdout",
     "output_type": "stream",
     "text": [
      "           ds           yhat     yhat_lower     yhat_upper\n",
      "49 2024-09-01  111301.241800  102860.951516  119242.254601\n",
      "50 2024-10-01  109174.008784  101323.913455  117146.497752\n",
      "51 2024-11-01  121760.299471  114112.526386  130151.971891\n",
      "52 2024-12-01  115846.157852  107367.495235  123409.906168\n",
      "53 2025-01-01  117235.868940  109869.442314  125763.889130\n",
      "54 2025-02-01  118726.046861  110788.949781  126392.477241\n",
      "55 2025-03-01  123612.132300  115523.708188  131533.819640\n",
      "56 2025-04-01  121054.477298  113036.132190  129176.718459\n",
      "57 2025-05-01  129103.654675  121185.215883  137305.713259\n",
      "58 2025-06-01  123875.705708  115567.321067  131336.414619\n",
      "           ds           yhat     yhat_lower     yhat_upper\n",
      "51 2024-11-01  121760.299471  114112.526386  130151.971891\n",
      "52 2024-12-01  115846.157852  107367.495235  123409.906168\n",
      "53 2025-01-01  117235.868940  109869.442314  125763.889130\n",
      "54 2025-02-01  118726.046861  110788.949781  126392.477241\n",
      "55 2025-03-01  123612.132300  115523.708188  131533.819640\n",
      "56 2025-04-01  121054.477298  113036.132190  129176.718459\n",
      "57 2025-05-01  129103.654675  121185.215883  137305.713259\n",
      "58 2025-06-01  123875.705708  115567.321067  131336.414619\n"
     ]
    }
   ],
   "execution_count": 75
  },
  {
   "metadata": {
    "ExecuteTime": {
     "end_time": "2024-12-01T00:38:36.466780Z",
     "start_time": "2024-12-01T00:38:36.459060Z"
    }
   },
   "cell_type": "code",
   "source": "test.info()",
   "id": "64e7b602687f821c",
   "outputs": [
    {
     "name": "stdout",
     "output_type": "stream",
     "text": [
      "<class 'pandas.core.frame.DataFrame'>\n",
      "Index: 12 entries, 39 to 50\n",
      "Data columns (total 2 columns):\n",
      " #   Column  Non-Null Count  Dtype         \n",
      "---  ------  --------------  -----         \n",
      " 0   ds      12 non-null     datetime64[ns]\n",
      " 1   y       12 non-null     float64       \n",
      "dtypes: datetime64[ns](1), float64(1)\n",
      "memory usage: 288.0 bytes\n"
     ]
    }
   ],
   "execution_count": 76
  },
  {
   "metadata": {
    "ExecuteTime": {
     "end_time": "2024-12-01T00:38:44.207404Z",
     "start_time": "2024-12-01T00:38:44.035488Z"
    }
   },
   "cell_type": "code",
   "source": [
    "import matplotlib.pyplot as plt\n",
    "\n",
    "df['Date'] = pd.to_datetime(df['Date'])\n",
    "forecast_uni['ds'] = pd.to_datetime(forecast_uni['ds'])\n",
    "\n",
    "# Plot ds vs yhat\n",
    "plt.figure(figsize=(10, 6))\n",
    "plt.plot(forecast_uni['ds'], forecast_uni['yhat'], label='Predicted', color='red')\n",
    "# print test in red\n",
    "plt.plot(df['Date'], df['Value'], label='Actual', color='blue')\n",
    "\n",
    "# Add labels, title, and legend\n",
    "plt.xlabel('Date')\n",
    "plt.ylabel('Predicted Value')\n",
    "plt.title('Predicted Values Over Time (yhat)')\n",
    "plt.legend()\n",
    "plt.grid(True)\n",
    "\n",
    "# Show the plot\n",
    "plt.show()"
   ],
   "id": "204a4e33f24785f8",
   "outputs": [
    {
     "data": {
      "text/plain": [
       "<Figure size 1000x600 with 1 Axes>"
      ],
      "image/png": "[encoded data removed]"
     },
     "metadata": {},
     "output_type": "display_data"
    }
   ],
   "execution_count": 78
  },
  {
   "metadata": {},
   "cell_type": "code",
   "outputs": [],
   "execution_count": null,
   "source": "",
   "id": "2afa1f298085b095"
  }
 ],
 "metadata": {
  "kernelspec": {
   "display_name": "Python 3",
   "language": "python",
   "name": "python3"
  },
  "language_info": {
   "codemirror_mode": {
    "name": "ipython",
    "version": 2
   },
   "file_extension": ".py",
   "mimetype": "text/x-python",
   "name": "python",
   "nbconvert_exporter": "python",
   "pygments_lexer": "ipython2",
   "version": "2.7.6"
  }
 },
 "nbformat": 4,
 "nbformat_minor": 5
}
