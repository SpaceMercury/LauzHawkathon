{
 "cells": [
  {
   "cell_type": "code",
   "id": "initial_id",
   "metadata": {
    "collapsed": true,
    "ExecuteTime": {
     "end_time": "2024-11-30T22:28:54.760577Z",
     "start_time": "2024-11-30T22:28:54.753520Z"
    }
   },
   "source": [
    "import pandas as pd\n",
    "import numpy as np\n",
    "import seaborn as sns\n",
    "from prophet import Prophet \n",
    "from prophet.plot import plot_cross_validation_metric\n",
    "from prophet.diagnostics import performance_metrics, cross_validation"
   ],
   "outputs": [],
   "execution_count": 2
  },
  {
   "metadata": {
    "ExecuteTime": {
     "end_time": "2024-11-30T22:34:15.987778Z",
     "start_time": "2024-11-30T22:34:15.967255Z"
    }
   },
   "cell_type": "code",
   "source": "df = pd.read_csv('../clean_data/BRISTOR_Zegoland_all_%.csv')",
   "id": "4cb25e8bd63d8bf8",
   "outputs": [],
   "execution_count": 3
  },
  {
   "metadata": {
    "ExecuteTime": {
     "end_time": "2024-11-30T22:35:53.631394Z",
     "start_time": "2024-11-30T22:35:53.624424Z"
    }
   },
   "cell_type": "code",
   "source": [
    "df_train = df[df['Date'] < '2024-01-01']\n",
    "print(df_train.info())"
   ],
   "id": "99e8a07aa1999ce8",
   "outputs": [
    {
     "name": "stdout",
     "output_type": "stream",
     "text": [
      "<class 'pandas.core.frame.DataFrame'>\n",
      "Index: 26 entries, 0 to 25\n",
      "Data columns (total 16 columns):\n",
      " #   Column              Non-Null Count  Dtype  \n",
      "---  ------              --------------  -----  \n",
      " 0   Country             26 non-null     object \n",
      " 1   Data type           26 non-null     object \n",
      " 2   Measure             26 non-null     object \n",
      " 3   Product             26 non-null     object \n",
      " 4   Date                26 non-null     object \n",
      " 5   Value               26 non-null     float64\n",
      " 6   demandA             26 non-null     float64\n",
      " 7   demandB             26 non-null     float64\n",
      " 8   demandCompA         26 non-null     float64\n",
      " 9   DemandShareA        26 non-null     float64\n",
      " 10  newPatientShareA    26 non-null     float64\n",
      " 11  newPatientShareB    26 non-null     float64\n",
      " 12  totalPatientShareA  26 non-null     float64\n",
      " 13  totalPatientShareB  26 non-null     float64\n",
      " 14  voiceShareA         26 non-null     float64\n",
      " 15  voiceShareB         26 non-null     float64\n",
      "dtypes: float64(11), object(5)\n",
      "memory usage: 3.5+ KB\n",
      "None\n"
     ]
    }
   ],
   "execution_count": 9
  },
  {
   "metadata": {
    "ExecuteTime": {
     "end_time": "2024-11-30T22:36:21.230328Z",
     "start_time": "2024-11-30T22:36:21.214009Z"
    }
   },
   "cell_type": "code",
   "source": [
    "df_test = df[df['Date'] >= '2024-01-01']\n",
    "print(df_test.info())\n"
   ],
   "id": "e8941a56338df7f3",
   "outputs": [
    {
     "name": "stdout",
     "output_type": "stream",
     "text": [
      "<class 'pandas.core.frame.DataFrame'>\n",
      "Index: 5 entries, 26 to 30\n",
      "Data columns (total 16 columns):\n",
      " #   Column              Non-Null Count  Dtype  \n",
      "---  ------              --------------  -----  \n",
      " 0   Country             5 non-null      object \n",
      " 1   Data type           5 non-null      object \n",
      " 2   Measure             5 non-null      object \n",
      " 3   Product             5 non-null      object \n",
      " 4   Date                5 non-null      object \n",
      " 5   Value               5 non-null      float64\n",
      " 6   demandA             5 non-null      float64\n",
      " 7   demandB             5 non-null      float64\n",
      " 8   demandCompA         5 non-null      float64\n",
      " 9   DemandShareA        5 non-null      float64\n",
      " 10  newPatientShareA    5 non-null      float64\n",
      " 11  newPatientShareB    5 non-null      float64\n",
      " 12  totalPatientShareA  5 non-null      float64\n",
      " 13  totalPatientShareB  5 non-null      float64\n",
      " 14  voiceShareA         5 non-null      float64\n",
      " 15  voiceShareB         5 non-null      float64\n",
      "dtypes: float64(11), object(5)\n",
      "memory usage: 680.0+ bytes\n",
      "None\n"
     ]
    }
   ],
   "execution_count": 12
  },
  {
   "metadata": {},
   "cell_type": "code",
   "outputs": [],
   "execution_count": null,
   "source": "",
   "id": "88f6b85cfd6018f7"
  }
 ],
 "metadata": {
  "kernelspec": {
   "display_name": "Python 3",
   "language": "python",
   "name": "python3"
  },
  "language_info": {
   "codemirror_mode": {
    "name": "ipython",
    "version": 2
   },
   "file_extension": ".py",
   "mimetype": "text/x-python",
   "name": "python",
   "nbconvert_exporter": "python",
   "pygments_lexer": "ipython2",
   "version": "2.7.6"
  }
 },
 "nbformat": 4,
 "nbformat_minor": 5
}
