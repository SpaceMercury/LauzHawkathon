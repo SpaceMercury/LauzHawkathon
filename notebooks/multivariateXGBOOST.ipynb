{
 "cells": [
  {
   "cell_type": "code",
   "id": "initial_id",
   "metadata": {
    "collapsed": true,
    "ExecuteTime": {
     "end_time": "2024-12-01T00:14:31.214197Z",
     "start_time": "2024-12-01T00:14:31.210754Z"
    }
   },
   "source": [
    "import pandas as pd\n",
    "import numpy as np\n",
    "import seaborn as sns\n",
    "from prophet import Prophet \n",
    "from prophet.plot import plot_cross_validation_metric\n",
    "from prophet.diagnostics import performance_metrics, cross_validation"
   ],
   "outputs": [],
   "execution_count": 107
  },
  {
   "metadata": {
    "ExecuteTime": {
     "end_time": "2024-12-01T00:14:31.389035Z",
     "start_time": "2024-12-01T00:14:31.381944Z"
    }
   },
   "cell_type": "code",
   "source": [
    "df = pd.read_csv('../clean_data/BRISTOR_Zegoland_all_%.csv')\n",
    "\n",
    "df = df.drop(columns=['Data_type', 'Measure', 'Country', 'Product', 'voiceShareA', 'voiceShareB'])\n",
    "\n"
   ],
   "id": "4cb25e8bd63d8bf8",
   "outputs": [],
   "execution_count": 108
  },
  {
   "metadata": {
    "ExecuteTime": {
     "end_time": "2024-12-01T00:29:11.216290Z",
     "start_time": "2024-12-01T00:29:11.207613Z"
    }
   },
   "cell_type": "code",
   "source": [
    "df_train = df[df['Date'] < '2023-11-01']\n",
    "print(df_train.info())"
   ],
   "id": "99e8a07aa1999ce8",
   "outputs": [
    {
     "name": "stdout",
     "output_type": "stream",
     "text": [
      "<class 'pandas.core.frame.DataFrame'>\n",
      "Index: 24 entries, 0 to 23\n",
      "Data columns (total 10 columns):\n",
      " #   Column              Non-Null Count  Dtype  \n",
      "---  ------              --------------  -----  \n",
      " 0   Date                24 non-null     object \n",
      " 1   Value               24 non-null     float64\n",
      " 2   demandA             24 non-null     float64\n",
      " 3   demandB             24 non-null     float64\n",
      " 4   demandCompA         24 non-null     float64\n",
      " 5   DemandShareA        24 non-null     float64\n",
      " 6   newPatientShareA    24 non-null     float64\n",
      " 7   newPatientShareB    24 non-null     float64\n",
      " 8   totalPatientShareA  24 non-null     float64\n",
      " 9   totalPatientShareB  24 non-null     float64\n",
      "dtypes: float64(9), object(1)\n",
      "memory usage: 2.1+ KB\n",
      "None\n"
     ]
    }
   ],
   "execution_count": 214
  },
  {
   "metadata": {
    "ExecuteTime": {
     "end_time": "2024-12-01T00:29:11.469577Z",
     "start_time": "2024-12-01T00:29:11.462880Z"
    }
   },
   "cell_type": "code",
   "source": [
    "df_test = df[df['Date'] >= '2023-11-01']\n",
    "print(df_test.info())\n"
   ],
   "id": "e8941a56338df7f3",
   "outputs": [
    {
     "name": "stdout",
     "output_type": "stream",
     "text": [
      "<class 'pandas.core.frame.DataFrame'>\n",
      "Index: 7 entries, 24 to 30\n",
      "Data columns (total 10 columns):\n",
      " #   Column              Non-Null Count  Dtype  \n",
      "---  ------              --------------  -----  \n",
      " 0   Date                7 non-null      object \n",
      " 1   Value               7 non-null      float64\n",
      " 2   demandA             7 non-null      float64\n",
      " 3   demandB             7 non-null      float64\n",
      " 4   demandCompA         7 non-null      float64\n",
      " 5   DemandShareA        7 non-null      float64\n",
      " 6   newPatientShareA    7 non-null      float64\n",
      " 7   newPatientShareB    7 non-null      float64\n",
      " 8   totalPatientShareA  7 non-null      float64\n",
      " 9   totalPatientShareB  7 non-null      float64\n",
      "dtypes: float64(9), object(1)\n",
      "memory usage: 616.0+ bytes\n",
      "None\n"
     ]
    }
   ],
   "execution_count": 215
  },
  {
   "metadata": {
    "ExecuteTime": {
     "end_time": "2024-12-01T00:29:11.946877Z",
     "start_time": "2024-12-01T00:29:11.938273Z"
    }
   },
   "cell_type": "code",
   "source": [
    "df_test.rename(columns={'Date':'ds', 'Value':'y'}, inplace=True)\n",
    "df_test.head(5)"
   ],
   "id": "88f6b85cfd6018f7",
   "outputs": [
    {
     "name": "stderr",
     "output_type": "stream",
     "text": [
      "/var/folders/vp/3088hxcd4dv_l_s0vtn_l2q80000gn/T/ipykernel_21935/1889246356.py:1: SettingWithCopyWarning: \n",
      "A value is trying to be set on a copy of a slice from a DataFrame\n",
      "\n",
      "See the caveats in the documentation: https://pandas.pydata.org/pandas-docs/stable/user_guide/indexing.html#returning-a-view-versus-a-copy\n",
      "  df_test.rename(columns={'Date':'ds', 'Value':'y'}, inplace=True)\n"
     ]
    },
    {
     "data": {
      "text/plain": [
       "            ds          y        demandA     demandB   demandCompA  \\\n",
       "24  2023-11-01  100782.78   99170.401686  426.660766  3.862052e+06   \n",
       "25  2023-12-01   96628.98   92128.061740  510.902080  3.600938e+06   \n",
       "26  2024-01-01  109284.96  105609.366866  490.508487  3.954515e+06   \n",
       "27  2024-02-01   87933.60   99594.883198  448.705210  3.732976e+06   \n",
       "28  2024-03-01   91203.28  100535.360644  423.473075  3.617622e+06   \n",
       "\n",
       "    DemandShareA  newPatientShareA  newPatientShareB  totalPatientShareA  \\\n",
       "24      0.025035              0.05             0.033                0.03   \n",
       "25      0.024946              0.04             0.029                0.03   \n",
       "26      0.026011              0.04             0.021                0.03   \n",
       "27      0.025986              0.05             0.022                0.03   \n",
       "28      0.027039              0.05             0.032                0.03   \n",
       "\n",
       "    totalPatientShareB  \n",
       "24               0.013  \n",
       "25               0.012  \n",
       "26               0.012  \n",
       "27               0.013  \n",
       "28               0.013  "
      ],
      "text/html": [
       "<div>\n",
       "<style scoped>\n",
       "    .dataframe tbody tr th:only-of-type {\n",
       "        vertical-align: middle;\n",
       "    }\n",
       "\n",
       "    .dataframe tbody tr th {\n",
       "        vertical-align: top;\n",
       "    }\n",
       "\n",
       "    .dataframe thead th {\n",
       "        text-align: right;\n",
       "    }\n",
       "</style>\n",
       "<table border=\"1\" class=\"dataframe\">\n",
       "  <thead>\n",
       "    <tr style=\"text-align: right;\">\n",
       "      <th></th>\n",
       "      <th>ds</th>\n",
       "      <th>y</th>\n",
       "      <th>demandA</th>\n",
       "      <th>demandB</th>\n",
       "      <th>demandCompA</th>\n",
       "      <th>DemandShareA</th>\n",
       "      <th>newPatientShareA</th>\n",
       "      <th>newPatientShareB</th>\n",
       "      <th>totalPatientShareA</th>\n",
       "      <th>totalPatientShareB</th>\n",
       "    </tr>\n",
       "  </thead>\n",
       "  <tbody>\n",
       "    <tr>\n",
       "      <th>24</th>\n",
       "      <td>2023-11-01</td>\n",
       "      <td>100782.78</td>\n",
       "      <td>99170.401686</td>\n",
       "      <td>426.660766</td>\n",
       "      <td>3.862052e+06</td>\n",
       "      <td>0.025035</td>\n",
       "      <td>0.05</td>\n",
       "      <td>0.033</td>\n",
       "      <td>0.03</td>\n",
       "      <td>0.013</td>\n",
       "    </tr>\n",
       "    <tr>\n",
       "      <th>25</th>\n",
       "      <td>2023-12-01</td>\n",
       "      <td>96628.98</td>\n",
       "      <td>92128.061740</td>\n",
       "      <td>510.902080</td>\n",
       "      <td>3.600938e+06</td>\n",
       "      <td>0.024946</td>\n",
       "      <td>0.04</td>\n",
       "      <td>0.029</td>\n",
       "      <td>0.03</td>\n",
       "      <td>0.012</td>\n",
       "    </tr>\n",
       "    <tr>\n",
       "      <th>26</th>\n",
       "      <td>2024-01-01</td>\n",
       "      <td>109284.96</td>\n",
       "      <td>105609.366866</td>\n",
       "      <td>490.508487</td>\n",
       "      <td>3.954515e+06</td>\n",
       "      <td>0.026011</td>\n",
       "      <td>0.04</td>\n",
       "      <td>0.021</td>\n",
       "      <td>0.03</td>\n",
       "      <td>0.012</td>\n",
       "    </tr>\n",
       "    <tr>\n",
       "      <th>27</th>\n",
       "      <td>2024-02-01</td>\n",
       "      <td>87933.60</td>\n",
       "      <td>99594.883198</td>\n",
       "      <td>448.705210</td>\n",
       "      <td>3.732976e+06</td>\n",
       "      <td>0.025986</td>\n",
       "      <td>0.05</td>\n",
       "      <td>0.022</td>\n",
       "      <td>0.03</td>\n",
       "      <td>0.013</td>\n",
       "    </tr>\n",
       "    <tr>\n",
       "      <th>28</th>\n",
       "      <td>2024-03-01</td>\n",
       "      <td>91203.28</td>\n",
       "      <td>100535.360644</td>\n",
       "      <td>423.473075</td>\n",
       "      <td>3.617622e+06</td>\n",
       "      <td>0.027039</td>\n",
       "      <td>0.05</td>\n",
       "      <td>0.032</td>\n",
       "      <td>0.03</td>\n",
       "      <td>0.013</td>\n",
       "    </tr>\n",
       "  </tbody>\n",
       "</table>\n",
       "</div>"
      ]
     },
     "execution_count": 216,
     "metadata": {},
     "output_type": "execute_result"
    }
   ],
   "execution_count": 216
  },
  {
   "metadata": {
    "ExecuteTime": {
     "end_time": "2024-12-01T00:29:12.410135Z",
     "start_time": "2024-12-01T00:29:12.407258Z"
    }
   },
   "cell_type": "code",
   "source": "df_train.rename(columns={'Date':'ds', 'Value':'y'}, inplace=True)",
   "id": "e53120dc2ced70f0",
   "outputs": [
    {
     "name": "stderr",
     "output_type": "stream",
     "text": [
      "/var/folders/vp/3088hxcd4dv_l_s0vtn_l2q80000gn/T/ipykernel_21935/3110268531.py:1: SettingWithCopyWarning: \n",
      "A value is trying to be set on a copy of a slice from a DataFrame\n",
      "\n",
      "See the caveats in the documentation: https://pandas.pydata.org/pandas-docs/stable/user_guide/indexing.html#returning-a-view-versus-a-copy\n",
      "  df_train.rename(columns={'Date':'ds', 'Value':'y'}, inplace=True)\n"
     ]
    }
   ],
   "execution_count": 217
  },
  {
   "metadata": {
    "ExecuteTime": {
     "end_time": "2024-12-01T00:29:12.926716Z",
     "start_time": "2024-12-01T00:29:12.782548Z"
    }
   },
   "cell_type": "code",
   "source": [
    "model = Prophet()\n",
    "#model.add_regressor('demandB', standardize=True)\n",
    "#model.add_regressor('demandA', standardize=True)\n",
    "#model.add_regressor('demandCompA', standardize=True)\n",
    "#model.add_regressor('DemandShareA', standardize=False)\n",
    "#model.add_regressor('newPatientShareA', standardize=True)\n",
    "#model.add_regressor('newPatientShareB', standardize=True)\n",
    "model.add_regressor('totalPatientShareA', standardize=True)\n",
    "#model.add_regressor('totalPatientShareB', standardize=False)\n",
    "model.add_seasonality(name='monthly', period=30.5, fourier_order=3, prior_scale=0.1)\n",
    "\n",
    "\n",
    "model.fit(df_train)"
   ],
   "id": "1e1137eaaf726e92",
   "outputs": [
    {
     "name": "stderr",
     "output_type": "stream",
     "text": [
      "01:29:12 - cmdstanpy - INFO - Chain [1] start processing\n",
      "01:29:12 - cmdstanpy - INFO - Chain [1] done processing\n"
     ]
    },
    {
     "data": {
      "text/plain": [
       "<prophet.forecaster.Prophet at 0x13858b110>"
      ]
     },
     "execution_count": 218,
     "metadata": {},
     "output_type": "execute_result"
    }
   ],
   "execution_count": 218
  },
  {
   "metadata": {
    "ExecuteTime": {
     "end_time": "2024-12-01T00:29:13.299991Z",
     "start_time": "2024-12-01T00:29:13.285787Z"
    }
   },
   "cell_type": "code",
   "source": [
    "df_test2 = df_test.drop(columns=['y'])\n",
    "df_test2.head(10)"
   ],
   "id": "e3aced09c9a1a500",
   "outputs": [
    {
     "data": {
      "text/plain": [
       "            ds        demandA     demandB   demandCompA  DemandShareA  \\\n",
       "24  2023-11-01   99170.401686  426.660766  3.862052e+06      0.025035   \n",
       "25  2023-12-01   92128.061740  510.902080  3.600938e+06      0.024946   \n",
       "26  2024-01-01  105609.366866  490.508487  3.954515e+06      0.026011   \n",
       "27  2024-02-01   99594.883198  448.705210  3.732976e+06      0.025986   \n",
       "28  2024-03-01  100535.360644  423.473075  3.617622e+06      0.027039   \n",
       "29  2024-04-01  109092.158318  592.564658  4.003511e+06      0.026526   \n",
       "30  2024-05-01  105207.579379  508.419308  3.693297e+06      0.027697   \n",
       "\n",
       "    newPatientShareA  newPatientShareB  totalPatientShareA  totalPatientShareB  \n",
       "24              0.05             0.033                0.03               0.013  \n",
       "25              0.04             0.029                0.03               0.012  \n",
       "26              0.04             0.021                0.03               0.012  \n",
       "27              0.05             0.022                0.03               0.013  \n",
       "28              0.05             0.032                0.03               0.013  \n",
       "29              0.04             0.028                0.03               0.013  \n",
       "30              0.04             0.028                0.03               0.014  "
      ],
      "text/html": [
       "<div>\n",
       "<style scoped>\n",
       "    .dataframe tbody tr th:only-of-type {\n",
       "        vertical-align: middle;\n",
       "    }\n",
       "\n",
       "    .dataframe tbody tr th {\n",
       "        vertical-align: top;\n",
       "    }\n",
       "\n",
       "    .dataframe thead th {\n",
       "        text-align: right;\n",
       "    }\n",
       "</style>\n",
       "<table border=\"1\" class=\"dataframe\">\n",
       "  <thead>\n",
       "    <tr style=\"text-align: right;\">\n",
       "      <th></th>\n",
       "      <th>ds</th>\n",
       "      <th>demandA</th>\n",
       "      <th>demandB</th>\n",
       "      <th>demandCompA</th>\n",
       "      <th>DemandShareA</th>\n",
       "      <th>newPatientShareA</th>\n",
       "      <th>newPatientShareB</th>\n",
       "      <th>totalPatientShareA</th>\n",
       "      <th>totalPatientShareB</th>\n",
       "    </tr>\n",
       "  </thead>\n",
       "  <tbody>\n",
       "    <tr>\n",
       "      <th>24</th>\n",
       "      <td>2023-11-01</td>\n",
       "      <td>99170.401686</td>\n",
       "      <td>426.660766</td>\n",
       "      <td>3.862052e+06</td>\n",
       "      <td>0.025035</td>\n",
       "      <td>0.05</td>\n",
       "      <td>0.033</td>\n",
       "      <td>0.03</td>\n",
       "      <td>0.013</td>\n",
       "    </tr>\n",
       "    <tr>\n",
       "      <th>25</th>\n",
       "      <td>2023-12-01</td>\n",
       "      <td>92128.061740</td>\n",
       "      <td>510.902080</td>\n",
       "      <td>3.600938e+06</td>\n",
       "      <td>0.024946</td>\n",
       "      <td>0.04</td>\n",
       "      <td>0.029</td>\n",
       "      <td>0.03</td>\n",
       "      <td>0.012</td>\n",
       "    </tr>\n",
       "    <tr>\n",
       "      <th>26</th>\n",
       "      <td>2024-01-01</td>\n",
       "      <td>105609.366866</td>\n",
       "      <td>490.508487</td>\n",
       "      <td>3.954515e+06</td>\n",
       "      <td>0.026011</td>\n",
       "      <td>0.04</td>\n",
       "      <td>0.021</td>\n",
       "      <td>0.03</td>\n",
       "      <td>0.012</td>\n",
       "    </tr>\n",
       "    <tr>\n",
       "      <th>27</th>\n",
       "      <td>2024-02-01</td>\n",
       "      <td>99594.883198</td>\n",
       "      <td>448.705210</td>\n",
       "      <td>3.732976e+06</td>\n",
       "      <td>0.025986</td>\n",
       "      <td>0.05</td>\n",
       "      <td>0.022</td>\n",
       "      <td>0.03</td>\n",
       "      <td>0.013</td>\n",
       "    </tr>\n",
       "    <tr>\n",
       "      <th>28</th>\n",
       "      <td>2024-03-01</td>\n",
       "      <td>100535.360644</td>\n",
       "      <td>423.473075</td>\n",
       "      <td>3.617622e+06</td>\n",
       "      <td>0.027039</td>\n",
       "      <td>0.05</td>\n",
       "      <td>0.032</td>\n",
       "      <td>0.03</td>\n",
       "      <td>0.013</td>\n",
       "    </tr>\n",
       "    <tr>\n",
       "      <th>29</th>\n",
       "      <td>2024-04-01</td>\n",
       "      <td>109092.158318</td>\n",
       "      <td>592.564658</td>\n",
       "      <td>4.003511e+06</td>\n",
       "      <td>0.026526</td>\n",
       "      <td>0.04</td>\n",
       "      <td>0.028</td>\n",
       "      <td>0.03</td>\n",
       "      <td>0.013</td>\n",
       "    </tr>\n",
       "    <tr>\n",
       "      <th>30</th>\n",
       "      <td>2024-05-01</td>\n",
       "      <td>105207.579379</td>\n",
       "      <td>508.419308</td>\n",
       "      <td>3.693297e+06</td>\n",
       "      <td>0.027697</td>\n",
       "      <td>0.04</td>\n",
       "      <td>0.028</td>\n",
       "      <td>0.03</td>\n",
       "      <td>0.014</td>\n",
       "    </tr>\n",
       "  </tbody>\n",
       "</table>\n",
       "</div>"
      ]
     },
     "execution_count": 219,
     "metadata": {},
     "output_type": "execute_result"
    }
   ],
   "execution_count": 219
  },
  {
   "metadata": {
    "ExecuteTime": {
     "end_time": "2024-12-01T00:29:13.957842Z",
     "start_time": "2024-12-01T00:29:13.926855Z"
    }
   },
   "cell_type": "code",
   "source": [
    "forecast1 = model.predict(df_test2)\n",
    "forecast1 = forecast1[['ds', 'yhat']]\n",
    "forecast1.head(10)"
   ],
   "id": "e246fbffc1f2c665",
   "outputs": [
    {
     "data": {
      "text/plain": [
       "          ds          yhat\n",
       "0 2023-11-01  87892.922070\n",
       "1 2023-12-01  88652.266145\n",
       "2 2024-01-01  90734.517825\n",
       "3 2024-02-01  92793.579278\n",
       "4 2024-03-01  92273.150783\n",
       "5 2024-04-01  94335.457657\n",
       "6 2024-05-01  95114.746539"
      ],
      "text/html": [
       "<div>\n",
       "<style scoped>\n",
       "    .dataframe tbody tr th:only-of-type {\n",
       "        vertical-align: middle;\n",
       "    }\n",
       "\n",
       "    .dataframe tbody tr th {\n",
       "        vertical-align: top;\n",
       "    }\n",
       "\n",
       "    .dataframe thead th {\n",
       "        text-align: right;\n",
       "    }\n",
       "</style>\n",
       "<table border=\"1\" class=\"dataframe\">\n",
       "  <thead>\n",
       "    <tr style=\"text-align: right;\">\n",
       "      <th></th>\n",
       "      <th>ds</th>\n",
       "      <th>yhat</th>\n",
       "    </tr>\n",
       "  </thead>\n",
       "  <tbody>\n",
       "    <tr>\n",
       "      <th>0</th>\n",
       "      <td>2023-11-01</td>\n",
       "      <td>87892.922070</td>\n",
       "    </tr>\n",
       "    <tr>\n",
       "      <th>1</th>\n",
       "      <td>2023-12-01</td>\n",
       "      <td>88652.266145</td>\n",
       "    </tr>\n",
       "    <tr>\n",
       "      <th>2</th>\n",
       "      <td>2024-01-01</td>\n",
       "      <td>90734.517825</td>\n",
       "    </tr>\n",
       "    <tr>\n",
       "      <th>3</th>\n",
       "      <td>2024-02-01</td>\n",
       "      <td>92793.579278</td>\n",
       "    </tr>\n",
       "    <tr>\n",
       "      <th>4</th>\n",
       "      <td>2024-03-01</td>\n",
       "      <td>92273.150783</td>\n",
       "    </tr>\n",
       "    <tr>\n",
       "      <th>5</th>\n",
       "      <td>2024-04-01</td>\n",
       "      <td>94335.457657</td>\n",
       "    </tr>\n",
       "    <tr>\n",
       "      <th>6</th>\n",
       "      <td>2024-05-01</td>\n",
       "      <td>95114.746539</td>\n",
       "    </tr>\n",
       "  </tbody>\n",
       "</table>\n",
       "</div>"
      ]
     },
     "execution_count": 220,
     "metadata": {},
     "output_type": "execute_result"
    }
   ],
   "execution_count": 220
  },
  {
   "metadata": {
    "ExecuteTime": {
     "end_time": "2024-12-01T00:29:14.767624Z",
     "start_time": "2024-12-01T00:29:14.762961Z"
    }
   },
   "cell_type": "code",
   "source": [
    "#calculate RMSE\n",
    "\n",
    "y = df_test['y'].values\n",
    "yhat = forecast1['yhat'].values\n",
    "\n",
    "sumerror= 0\n",
    "for i in range(len(y)):\n",
    "    sumerror += (y[i] - yhat[i])**2\n",
    "\n",
    "rmse = np.sqrt(sumerror/len(y))\n",
    "    \n",
    "print(rmse)"
   ],
   "id": "14e665dbd69297c6",
   "outputs": [
    {
     "name": "stdout",
     "output_type": "stream",
     "text": [
      "10330.507525420517\n"
     ]
    }
   ],
   "execution_count": 221
  },
  {
   "metadata": {
    "ExecuteTime": {
     "end_time": "2024-12-01T00:39:56.906158Z",
     "start_time": "2024-12-01T00:39:56.681995Z"
    }
   },
   "cell_type": "code",
   "source": [
    "import matplotlib.pyplot as plt\n",
    "\n",
    "df['Date'] = pd.to_datetime(df['Date'])\n",
    "forecast1['ds'] = pd.to_datetime(forecast1['ds'])\n",
    "\n",
    "# Ensure the data aligns properly\n",
    "plt.figure(figsize=(10, 6))\n",
    "\n",
    "# Plot the original values (test set)\n",
    "plt.plot(df['Date'], df['Value'], label='Original', color='blue')\n",
    "\n",
    "# Plot the forecasted values\n",
    "plt.plot(forecast1['ds'], forecast1['yhat'], label='Forecast', color='red')\n",
    "\n",
    "# Add labels and title\n",
    "plt.xlabel('Date')\n",
    "plt.ylabel('Value')\n",
    "plt.title('Original vs Forecasted Values')\n",
    "plt.legend()\n",
    "\n",
    "# Show the plot\n",
    "plt.show()\n",
    "\n",
    "\n"
   ],
   "id": "4047a257aba6e49d",
   "outputs": [
    {
     "data": {
      "text/plain": [
       "<Figure size 1000x600 with 1 Axes>"
      ],
      "image/png": "[encoded data removed]"
     },
     "metadata": {},
     "output_type": "display_data"
    }
   ],
   "execution_count": 223
  },
  {
   "metadata": {
    "ExecuteTime": {
     "end_time": "2024-12-01T00:11:20.071702Z",
     "start_time": "2024-12-01T00:11:20.070091Z"
    }
   },
   "cell_type": "code",
   "source": "",
   "id": "35ee95584d500ab5",
   "outputs": [],
   "execution_count": null
  },
  {
   "metadata": {},
   "cell_type": "code",
   "outputs": [],
   "execution_count": null,
   "source": "",
   "id": "b686abba96532f85"
  }
 ],
 "metadata": {
  "kernelspec": {
   "display_name": "Python 3",
   "language": "python",
   "name": "python3"
  },
  "language_info": {
   "codemirror_mode": {
    "name": "ipython",
    "version": 2
   },
   "file_extension": ".py",
   "mimetype": "text/x-python",
   "name": "python",
   "nbconvert_exporter": "python",
   "pygments_lexer": "ipython2",
   "version": "2.7.6"
  }
 },
 "nbformat": 4,
 "nbformat_minor": 5
}
