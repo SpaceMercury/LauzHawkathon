{
 "cells": [
  {
   "cell_type": "code",
   "execution_count": 1,
   "metadata": {},
   "outputs": [],
   "source": [
    "import pandas as pd"
   ]
  },
  {
   "cell_type": "markdown",
   "metadata": {},
   "source": [
    "## Ex-Factory Volumes"
   ]
  },
  {
   "cell_type": "code",
   "execution_count": 4,
   "metadata": {},
   "outputs": [
    {
     "data": {
      "text/html": [
       "<div>\n",
       "<style scoped>\n",
       "    .dataframe tbody tr th:only-of-type {\n",
       "        vertical-align: middle;\n",
       "    }\n",
       "\n",
       "    .dataframe tbody tr th {\n",
       "        vertical-align: top;\n",
       "    }\n",
       "\n",
       "    .dataframe thead th {\n",
       "        text-align: right;\n",
       "    }\n",
       "</style>\n",
       "<table border=\"1\" class=\"dataframe\">\n",
       "  <thead>\n",
       "    <tr style=\"text-align: right;\">\n",
       "      <th></th>\n",
       "      <th>Country</th>\n",
       "      <th>Data type</th>\n",
       "      <th>Measure</th>\n",
       "      <th>Product</th>\n",
       "      <th>Date</th>\n",
       "      <th>Value</th>\n",
       "    </tr>\n",
       "  </thead>\n",
       "  <tbody>\n",
       "    <tr>\n",
       "      <th>0</th>\n",
       "      <td>Zegoland</td>\n",
       "      <td>Ex-factory volumes</td>\n",
       "      <td>Milligrams</td>\n",
       "      <td>BRISTOR</td>\n",
       "      <td>2020-08-01</td>\n",
       "      <td>450.80</td>\n",
       "    </tr>\n",
       "    <tr>\n",
       "      <th>1</th>\n",
       "      <td>Zegoland</td>\n",
       "      <td>Ex-factory volumes</td>\n",
       "      <td>Milligrams</td>\n",
       "      <td>BRISTOR</td>\n",
       "      <td>2020-09-01</td>\n",
       "      <td>3896.66</td>\n",
       "    </tr>\n",
       "    <tr>\n",
       "      <th>2</th>\n",
       "      <td>Zegoland</td>\n",
       "      <td>Ex-factory volumes</td>\n",
       "      <td>Milligrams</td>\n",
       "      <td>BRISTOR</td>\n",
       "      <td>2020-10-01</td>\n",
       "      <td>5761.50</td>\n",
       "    </tr>\n",
       "    <tr>\n",
       "      <th>3</th>\n",
       "      <td>Zegoland</td>\n",
       "      <td>Ex-factory volumes</td>\n",
       "      <td>Milligrams</td>\n",
       "      <td>BRISTOR</td>\n",
       "      <td>2020-11-01</td>\n",
       "      <td>9467.26</td>\n",
       "    </tr>\n",
       "    <tr>\n",
       "      <th>4</th>\n",
       "      <td>Zegoland</td>\n",
       "      <td>Ex-factory volumes</td>\n",
       "      <td>Milligrams</td>\n",
       "      <td>BRISTOR</td>\n",
       "      <td>2020-12-01</td>\n",
       "      <td>11331.18</td>\n",
       "    </tr>\n",
       "  </tbody>\n",
       "</table>\n",
       "</div>"
      ],
      "text/plain": [
       "    Country           Data type     Measure  Product       Date     Value\n",
       "0  Zegoland  Ex-factory volumes  Milligrams  BRISTOR 2020-08-01    450.80\n",
       "1  Zegoland  Ex-factory volumes  Milligrams  BRISTOR 2020-09-01   3896.66\n",
       "2  Zegoland  Ex-factory volumes  Milligrams  BRISTOR 2020-10-01   5761.50\n",
       "3  Zegoland  Ex-factory volumes  Milligrams  BRISTOR 2020-11-01   9467.26\n",
       "4  Zegoland  Ex-factory volumes  Milligrams  BRISTOR 2020-12-01  11331.18"
      ]
     },
     "execution_count": 4,
     "metadata": {},
     "output_type": "execute_result"
    }
   ],
   "source": [
    "df_ex_factory_volumes = pd.read_excel('../files/BRISTOR_Zegoland.xlsx', sheet_name= 1)\n",
    "\n",
    "df_ex_factory_volumes.head()"
   ]
  }
 ],
 "metadata": {
  "kernelspec": {
   "display_name": "Bio-210",
   "language": "python",
   "name": "python3"
  },
  "language_info": {
   "codemirror_mode": {
    "name": "ipython",
    "version": 3
   },
   "file_extension": ".py",
   "mimetype": "text/x-python",
   "name": "python",
   "nbconvert_exporter": "python",
   "pygments_lexer": "ipython3",
   "version": "3.12.0"
  }
 },
 "nbformat": 4,
 "nbformat_minor": 2
}
