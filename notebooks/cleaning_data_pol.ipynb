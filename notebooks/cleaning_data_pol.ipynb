{
 "cells": [
  {
   "metadata": {
    "ExecuteTime": {
     "end_time": "2024-11-30T15:23:53.915020Z",
     "start_time": "2024-11-30T15:23:53.329576Z"
    }
   },
   "cell_type": "code",
   "source": [
    "\n",
    "import pandas as pd\n",
    "\n",
    "ex_factory_vols = pd.read_excel('../files/BRISTOR_Zegoland.xlsx', sheet_name=1)\n",
    "# Load the data from xlsx\n",
    "demand_vols = pd.read_excel('../files/BRISTOR_Zegoland.xlsx', sheet_name=3)"
   ],
   "id": "b1835aff87e42760",
   "outputs": [],
   "execution_count": 1
  },
  {
   "metadata": {
    "ExecuteTime": {
     "end_time": "2024-11-30T15:23:54.911948Z",
     "start_time": "2024-11-30T15:23:54.905903Z"
    }
   },
   "cell_type": "code",
   "source": "print(demand_vols.tail())",
   "id": "df79688f3aa3fec3",
   "outputs": [
    {
     "name": "stdout",
     "output_type": "stream",
     "text": [
      "      Country  Product       Data type    Indication            Measure  \\\n",
      "119  Zegoland  BRISTOR  Demand volumes  Indication B  Days of Treatment   \n",
      "120  Zegoland  BRISTOR  Demand volumes  Indication B  Days of Treatment   \n",
      "121  Zegoland  BRISTOR  Demand volumes  Indication B  Days of Treatment   \n",
      "122  Zegoland  BRISTOR  Demand volumes  Indication B  Days of Treatment   \n",
      "123  Zegoland  BRISTOR  Demand volumes  Indication B  Days of Treatment   \n",
      "\n",
      "        Date       Value  \n",
      "119  févr-24  448.705210  \n",
      "120  mars-24  423.473075  \n",
      "121   avr-24  592.564658  \n",
      "122   mai-24  508.419308  \n",
      "123  juin-24  516.453153  \n"
     ]
    }
   ],
   "execution_count": 2
  },
  {
   "metadata": {
    "ExecuteTime": {
     "end_time": "2024-11-30T15:23:56.169010Z",
     "start_time": "2024-11-30T15:23:56.162880Z"
    }
   },
   "cell_type": "code",
   "source": "print(ex_factory_vols.head())",
   "id": "abb9baeb1f1c58ae",
   "outputs": [
    {
     "name": "stdout",
     "output_type": "stream",
     "text": [
      "    Country           Data type     Measure  Product       Date     Value\n",
      "0  Zegoland  Ex-factory volumes  Milligrams  BRISTOR 2020-08-01    450.80\n",
      "1  Zegoland  Ex-factory volumes  Milligrams  BRISTOR 2020-09-01   3896.66\n",
      "2  Zegoland  Ex-factory volumes  Milligrams  BRISTOR 2020-10-01   5761.50\n",
      "3  Zegoland  Ex-factory volumes  Milligrams  BRISTOR 2020-11-01   9467.26\n",
      "4  Zegoland  Ex-factory volumes  Milligrams  BRISTOR 2020-12-01  11331.18\n"
     ]
    }
   ],
   "execution_count": 3
  },
  {
   "metadata": {
    "ExecuteTime": {
     "end_time": "2024-11-30T15:23:59.891352Z",
     "start_time": "2024-11-30T15:23:59.884988Z"
    }
   },
   "cell_type": "code",
   "source": [
    "\n",
    "\n",
    "# drop columns until date == nov 21\n",
    "ex_factory_vols = ex_factory_vols[ex_factory_vols['Date'] >= '2021-11-01']\n",
    "\n",
    "ex_factory_vols = ex_factory_vols[ex_factory_vols['Date'] <= '2024-06-01']\n",
    "\n",
    "\n"
   ],
   "id": "9663ab33f016917b",
   "outputs": [],
   "execution_count": 4
  },
  {
   "metadata": {
    "ExecuteTime": {
     "end_time": "2024-11-30T15:24:00.977064Z",
     "start_time": "2024-11-30T15:24:00.971526Z"
    }
   },
   "cell_type": "code",
   "source": "print(ex_factory_vols.head())",
   "id": "357cb57440ee4a4",
   "outputs": [
    {
     "name": "stdout",
     "output_type": "stream",
     "text": [
      "     Country           Data type     Measure  Product       Date     Value\n",
      "15  Zegoland  Ex-factory volumes  Milligrams  BRISTOR 2021-11-01  56305.84\n",
      "16  Zegoland  Ex-factory volumes  Milligrams  BRISTOR 2021-12-01  35581.00\n",
      "17  Zegoland  Ex-factory volumes  Milligrams  BRISTOR 2022-01-01  41136.88\n",
      "18  Zegoland  Ex-factory volumes  Milligrams  BRISTOR 2022-02-01  41689.80\n",
      "19  Zegoland  Ex-factory volumes  Milligrams  BRISTOR 2022-03-01  54587.28\n"
     ]
    }
   ],
   "execution_count": 5
  },
  {
   "metadata": {
    "ExecuteTime": {
     "end_time": "2024-11-30T15:24:02.888665Z",
     "start_time": "2024-11-30T15:24:02.884130Z"
    }
   },
   "cell_type": "code",
   "source": [
    "filtered_demand = demand_vols.iloc[14:]\n",
    "\n",
    "truncated_demand = filtered_demand['Value'].iloc[:len(ex_factory_vols)]\n"
   ],
   "id": "99f204f40d0e929b",
   "outputs": [],
   "execution_count": 6
  },
  {
   "metadata": {
    "ExecuteTime": {
     "end_time": "2024-11-30T15:24:03.374488Z",
     "start_time": "2024-11-30T15:24:03.369717Z"
    }
   },
   "cell_type": "code",
   "source": "ex_factory_vols['demandA'] = truncated_demand.values\n",
   "id": "8c7d2bd70e3cf24e",
   "outputs": [],
   "execution_count": 7
  },
  {
   "metadata": {
    "ExecuteTime": {
     "end_time": "2024-11-30T15:24:03.755677Z",
     "start_time": "2024-11-30T15:24:03.750704Z"
    }
   },
   "cell_type": "code",
   "source": "print(ex_factory_vols.head())\n",
   "id": "eeaa492c47725577",
   "outputs": [
    {
     "name": "stdout",
     "output_type": "stream",
     "text": [
      "     Country           Data type     Measure  Product       Date     Value  \\\n",
      "15  Zegoland  Ex-factory volumes  Milligrams  BRISTOR 2021-11-01  56305.84   \n",
      "16  Zegoland  Ex-factory volumes  Milligrams  BRISTOR 2021-12-01  35581.00   \n",
      "17  Zegoland  Ex-factory volumes  Milligrams  BRISTOR 2022-01-01  41136.88   \n",
      "18  Zegoland  Ex-factory volumes  Milligrams  BRISTOR 2022-02-01  41689.80   \n",
      "19  Zegoland  Ex-factory volumes  Milligrams  BRISTOR 2022-03-01  54587.28   \n",
      "\n",
      "         demandA  \n",
      "15  50690.626885  \n",
      "16  50570.861295  \n",
      "17  50917.380645  \n",
      "18  50780.830461  \n",
      "19  62515.496098  \n"
     ]
    }
   ],
   "execution_count": 8
  },
  {
   "metadata": {
    "ExecuteTime": {
     "end_time": "2024-11-30T15:24:04.230765Z",
     "start_time": "2024-11-30T15:24:04.155698Z"
    }
   },
   "cell_type": "code",
   "source": [
    "demand_vols2 = pd.read_excel('../files/BRISTOR_Zegoland.xlsx', sheet_name=3)\n",
    "demand_vols2_filtered = demand_vols2.iloc[92:]\n",
    "\n",
    "# Print the first few rows to verify\n",
    "print(demand_vols2_filtered.head())\n"
   ],
   "id": "fa378586c6d55b49",
   "outputs": [
    {
     "name": "stdout",
     "output_type": "stream",
     "text": [
      "     Country  Product       Data type    Indication            Measure  \\\n",
      "92  Zegoland  BRISTOR  Demand volumes  Indication B  Days of Treatment   \n",
      "93  Zegoland  BRISTOR  Demand volumes  Indication B  Days of Treatment   \n",
      "94  Zegoland  BRISTOR  Demand volumes  Indication B  Days of Treatment   \n",
      "95  Zegoland  BRISTOR  Demand volumes  Indication B  Days of Treatment   \n",
      "96  Zegoland  BRISTOR  Demand volumes  Indication B  Days of Treatment   \n",
      "\n",
      "       Date       Value  \n",
      "92   nov-21    2.000000  \n",
      "93   déc-21   54.000000  \n",
      "94  janv-22   86.814883  \n",
      "95  févr-22  117.704204  \n",
      "96  mars-22  175.611087  \n"
     ]
    }
   ],
   "execution_count": 9
  },
  {
   "metadata": {
    "ExecuteTime": {
     "end_time": "2024-11-30T15:24:04.503947Z",
     "start_time": "2024-11-30T15:24:04.500757Z"
    }
   },
   "cell_type": "code",
   "source": [
    "truncated_demand = demand_vols2_filtered['Value'].iloc[:len(ex_factory_vols)]\n",
    "ex_factory_vols['demandB'] = truncated_demand.values\n"
   ],
   "id": "2720db3d0402c350",
   "outputs": [],
   "execution_count": 10
  },
  {
   "metadata": {
    "ExecuteTime": {
     "end_time": "2024-11-30T15:24:04.872893Z",
     "start_time": "2024-11-30T15:24:04.867749Z"
    }
   },
   "cell_type": "code",
   "source": "print(ex_factory_vols.head(5))\n",
   "id": "af13b3390cf41077",
   "outputs": [
    {
     "name": "stdout",
     "output_type": "stream",
     "text": [
      "     Country           Data type     Measure  Product       Date     Value  \\\n",
      "15  Zegoland  Ex-factory volumes  Milligrams  BRISTOR 2021-11-01  56305.84   \n",
      "16  Zegoland  Ex-factory volumes  Milligrams  BRISTOR 2021-12-01  35581.00   \n",
      "17  Zegoland  Ex-factory volumes  Milligrams  BRISTOR 2022-01-01  41136.88   \n",
      "18  Zegoland  Ex-factory volumes  Milligrams  BRISTOR 2022-02-01  41689.80   \n",
      "19  Zegoland  Ex-factory volumes  Milligrams  BRISTOR 2022-03-01  54587.28   \n",
      "\n",
      "         demandA     demandB  \n",
      "15  50690.626885    2.000000  \n",
      "16  50570.861295   54.000000  \n",
      "17  50917.380645   86.814883  \n",
      "18  50780.830461  117.704204  \n",
      "19  62515.496098  175.611087  \n"
     ]
    }
   ],
   "execution_count": 11
  },
  {
   "metadata": {
    "ExecuteTime": {
     "end_time": "2024-11-30T15:24:05.237364Z",
     "start_time": "2024-11-30T15:24:05.232008Z"
    }
   },
   "cell_type": "code",
   "source": "print(ex_factory_vols.tail(5))\n",
   "id": "e7a67a300cae8854",
   "outputs": [
    {
     "name": "stdout",
     "output_type": "stream",
     "text": [
      "     Country           Data type     Measure  Product       Date      Value  \\\n",
      "42  Zegoland  Ex-factory volumes  Milligrams  BRISTOR 2024-02-01   87933.60   \n",
      "43  Zegoland  Ex-factory volumes  Milligrams  BRISTOR 2024-03-01   91203.28   \n",
      "44  Zegoland  Ex-factory volumes  Milligrams  BRISTOR 2024-04-01  103920.44   \n",
      "45  Zegoland  Ex-factory volumes  Milligrams  BRISTOR 2024-05-01   87597.80   \n",
      "46  Zegoland  Ex-factory volumes  Milligrams  BRISTOR 2024-06-01   91210.64   \n",
      "\n",
      "          demandA     demandB  \n",
      "42   99594.883198  448.705210  \n",
      "43  100535.360644  423.473075  \n",
      "44  109092.158318  592.564658  \n",
      "45  105207.579379  508.419308  \n",
      "46  103557.216597  516.453153  \n"
     ]
    }
   ],
   "execution_count": 12
  },
  {
   "metadata": {
    "ExecuteTime": {
     "end_time": "2024-11-30T15:25:23.886322Z",
     "start_time": "2024-11-30T15:25:23.881029Z"
    }
   },
   "cell_type": "code",
   "source": [
    "\n",
    "ex_factory_vols.to_csv('../files/BRISTOR_Zegoland_cleaned.csv', index=False)\n",
    "\n"
   ],
   "id": "f39a704bd63cf4c1",
   "outputs": [],
   "execution_count": 14
  },
  {
   "metadata": {
    "ExecuteTime": {
     "end_time": "2024-11-30T15:26:01.001979Z",
     "start_time": "2024-11-30T15:26:00.991648Z"
    }
   },
   "cell_type": "code",
   "source": [
    "# Verify the file was saved by reading it back\n",
    "saved_df = pd.read_csv('../files/BRISTOR_Zegoland_cleaned.csv')\n",
    "print(saved_df.head())"
   ],
   "id": "a8a2282a1f1efbe6",
   "outputs": [
    {
     "name": "stdout",
     "output_type": "stream",
     "text": [
      "    Country           Data type     Measure  Product        Date     Value  \\\n",
      "0  Zegoland  Ex-factory volumes  Milligrams  BRISTOR  2021-11-01  56305.84   \n",
      "1  Zegoland  Ex-factory volumes  Milligrams  BRISTOR  2021-12-01  35581.00   \n",
      "2  Zegoland  Ex-factory volumes  Milligrams  BRISTOR  2022-01-01  41136.88   \n",
      "3  Zegoland  Ex-factory volumes  Milligrams  BRISTOR  2022-02-01  41689.80   \n",
      "4  Zegoland  Ex-factory volumes  Milligrams  BRISTOR  2022-03-01  54587.28   \n",
      "\n",
      "        demandA     demandB  \n",
      "0  50690.626885    2.000000  \n",
      "1  50570.861295   54.000000  \n",
      "2  50917.380645   86.814883  \n",
      "3  50780.830461  117.704204  \n",
      "4  62515.496098  175.611087  \n"
     ]
    }
   ],
   "execution_count": 15
  },
  {
   "metadata": {},
   "cell_type": "code",
   "outputs": [],
   "execution_count": null,
   "source": "",
   "id": "281c29d98622fc4c"
  },
  {
   "metadata": {},
   "cell_type": "code",
   "outputs": [],
   "execution_count": null,
   "source": [
    "\n",
    "\n",
    "\n",
    "\n",
    "\n",
    "\n",
    "\n",
    "\n"
   ],
   "id": "e2970b7a5d44ba91"
  }
 ],
 "metadata": {
  "kernelspec": {
   "display_name": "Python 3",
   "language": "python",
   "name": "python3"
  },
  "language_info": {
   "codemirror_mode": {
    "name": "ipython",
    "version": 2
   },
   "file_extension": ".py",
   "mimetype": "text/x-python",
   "name": "python",
   "nbconvert_exporter": "python",
   "pygments_lexer": "ipython2",
   "version": "2.7.6"
  }
 },
 "nbformat": 4,
 "nbformat_minor": 5
}
