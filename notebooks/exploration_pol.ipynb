{
 "cells": [
  {
   "cell_type": "code",
   "id": "initial_id",
   "metadata": {
    "collapsed": true,
    "ExecuteTime": {
     "end_time": "2024-11-30T14:34:52.088059Z",
     "start_time": "2024-11-30T14:34:51.588801Z"
    }
   },
   "source": [
    "\n",
    "import pandas as pd"
   ],
   "outputs": [],
   "execution_count": 1
  },
  {
   "cell_type": "code",
   "id": "fb269b593153bf0c",
   "metadata": {
    "ExecuteTime": {
     "end_time": "2024-11-30T14:42:15.979154Z",
     "start_time": "2024-11-30T14:42:15.724126Z"
    }
   },
   "source": [
    "# Load the data from xlsx\n",
    "## BRISTOR ##\n",
    "\n",
    "\n",
    "ex_factory_vols = pd.read_excel('../files/BRISTOR_Zegoland.xlsx', sheet_name=1)\n",
    "# Load the data from xlsx\n",
    "forecast_vols = pd.read_excel('../files/BRISTOR_Zegoland.xlsx', sheet_name=2)\n",
    "\n",
    "\n",
    "# Load the data from xlsx\n",
    "demand_vols = pd.read_excel('../files/BRISTOR_Zegoland.xlsx', sheet_name=3)\n",
    "\n",
    "# Load the data from xlsx\n",
    "patient_nums = pd.read_excel('../files/BRISTOR_Zegoland.xlsx', sheet_name=4)\n",
    "\n",
    "# Load the data from xlsx\n",
    "activity = pd.read_excel('../files/BRISTOR_Zegoland.xlsx', sheet_name=5)\n",
    "# Load the data from xlsx\n",
    "voice = pd.read_excel('../files/BRISTOR_Zegoland.xlsx', sheet_name=6)\n",
    "\n",
    "\n",
    "\n"
   ],
   "outputs": [],
   "execution_count": 14
  },
  {
   "cell_type": "code",
   "id": "c33f7b4f150b8550",
   "metadata": {
    "ExecuteTime": {
     "end_time": "2024-11-30T14:43:02.862855Z",
     "start_time": "2024-11-30T14:43:02.855980Z"
    }
   },
   "source": [
    "# Display the first 5 rows of the data\n",
    "demand_vols = demand_vols.rename(columns={'Value': 'Demand'})\n",
    "\n",
    "demand_vols = demand_vols[['Demand', 'Date']]\n",
    "\n",
    "print(demand_vols.head())\n"
   ],
   "outputs": [
    {
     "name": "stdout",
     "output_type": "stream",
     "text": [
      "    Demand       Date\n",
      "0   3087.0 2020-09-01\n",
      "1   4886.0 2020-10-01\n",
      "2   8077.0 2020-11-01\n",
      "3  12322.0        NaT\n",
      "4  13030.0        NaT\n"
     ]
    }
   ],
   "execution_count": 21
  },
  {
   "metadata": {
    "ExecuteTime": {
     "end_time": "2024-11-30T14:42:21.824534Z",
     "start_time": "2024-11-30T14:42:21.809080Z"
    }
   },
   "cell_type": "code",
   "source": "print(ex_factory_vols.info())",
   "id": "f93af64d764c6d6d",
   "outputs": [
    {
     "name": "stdout",
     "output_type": "stream",
     "text": [
      "<class 'pandas.core.frame.DataFrame'>\n",
      "RangeIndex: 51 entries, 0 to 50\n",
      "Data columns (total 6 columns):\n",
      " #   Column     Non-Null Count  Dtype         \n",
      "---  ------     --------------  -----         \n",
      " 0   Country    51 non-null     object        \n",
      " 1   Data type  51 non-null     object        \n",
      " 2   Measure    51 non-null     object        \n",
      " 3   Product    51 non-null     object        \n",
      " 4   Date       51 non-null     datetime64[ns]\n",
      " 5   Value      51 non-null     float64       \n",
      "dtypes: datetime64[ns](1), float64(1), object(4)\n",
      "memory usage: 2.5+ KB\n",
      "None\n"
     ]
    }
   ],
   "execution_count": 16
  },
  {
   "metadata": {
    "ExecuteTime": {
     "end_time": "2024-11-30T14:42:22.219856Z",
     "start_time": "2024-11-30T14:42:22.213584Z"
    }
   },
   "cell_type": "code",
   "source": "print(forecast_vols.info())",
   "id": "16dbb76e8d13c453",
   "outputs": [
    {
     "name": "stdout",
     "output_type": "stream",
     "text": [
      "<class 'pandas.core.frame.DataFrame'>\n",
      "RangeIndex: 140 entries, 0 to 139\n",
      "Data columns (total 7 columns):\n",
      " #   Column              Non-Null Count  Dtype         \n",
      "---  ------              --------------  -----         \n",
      " 0   Country             140 non-null    object        \n",
      " 1   Product             140 non-null    object        \n",
      " 2   Data type           140 non-null    object        \n",
      " 3   Forecast Algorithm  140 non-null    object        \n",
      " 4   Data period         140 non-null    object        \n",
      " 5   Date                140 non-null    datetime64[ns]\n",
      " 6   Value               140 non-null    float64       \n",
      "dtypes: datetime64[ns](1), float64(1), object(5)\n",
      "memory usage: 7.8+ KB\n",
      "None\n"
     ]
    }
   ],
   "execution_count": 17
  },
  {
   "metadata": {
    "ExecuteTime": {
     "end_time": "2024-11-30T14:42:22.683517Z",
     "start_time": "2024-11-30T14:42:22.680777Z"
    }
   },
   "cell_type": "code",
   "source": [
    "print(forecast_vols['Date'].dtype)\n",
    "print(ex_factory_vols['Date'].dtype)"
   ],
   "id": "ecd9358864c44a0e",
   "outputs": [
    {
     "name": "stdout",
     "output_type": "stream",
     "text": [
      "datetime64[ns]\n",
      "datetime64[ns]\n"
     ]
    }
   ],
   "execution_count": 18
  },
  {
   "metadata": {
    "ExecuteTime": {
     "end_time": "2024-11-30T14:42:31.045148Z",
     "start_time": "2024-11-30T14:42:31.036802Z"
    }
   },
   "cell_type": "code",
   "source": [
    "\n",
    "\n",
    "# Merge the DataFrames on the Date column\n",
    "merged_df = ex_factory_vols.merge(demand_vols, on='Date', how='left')\n",
    "\n",
    "# Display the first few rows of the merged DataFrame\n",
    "print(merged_df.head())\n",
    "\n"
   ],
   "id": "2028e5d6c43a1c42",
   "outputs": [
    {
     "name": "stdout",
     "output_type": "stream",
     "text": [
      "  Country_x         Data type_x   Measure_x Product_x       Date    Value  \\\n",
      "0  Zegoland  Ex-factory volumes  Milligrams   BRISTOR 2020-08-01   450.80   \n",
      "1  Zegoland  Ex-factory volumes  Milligrams   BRISTOR 2020-09-01  3896.66   \n",
      "2  Zegoland  Ex-factory volumes  Milligrams   BRISTOR 2020-09-01  3896.66   \n",
      "3  Zegoland  Ex-factory volumes  Milligrams   BRISTOR 2020-10-01  5761.50   \n",
      "4  Zegoland  Ex-factory volumes  Milligrams   BRISTOR 2020-10-01  5761.50   \n",
      "\n",
      "  Country_y    Product_y     Data type_y    Indication          Measure_y  \\\n",
      "0       NaN          NaN             NaN           NaN                NaN   \n",
      "1  Zegoland      BRISTOR  Demand volumes  Indication A  Days of Treatment   \n",
      "2  Zegoland  Competitors  Demand volumes  Indication A  Days of Treatment   \n",
      "3  Zegoland      BRISTOR  Demand volumes  Indication A  Days of Treatment   \n",
      "4  Zegoland  Competitors  Demand volumes  Indication A  Days of Treatment   \n",
      "\n",
      "         Demand  \n",
      "0           NaN  \n",
      "1  3.087000e+03  \n",
      "2  3.361578e+06  \n",
      "3  4.886000e+03  \n",
      "4  3.682805e+06  \n"
     ]
    }
   ],
   "execution_count": 20
  },
  {
   "metadata": {},
   "cell_type": "code",
   "outputs": [],
   "execution_count": null,
   "source": [
    "\n",
    "\n",
    "\n",
    "\n"
   ],
   "id": "c0d4ab8c935c511"
  }
 ],
 "metadata": {
  "kernelspec": {
   "display_name": "Python 3",
   "language": "python",
   "name": "python3"
  },
  "language_info": {
   "codemirror_mode": {
    "name": "ipython",
    "version": 3
   },
   "file_extension": ".py",
   "mimetype": "text/x-python",
   "name": "python",
   "nbconvert_exporter": "python",
   "pygments_lexer": "ipython3",
   "version": "3.12.0"
  }
 },
 "nbformat": 4,
 "nbformat_minor": 5
}
