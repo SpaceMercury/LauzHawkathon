{
 "cells": [
  {
   "cell_type": "code",
   "execution_count": 1,
   "id": "initial_id",
   "metadata": {
    "ExecuteTime": {
     "end_time": "2024-11-30T13:41:36.722897Z",
     "start_time": "2024-11-30T13:41:36.542333Z"
    },
    "collapsed": true
   },
   "outputs": [],
   "source": [
    "\n",
    "import pandas as pd"
   ]
  },
  {
   "cell_type": "code",
   "id": "fb269b593153bf0c",
   "metadata": {
    "ExecuteTime": {
     "end_time": "2024-11-30T14:11:57.666434Z",
     "start_time": "2024-11-30T14:11:57.390317Z"
    }
   },
   "source": [
    "# Load the data from xlsx\n",
    "ex_factory_vols = pd.read_excel('../files/BRISTOR_Zegoland.xlsx', sheet_name=1)\n",
    "# Load the data from xlsx\n",
    "forecast_vols = pd.read_excel('../files/BRISTOR_Zegoland.xlsx', sheet_name=2)\n",
    "\n",
    "# Load the data from xlsx\n",
    "demand_vols = pd.read_excel('../files/BRISTOR_Zegoland.xlsx', sheet_name=3)\n",
    "\n",
    "# Load the data from xlsx\n",
    "patient_nums = pd.read_excel('../files/BRISTOR_Zegoland.xlsx', sheet_name=4)\n",
    "\n",
    "# Load the data from xlsx\n",
    "activity = pd.read_excel('../files/BRISTOR_Zegoland.xlsx', sheet_name=5)\n",
    "# Load the data from xlsx\n",
    "voice = pd.read_excel('../files/BRISTOR_Zegoland.xlsx', sheet_name=6)\n",
    "\n",
    "\n",
    "\n"
   ],
   "outputs": [],
   "execution_count": 11
  },
  {
   "cell_type": "code",
   "id": "c33f7b4f150b8550",
   "metadata": {
    "ExecuteTime": {
     "end_time": "2024-11-30T14:12:07.018424Z",
     "start_time": "2024-11-30T14:12:07.012453Z"
    }
   },
   "source": [
    "# Display the first 5 rows of the data\n",
    "print(ex_factory_vols.head())"
   ],
   "outputs": [
    {
     "name": "stdout",
     "output_type": "stream",
     "text": [
      "    Country           Data type     Measure  Product       Date     Value\n",
      "0  Zegoland  Ex-factory volumes  Milligrams  BRISTOR 2020-08-01    450.80\n",
      "1  Zegoland  Ex-factory volumes  Milligrams  BRISTOR 2020-09-01   3896.66\n",
      "2  Zegoland  Ex-factory volumes  Milligrams  BRISTOR 2020-10-01   5761.50\n",
      "3  Zegoland  Ex-factory volumes  Milligrams  BRISTOR 2020-11-01   9467.26\n",
      "4  Zegoland  Ex-factory volumes  Milligrams  BRISTOR 2020-12-01  11331.18\n"
     ]
    }
   ],
   "execution_count": 13
  },
  {
   "metadata": {},
   "cell_type": "code",
   "outputs": [],
   "execution_count": null,
   "source": [
    "\n",
    "# Let's try a a simple forecasting \n",
    "\n",
    "\n"
   ],
   "id": "2028e5d6c43a1c42"
  }
 ],
 "metadata": {
  "kernelspec": {
   "display_name": "Python 3",
   "language": "python",
   "name": "python3"
  },
  "language_info": {
   "codemirror_mode": {
    "name": "ipython",
    "version": 3
   },
   "file_extension": ".py",
   "mimetype": "text/x-python",
   "name": "python",
   "nbconvert_exporter": "python",
   "pygments_lexer": "ipython3",
   "version": "3.12.0"
  }
 },
 "nbformat": 4,
 "nbformat_minor": 5
}
