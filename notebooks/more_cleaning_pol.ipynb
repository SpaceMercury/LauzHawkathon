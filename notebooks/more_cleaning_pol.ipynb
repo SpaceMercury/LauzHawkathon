{
 "cells": [
  {
   "cell_type": "code",
   "id": "initial_id",
   "metadata": {
    "collapsed": true,
    "ExecuteTime": {
     "end_time": "2024-11-30T16:22:19.951088Z",
     "start_time": "2024-11-30T16:22:19.943896Z"
    }
   },
   "source": [
    "import pandas as pd\n",
    "\n",
    "base_df = pd.read_csv('../clean_data/BRISTOR_Zegoland_demandShare.csv')\n",
    "pd.options.display.float_format = '{:.5f}'.format"
   ],
   "outputs": [],
   "execution_count": 32
  },
  {
   "metadata": {
    "ExecuteTime": {
     "end_time": "2024-11-30T16:25:39.676471Z",
     "start_time": "2024-11-30T16:25:39.520464Z"
    }
   },
   "cell_type": "code",
   "source": [
    "\n",
    "# Load the data from xlsx\n",
    "patient_nums = pd.read_excel('../files/BRISTOR_Zegoland.xlsx', sheet_name=4)\n",
    "\n",
    "# Load the data from xlsx\n",
    "activity = pd.read_excel('../files/BRISTOR_Zegoland.xlsx', sheet_name=5)\n",
    "# Load the data from xlsx\n",
    "voice = pd.read_excel('../files/BRISTOR_Zegoland.xlsx', sheet_name=6)\n",
    "\n"
   ],
   "id": "ed19199c17d5fa5f",
   "outputs": [],
   "execution_count": 35
  },
  {
   "metadata": {
    "ExecuteTime": {
     "end_time": "2024-11-30T16:25:39.836072Z",
     "start_time": "2024-11-30T16:25:39.830798Z"
    }
   },
   "cell_type": "code",
   "source": [
    "\n",
    "patient_filteredA = patient_nums.iloc[98:]\n",
    "print(patient_filteredA.head())\n",
    "\n"
   ],
   "id": "f8c1e25651ca820f",
   "outputs": [
    {
     "name": "stdout",
     "output_type": "stream",
     "text": [
      "      Country  Product        Data type    Indication        Measure     Date  \\\n",
      "98   Zegoland  BRISTOR  Patient numbers  Indication A  New Patient %   nov-21   \n",
      "99   Zegoland  BRISTOR  Patient numbers  Indication A  New Patient %   déc-21   \n",
      "100  Zegoland  BRISTOR  Patient numbers  Indication A  New Patient %  janv-22   \n",
      "101  Zegoland  BRISTOR  Patient numbers  Indication A  New Patient %  févr-22   \n",
      "102  Zegoland  BRISTOR  Patient numbers  Indication A  New Patient %  mars-22   \n",
      "\n",
      "      Value  \n",
      "98  0.05000  \n",
      "99  0.06000  \n",
      "100 0.05000  \n",
      "101 0.04000  \n",
      "102 0.05000  \n"
     ]
    }
   ],
   "execution_count": 36
  },
  {
   "metadata": {
    "ExecuteTime": {
     "end_time": "2024-11-30T16:25:40.519298Z",
     "start_time": "2024-11-30T16:25:40.514470Z"
    }
   },
   "cell_type": "code",
   "source": [
    "truncated_demand = patient_filteredA['Value'].iloc[:len(base_df)]\n",
    "base_df['newPatientShareA'] = truncated_demand.values\n"
   ],
   "id": "b9e5a540d9883b0e",
   "outputs": [],
   "execution_count": 37
  },
  {
   "metadata": {
    "ExecuteTime": {
     "end_time": "2024-11-30T16:26:12.494215Z",
     "start_time": "2024-11-30T16:26:12.485993Z"
    }
   },
   "cell_type": "code",
   "source": "print(base_df.head())",
   "id": "675c7bbfa9b3f65e",
   "outputs": [
    {
     "name": "stdout",
     "output_type": "stream",
     "text": [
      "    Country           Data type     Measure  Product        Date       Value  \\\n",
      "0  Zegoland  Ex-factory volumes  Milligrams  BRISTOR  2021-11-01 56305.84000   \n",
      "1  Zegoland  Ex-factory volumes  Milligrams  BRISTOR  2021-12-01 35581.00000   \n",
      "2  Zegoland  Ex-factory volumes  Milligrams  BRISTOR  2022-01-01 41136.88000   \n",
      "3  Zegoland  Ex-factory volumes  Milligrams  BRISTOR  2022-02-01 41689.80000   \n",
      "4  Zegoland  Ex-factory volumes  Milligrams  BRISTOR  2022-03-01 54587.28000   \n",
      "\n",
      "      demandA   demandB   demandCompA  DemandShareA  newPatientShareA  \n",
      "0 50690.62689   2.00000 3614874.18492       0.01383           0.05000  \n",
      "1 50570.86130  54.00000 3602962.33326       0.01384           0.06000  \n",
      "2 50917.38064  86.81488 3601168.36491       0.01394           0.05000  \n",
      "3 50780.83046 117.70420 3373470.70659       0.01483           0.04000  \n",
      "4 62515.49610 175.61109 3723241.47490       0.01651           0.05000  \n"
     ]
    }
   ],
   "execution_count": 38
  },
  {
   "metadata": {
    "ExecuteTime": {
     "end_time": "2024-11-30T16:27:24.207453Z",
     "start_time": "2024-11-30T16:27:24.202148Z"
    }
   },
   "cell_type": "code",
   "source": [
    "\n",
    "\n",
    "\n",
    "patient_filteredB = patient_nums.iloc[450:]\n",
    "print(patient_filteredB.head())\n"
   ],
   "id": "37d2b9ea2046f173",
   "outputs": [
    {
     "name": "stdout",
     "output_type": "stream",
     "text": [
      "      Country  Product        Data type    Indication        Measure     Date  \\\n",
      "450  Zegoland  BRISTOR  Patient numbers  Indication B  New Patient %   nov-21   \n",
      "451  Zegoland  BRISTOR  Patient numbers  Indication B  New Patient %   déc-21   \n",
      "452  Zegoland  BRISTOR  Patient numbers  Indication B  New Patient %  janv-22   \n",
      "453  Zegoland  BRISTOR  Patient numbers  Indication B  New Patient %  févr-22   \n",
      "454  Zegoland  BRISTOR  Patient numbers  Indication B  New Patient %  mars-22   \n",
      "\n",
      "      Value  \n",
      "450 0.00100  \n",
      "451 0.02100  \n",
      "452 0.02600  \n",
      "453 0.04100  \n",
      "454 0.02800  \n"
     ]
    }
   ],
   "execution_count": 42
  },
  {
   "metadata": {
    "ExecuteTime": {
     "end_time": "2024-11-30T16:27:31.146175Z",
     "start_time": "2024-11-30T16:27:31.141729Z"
    }
   },
   "cell_type": "code",
   "source": [
    "truncated_demand = patient_filteredB['Value'].iloc[:len(base_df)]\n",
    "base_df['newPatientShareB'] = truncated_demand.values\n"
   ],
   "id": "d396fc555214f16c",
   "outputs": [],
   "execution_count": 43
  },
  {
   "metadata": {
    "ExecuteTime": {
     "end_time": "2024-11-30T16:27:31.864768Z",
     "start_time": "2024-11-30T16:27:31.858652Z"
    }
   },
   "cell_type": "code",
   "source": "print(base_df.head())",
   "id": "fd72a0def7910dbc",
   "outputs": [
    {
     "name": "stdout",
     "output_type": "stream",
     "text": [
      "    Country           Data type     Measure  Product        Date       Value  \\\n",
      "0  Zegoland  Ex-factory volumes  Milligrams  BRISTOR  2021-11-01 56305.84000   \n",
      "1  Zegoland  Ex-factory volumes  Milligrams  BRISTOR  2021-12-01 35581.00000   \n",
      "2  Zegoland  Ex-factory volumes  Milligrams  BRISTOR  2022-01-01 41136.88000   \n",
      "3  Zegoland  Ex-factory volumes  Milligrams  BRISTOR  2022-02-01 41689.80000   \n",
      "4  Zegoland  Ex-factory volumes  Milligrams  BRISTOR  2022-03-01 54587.28000   \n",
      "\n",
      "      demandA   demandB   demandCompA  DemandShareA  newPatientShareA  \\\n",
      "0 50690.62689   2.00000 3614874.18492       0.01383           0.05000   \n",
      "1 50570.86130  54.00000 3602962.33326       0.01384           0.06000   \n",
      "2 50917.38064  86.81488 3601168.36491       0.01394           0.05000   \n",
      "3 50780.83046 117.70420 3373470.70659       0.01483           0.04000   \n",
      "4 62515.49610 175.61109 3723241.47490       0.01651           0.05000   \n",
      "\n",
      "   newPatientShareB  \n",
      "0           0.00100  \n",
      "1           0.02100  \n",
      "2           0.02600  \n",
      "3           0.04100  \n",
      "4           0.02800  \n"
     ]
    }
   ],
   "execution_count": 44
  },
  {
   "metadata": {
    "ExecuteTime": {
     "end_time": "2024-11-30T16:27:42.511545Z",
     "start_time": "2024-11-30T16:27:42.504740Z"
    }
   },
   "cell_type": "code",
   "source": "print(base_df.tail())",
   "id": "62cf7ea2766b4701",
   "outputs": [
    {
     "name": "stdout",
     "output_type": "stream",
     "text": [
      "     Country           Data type     Measure  Product        Date  \\\n",
      "27  Zegoland  Ex-factory volumes  Milligrams  BRISTOR  2024-02-01   \n",
      "28  Zegoland  Ex-factory volumes  Milligrams  BRISTOR  2024-03-01   \n",
      "29  Zegoland  Ex-factory volumes  Milligrams  BRISTOR  2024-04-01   \n",
      "30  Zegoland  Ex-factory volumes  Milligrams  BRISTOR  2024-05-01   \n",
      "31  Zegoland  Ex-factory volumes  Milligrams  BRISTOR  2024-06-01   \n",
      "\n",
      "          Value      demandA   demandB   demandCompA  DemandShareA  \\\n",
      "27  87933.60000  99594.88320 448.70521 3732976.16994       0.02599   \n",
      "28  91203.28000 100535.36064 423.47307 3617622.43161       0.02704   \n",
      "29 103920.44000 109092.15832 592.56466 4003511.14327       0.02653   \n",
      "30  87597.80000 105207.57938 508.41931 3693297.13328       0.02770   \n",
      "31  91210.64000 103557.21660 516.45315 3580811.73662       0.02811   \n",
      "\n",
      "    newPatientShareA  newPatientShareB  \n",
      "27           0.05000           0.02200  \n",
      "28           0.05000           0.03200  \n",
      "29           0.04000           0.02800  \n",
      "30           0.04000           0.02800  \n",
      "31           0.04000           0.02300  \n"
     ]
    }
   ],
   "execution_count": 45
  },
  {
   "metadata": {
    "ExecuteTime": {
     "end_time": "2024-11-30T16:29:37.151364Z",
     "start_time": "2024-11-30T16:29:37.144067Z"
    }
   },
   "cell_type": "code",
   "source": [
    "patient_filteredA = patient_nums.iloc[274:]\n",
    "print(patient_filteredA.head())\n"
   ],
   "id": "6a61c09eee479f8a",
   "outputs": [
    {
     "name": "stdout",
     "output_type": "stream",
     "text": [
      "      Country  Product        Data type    Indication           Measure  \\\n",
      "274  Zegoland  BRISTOR  Patient numbers  Indication A  Total patients %   \n",
      "275  Zegoland  BRISTOR  Patient numbers  Indication A  Total patients %   \n",
      "276  Zegoland  BRISTOR  Patient numbers  Indication A  Total patients %   \n",
      "277  Zegoland  BRISTOR  Patient numbers  Indication A  Total patients %   \n",
      "278  Zegoland  BRISTOR  Patient numbers  Indication A  Total patients %   \n",
      "\n",
      "        Date   Value  \n",
      "274   nov-21 0.01000  \n",
      "275   déc-21 0.01000  \n",
      "276  janv-22 0.01000  \n",
      "277  févr-22 0.02000  \n",
      "278  mars-22 0.02000  \n"
     ]
    }
   ],
   "execution_count": 46
  },
  {
   "metadata": {
    "ExecuteTime": {
     "end_time": "2024-11-30T16:29:44.411906Z",
     "start_time": "2024-11-30T16:29:44.404401Z"
    }
   },
   "cell_type": "code",
   "source": [
    "truncated_demand = patient_filteredA['Value'].iloc[:len(base_df)]\n",
    "base_df['totalPatientShareA'] = truncated_demand.values\n",
    "print(base_df.head())"
   ],
   "id": "ac579c45ec5c7c8d",
   "outputs": [
    {
     "name": "stdout",
     "output_type": "stream",
     "text": [
      "    Country           Data type     Measure  Product        Date       Value  \\\n",
      "0  Zegoland  Ex-factory volumes  Milligrams  BRISTOR  2021-11-01 56305.84000   \n",
      "1  Zegoland  Ex-factory volumes  Milligrams  BRISTOR  2021-12-01 35581.00000   \n",
      "2  Zegoland  Ex-factory volumes  Milligrams  BRISTOR  2022-01-01 41136.88000   \n",
      "3  Zegoland  Ex-factory volumes  Milligrams  BRISTOR  2022-02-01 41689.80000   \n",
      "4  Zegoland  Ex-factory volumes  Milligrams  BRISTOR  2022-03-01 54587.28000   \n",
      "\n",
      "      demandA   demandB   demandCompA  DemandShareA  newPatientShareA  \\\n",
      "0 50690.62689   2.00000 3614874.18492       0.01383           0.05000   \n",
      "1 50570.86130  54.00000 3602962.33326       0.01384           0.06000   \n",
      "2 50917.38064  86.81488 3601168.36491       0.01394           0.05000   \n",
      "3 50780.83046 117.70420 3373470.70659       0.01483           0.04000   \n",
      "4 62515.49610 175.61109 3723241.47490       0.01651           0.05000   \n",
      "\n",
      "   newPatientShareB  totalPatientShareA  \n",
      "0           0.00100             0.01000  \n",
      "1           0.02100             0.01000  \n",
      "2           0.02600             0.01000  \n",
      "3           0.04100             0.02000  \n",
      "4           0.02800             0.02000  \n"
     ]
    }
   ],
   "execution_count": 47
  },
  {
   "metadata": {
    "ExecuteTime": {
     "end_time": "2024-11-30T16:30:08.038939Z",
     "start_time": "2024-11-30T16:30:08.033119Z"
    }
   },
   "cell_type": "code",
   "source": [
    "patient_filteredB = patient_nums.iloc[626:]\n",
    "print(patient_filteredB.head())\n",
    "\n"
   ],
   "id": "383bef90e42435f4",
   "outputs": [
    {
     "name": "stdout",
     "output_type": "stream",
     "text": [
      "      Country  Product        Data type    Indication           Measure  \\\n",
      "626  Zegoland  BRISTOR  Patient numbers  Indication B  Total patients %   \n",
      "627  Zegoland  BRISTOR  Patient numbers  Indication B  Total patients %   \n",
      "628  Zegoland  BRISTOR  Patient numbers  Indication B  Total patients %   \n",
      "629  Zegoland  BRISTOR  Patient numbers  Indication B  Total patients %   \n",
      "630  Zegoland  BRISTOR  Patient numbers  Indication B  Total patients %   \n",
      "\n",
      "        Date   Value  \n",
      "626   nov-21 0.00000  \n",
      "627   déc-21 0.00100  \n",
      "628  janv-22 0.00200  \n",
      "629  févr-22 0.00400  \n",
      "630  mars-22 0.00500  \n"
     ]
    }
   ],
   "execution_count": 48
  },
  {
   "metadata": {
    "ExecuteTime": {
     "end_time": "2024-11-30T16:30:13.232827Z",
     "start_time": "2024-11-30T16:30:13.225183Z"
    }
   },
   "cell_type": "code",
   "source": [
    "truncated_demand = patient_filteredB['Value'].iloc[:len(base_df)]\n",
    "base_df['totalPatientShareB'] = truncated_demand.values\n",
    "print(base_df.head())"
   ],
   "id": "369bca75f93a1757",
   "outputs": [
    {
     "name": "stdout",
     "output_type": "stream",
     "text": [
      "    Country           Data type     Measure  Product        Date       Value  \\\n",
      "0  Zegoland  Ex-factory volumes  Milligrams  BRISTOR  2021-11-01 56305.84000   \n",
      "1  Zegoland  Ex-factory volumes  Milligrams  BRISTOR  2021-12-01 35581.00000   \n",
      "2  Zegoland  Ex-factory volumes  Milligrams  BRISTOR  2022-01-01 41136.88000   \n",
      "3  Zegoland  Ex-factory volumes  Milligrams  BRISTOR  2022-02-01 41689.80000   \n",
      "4  Zegoland  Ex-factory volumes  Milligrams  BRISTOR  2022-03-01 54587.28000   \n",
      "\n",
      "      demandA   demandB   demandCompA  DemandShareA  newPatientShareA  \\\n",
      "0 50690.62689   2.00000 3614874.18492       0.01383           0.05000   \n",
      "1 50570.86130  54.00000 3602962.33326       0.01384           0.06000   \n",
      "2 50917.38064  86.81488 3601168.36491       0.01394           0.05000   \n",
      "3 50780.83046 117.70420 3373470.70659       0.01483           0.04000   \n",
      "4 62515.49610 175.61109 3723241.47490       0.01651           0.05000   \n",
      "\n",
      "   newPatientShareB  totalPatientShareA  totalPatientShareB  \n",
      "0           0.00100             0.01000             0.00000  \n",
      "1           0.02100             0.01000             0.00100  \n",
      "2           0.02600             0.01000             0.00200  \n",
      "3           0.04100             0.02000             0.00400  \n",
      "4           0.02800             0.02000             0.00500  \n"
     ]
    }
   ],
   "execution_count": 49
  },
  {
   "metadata": {
    "ExecuteTime": {
     "end_time": "2024-11-30T16:30:17.979172Z",
     "start_time": "2024-11-30T16:30:17.972102Z"
    }
   },
   "cell_type": "code",
   "source": "base_df.to_csv('../clean_data/BRISTOR_Zegoland_demandShare_patientShare.csv', index=False)",
   "id": "cda4066a1618fcf2",
   "outputs": [],
   "execution_count": 50
  },
  {
   "metadata": {
    "ExecuteTime": {
     "end_time": "2024-11-30T16:41:50.472276Z",
     "start_time": "2024-11-30T16:41:50.454963Z"
    }
   },
   "cell_type": "code",
   "source": [
    "\n",
    "base_df = pd.read_csv('../clean_data/BRISTOR_Zegoland_demandShare_patientShare.csv')\n",
    "\n",
    "base_df = base_df.drop(len(base_df)-1)\n",
    "print(base_df.tail(5))"
   ],
   "id": "d7af75fef1ee0fe2",
   "outputs": [
    {
     "name": "stdout",
     "output_type": "stream",
     "text": [
      "     Country           Data type     Measure  Product        Date  \\\n",
      "26  Zegoland  Ex-factory volumes  Milligrams  BRISTOR  2024-01-01   \n",
      "27  Zegoland  Ex-factory volumes  Milligrams  BRISTOR  2024-02-01   \n",
      "28  Zegoland  Ex-factory volumes  Milligrams  BRISTOR  2024-03-01   \n",
      "29  Zegoland  Ex-factory volumes  Milligrams  BRISTOR  2024-04-01   \n",
      "30  Zegoland  Ex-factory volumes  Milligrams  BRISTOR  2024-05-01   \n",
      "\n",
      "          Value      demandA   demandB   demandCompA  DemandShareA  \\\n",
      "26 109284.96000 105609.36687 490.50849 3954515.33661       0.02601   \n",
      "27  87933.60000  99594.88320 448.70521 3732976.16994       0.02599   \n",
      "28  91203.28000 100535.36064 423.47307 3617622.43161       0.02704   \n",
      "29 103920.44000 109092.15832 592.56466 4003511.14327       0.02653   \n",
      "30  87597.80000 105207.57938 508.41931 3693297.13328       0.02770   \n",
      "\n",
      "    newPatientShareA  newPatientShareB  totalPatientShareA  totalPatientShareB  \n",
      "26           0.04000           0.02100             0.03000             0.01200  \n",
      "27           0.05000           0.02200             0.03000             0.01300  \n",
      "28           0.05000           0.03200             0.03000             0.01300  \n",
      "29           0.04000           0.02800             0.03000             0.01300  \n",
      "30           0.04000           0.02800             0.03000             0.01400  \n"
     ]
    }
   ],
   "execution_count": 67
  },
  {
   "metadata": {
    "ExecuteTime": {
     "end_time": "2024-11-30T16:41:57.775513Z",
     "start_time": "2024-11-30T16:41:57.766548Z"
    }
   },
   "cell_type": "code",
   "source": "print(voice.info())",
   "id": "b8b17c117765e1a0",
   "outputs": [
    {
     "name": "stdout",
     "output_type": "stream",
     "text": [
      "<class 'pandas.core.frame.DataFrame'>\n",
      "RangeIndex: 160 entries, 0 to 159\n",
      "Data columns (total 6 columns):\n",
      " #   Column      Non-Null Count  Dtype  \n",
      "---  ------      --------------  -----  \n",
      " 0   Country     160 non-null    object \n",
      " 1   Products    160 non-null    object \n",
      " 2   Data type   160 non-null    object \n",
      " 3   Indication  160 non-null    object \n",
      " 4   Date        160 non-null    object \n",
      " 5   Value       160 non-null    float64\n",
      "dtypes: float64(1), object(5)\n",
      "memory usage: 7.6+ KB\n",
      "None\n"
     ]
    }
   ],
   "execution_count": 68
  },
  {
   "metadata": {
    "ExecuteTime": {
     "end_time": "2024-11-30T16:42:06.161431Z",
     "start_time": "2024-11-30T16:42:06.155670Z"
    }
   },
   "cell_type": "code",
   "source": [
    "\n",
    "filtered_voice_A = voice.iloc[9:]\n",
    "print(filtered_voice_A.head())\n",
    "\n"
   ],
   "id": "6aab1475aced57c7",
   "outputs": [
    {
     "name": "stdout",
     "output_type": "stream",
     "text": [
      "     Country Products       Data type    Indication     Date   Value\n",
      "9   Zegoland  BRISTOR  Share of voice  Indication A   nov-21 0.06474\n",
      "10  Zegoland  BRISTOR  Share of voice  Indication A   déc-21 0.08733\n",
      "11  Zegoland  BRISTOR  Share of voice  Indication A  janv-22 0.07153\n",
      "12  Zegoland  BRISTOR  Share of voice  Indication A  févr-22 0.08302\n",
      "13  Zegoland  BRISTOR  Share of voice  Indication A  mars-22 0.05983\n"
     ]
    }
   ],
   "execution_count": 70
  },
  {
   "metadata": {
    "ExecuteTime": {
     "end_time": "2024-11-30T16:42:24.505718Z",
     "start_time": "2024-11-30T16:42:24.502080Z"
    }
   },
   "cell_type": "code",
   "source": [
    "truncated_demand = filtered_voice_A['Value'].iloc[:len(base_df)]\n",
    "base_df['voiceShareA'] = truncated_demand.astype(float).values\n",
    "\n"
   ],
   "id": "47513d1dbb2c4e88",
   "outputs": [],
   "execution_count": 71
  },
  {
   "metadata": {
    "ExecuteTime": {
     "end_time": "2024-11-30T16:42:25.470871Z",
     "start_time": "2024-11-30T16:42:25.464177Z"
    }
   },
   "cell_type": "code",
   "source": "print(base_df.head(5))",
   "id": "5ca72d03459d4022",
   "outputs": [
    {
     "name": "stdout",
     "output_type": "stream",
     "text": [
      "    Country           Data type     Measure  Product        Date       Value  \\\n",
      "0  Zegoland  Ex-factory volumes  Milligrams  BRISTOR  2021-11-01 56305.84000   \n",
      "1  Zegoland  Ex-factory volumes  Milligrams  BRISTOR  2021-12-01 35581.00000   \n",
      "2  Zegoland  Ex-factory volumes  Milligrams  BRISTOR  2022-01-01 41136.88000   \n",
      "3  Zegoland  Ex-factory volumes  Milligrams  BRISTOR  2022-02-01 41689.80000   \n",
      "4  Zegoland  Ex-factory volumes  Milligrams  BRISTOR  2022-03-01 54587.28000   \n",
      "\n",
      "      demandA   demandB   demandCompA  DemandShareA  newPatientShareA  \\\n",
      "0 50690.62689   2.00000 3614874.18492       0.01383           0.05000   \n",
      "1 50570.86130  54.00000 3602962.33326       0.01384           0.06000   \n",
      "2 50917.38064  86.81488 3601168.36491       0.01394           0.05000   \n",
      "3 50780.83046 117.70420 3373470.70659       0.01483           0.04000   \n",
      "4 62515.49610 175.61109 3723241.47490       0.01651           0.05000   \n",
      "\n",
      "   newPatientShareB  totalPatientShareA  totalPatientShareB  voiceShareA  \n",
      "0           0.00100             0.01000             0.00000      0.06474  \n",
      "1           0.02100             0.01000             0.00100      0.08733  \n",
      "2           0.02600             0.01000             0.00200      0.07153  \n",
      "3           0.04100             0.02000             0.00400      0.08302  \n",
      "4           0.02800             0.02000             0.00500      0.05983  \n"
     ]
    }
   ],
   "execution_count": 72
  },
  {
   "metadata": {
    "ExecuteTime": {
     "end_time": "2024-11-30T16:42:58.396822Z",
     "start_time": "2024-11-30T16:42:58.390124Z"
    }
   },
   "cell_type": "code",
   "source": [
    "filtered_voice_B = voice.iloc[89:]\n",
    "print(filtered_voice_B.head())"
   ],
   "id": "95a2416500756695",
   "outputs": [
    {
     "name": "stdout",
     "output_type": "stream",
     "text": [
      "     Country Products       Data type    Indication     Date   Value\n",
      "89  Zegoland  BRISTOR  Share of voice  Indication B   nov-21 0.09400\n",
      "90  Zegoland  BRISTOR  Share of voice  Indication B   déc-21 0.13700\n",
      "91  Zegoland  BRISTOR  Share of voice  Indication B  janv-22 0.16998\n",
      "92  Zegoland  BRISTOR  Share of voice  Indication B  févr-22 0.08641\n",
      "93  Zegoland  BRISTOR  Share of voice  Indication B  mars-22 0.16718\n"
     ]
    }
   ],
   "execution_count": 73
  },
  {
   "metadata": {
    "ExecuteTime": {
     "end_time": "2024-11-30T17:17:06.085327Z",
     "start_time": "2024-11-30T17:17:06.072581Z"
    }
   },
   "cell_type": "code",
   "source": [
    "truncated_demand = filtered_voice_B['Value'].iloc[:len(base_df)]\n",
    "base_df['voiceShareB'] = truncated_demand.astype(float).values"
   ],
   "id": "431fa280a8629a80",
   "outputs": [],
   "execution_count": 74
  },
  {
   "metadata": {
    "ExecuteTime": {
     "end_time": "2024-11-30T17:17:09.605695Z",
     "start_time": "2024-11-30T17:17:09.598592Z"
    }
   },
   "cell_type": "code",
   "source": "print(base_df.head(5))",
   "id": "e21f01c95f4c1e78",
   "outputs": [
    {
     "name": "stdout",
     "output_type": "stream",
     "text": [
      "    Country           Data type     Measure  Product        Date       Value  \\\n",
      "0  Zegoland  Ex-factory volumes  Milligrams  BRISTOR  2021-11-01 56305.84000   \n",
      "1  Zegoland  Ex-factory volumes  Milligrams  BRISTOR  2021-12-01 35581.00000   \n",
      "2  Zegoland  Ex-factory volumes  Milligrams  BRISTOR  2022-01-01 41136.88000   \n",
      "3  Zegoland  Ex-factory volumes  Milligrams  BRISTOR  2022-02-01 41689.80000   \n",
      "4  Zegoland  Ex-factory volumes  Milligrams  BRISTOR  2022-03-01 54587.28000   \n",
      "\n",
      "      demandA   demandB   demandCompA  DemandShareA  newPatientShareA  \\\n",
      "0 50690.62689   2.00000 3614874.18492       0.01383           0.05000   \n",
      "1 50570.86130  54.00000 3602962.33326       0.01384           0.06000   \n",
      "2 50917.38064  86.81488 3601168.36491       0.01394           0.05000   \n",
      "3 50780.83046 117.70420 3373470.70659       0.01483           0.04000   \n",
      "4 62515.49610 175.61109 3723241.47490       0.01651           0.05000   \n",
      "\n",
      "   newPatientShareB  totalPatientShareA  totalPatientShareB  voiceShareA  \\\n",
      "0           0.00100             0.01000             0.00000      0.06474   \n",
      "1           0.02100             0.01000             0.00100      0.08733   \n",
      "2           0.02600             0.01000             0.00200      0.07153   \n",
      "3           0.04100             0.02000             0.00400      0.08302   \n",
      "4           0.02800             0.02000             0.00500      0.05983   \n",
      "\n",
      "   voiceShareB  \n",
      "0      0.09400  \n",
      "1      0.13700  \n",
      "2      0.16998  \n",
      "3      0.08641  \n",
      "4      0.16718  \n"
     ]
    }
   ],
   "execution_count": 75
  },
  {
   "metadata": {
    "ExecuteTime": {
     "end_time": "2024-11-30T17:19:14.532588Z",
     "start_time": "2024-11-30T17:19:14.524310Z"
    }
   },
   "cell_type": "code",
   "source": "base_df.to_csv('../clean_data/BRISTOR_Zegoland_all_%.csv', index=False)\n",
   "id": "8ddb452c64229029",
   "outputs": [],
   "execution_count": 76
  },
  {
   "metadata": {},
   "cell_type": "code",
   "outputs": [],
   "execution_count": null,
   "source": "",
   "id": "f0335b62eae1d5cb"
  }
 ],
 "metadata": {
  "kernelspec": {
   "display_name": "Python 3",
   "language": "python",
   "name": "python3"
  },
  "language_info": {
   "codemirror_mode": {
    "name": "ipython",
    "version": 2
   },
   "file_extension": ".py",
   "mimetype": "text/x-python",
   "name": "python",
   "nbconvert_exporter": "python",
   "pygments_lexer": "ipython2",
   "version": "2.7.6"
  }
 },
 "nbformat": 4,
 "nbformat_minor": 5
}
