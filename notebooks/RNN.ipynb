{
 "cells": [
  {
   "cell_type": "code",
   "execution_count": 187,
   "metadata": {},
   "outputs": [],
   "source": [
    "import pandas as pd\n",
    "import seaborn as sns\n",
    "import matplotlib.pyplot as plt\n",
    "import numpy as np\n",
    "from sklearn.model_selection import train_test_split, GridSearchCV\n",
    "from sklearn.pipeline import Pipeline\n",
    "from sklearn.preprocessing import StandardScaler, SplineTransformer\n",
    "from sklearn.linear_model import LinearRegression, Ridge, Lasso, ElasticNet\n",
    "import tensorflow as tf\n",
    "from tensorflow.keras.models import Sequential\n",
    "from tensorflow.keras.layers import LSTM, Dense"
   ]
  },
  {
   "cell_type": "code",
   "execution_count": 188,
   "metadata": {},
   "outputs": [],
   "source": [
    "df = pd.read_csv(\"../files/BRISTOR_Zegoland_all_%.csv\")\n",
    "\n",
    "df['Date'] = pd.to_datetime(df['Date'])\n",
    "\n",
    "df.set_index('Date', inplace=True)"
   ]
  },
  {
   "cell_type": "code",
   "execution_count": 189,
   "metadata": {},
   "outputs": [
    {
     "data": {
      "text/html": [
       "<div>\n",
       "<style scoped>\n",
       "    .dataframe tbody tr th:only-of-type {\n",
       "        vertical-align: middle;\n",
       "    }\n",
       "\n",
       "    .dataframe tbody tr th {\n",
       "        vertical-align: top;\n",
       "    }\n",
       "\n",
       "    .dataframe thead th {\n",
       "        text-align: right;\n",
       "    }\n",
       "</style>\n",
       "<table border=\"1\" class=\"dataframe\">\n",
       "  <thead>\n",
       "    <tr style=\"text-align: right;\">\n",
       "      <th></th>\n",
       "      <th>Value</th>\n",
       "      <th>DemandShareA</th>\n",
       "      <th>newPatientShareA</th>\n",
       "      <th>newPatientShareB</th>\n",
       "      <th>totalPatientShareA</th>\n",
       "      <th>totalPatientShareB</th>\n",
       "    </tr>\n",
       "    <tr>\n",
       "      <th>Date</th>\n",
       "      <th></th>\n",
       "      <th></th>\n",
       "      <th></th>\n",
       "      <th></th>\n",
       "      <th></th>\n",
       "      <th></th>\n",
       "    </tr>\n",
       "  </thead>\n",
       "  <tbody>\n",
       "    <tr>\n",
       "      <th>2021-11-01</th>\n",
       "      <td>56305.84</td>\n",
       "      <td>0.013829</td>\n",
       "      <td>0.05</td>\n",
       "      <td>0.001</td>\n",
       "      <td>0.01</td>\n",
       "      <td>0.000</td>\n",
       "    </tr>\n",
       "    <tr>\n",
       "      <th>2021-12-01</th>\n",
       "      <td>35581.00</td>\n",
       "      <td>0.013842</td>\n",
       "      <td>0.06</td>\n",
       "      <td>0.021</td>\n",
       "      <td>0.01</td>\n",
       "      <td>0.001</td>\n",
       "    </tr>\n",
       "    <tr>\n",
       "      <th>2022-01-01</th>\n",
       "      <td>41136.88</td>\n",
       "      <td>0.013942</td>\n",
       "      <td>0.05</td>\n",
       "      <td>0.026</td>\n",
       "      <td>0.01</td>\n",
       "      <td>0.002</td>\n",
       "    </tr>\n",
       "    <tr>\n",
       "      <th>2022-02-01</th>\n",
       "      <td>41689.80</td>\n",
       "      <td>0.014830</td>\n",
       "      <td>0.04</td>\n",
       "      <td>0.041</td>\n",
       "      <td>0.02</td>\n",
       "      <td>0.004</td>\n",
       "    </tr>\n",
       "    <tr>\n",
       "      <th>2022-03-01</th>\n",
       "      <td>54587.28</td>\n",
       "      <td>0.016513</td>\n",
       "      <td>0.05</td>\n",
       "      <td>0.028</td>\n",
       "      <td>0.02</td>\n",
       "      <td>0.005</td>\n",
       "    </tr>\n",
       "  </tbody>\n",
       "</table>\n",
       "</div>"
      ],
      "text/plain": [
       "               Value  DemandShareA  newPatientShareA  newPatientShareB  \\\n",
       "Date                                                                     \n",
       "2021-11-01  56305.84      0.013829              0.05             0.001   \n",
       "2021-12-01  35581.00      0.013842              0.06             0.021   \n",
       "2022-01-01  41136.88      0.013942              0.05             0.026   \n",
       "2022-02-01  41689.80      0.014830              0.04             0.041   \n",
       "2022-03-01  54587.28      0.016513              0.05             0.028   \n",
       "\n",
       "            totalPatientShareA  totalPatientShareB  \n",
       "Date                                                \n",
       "2021-11-01                0.01               0.000  \n",
       "2021-12-01                0.01               0.001  \n",
       "2022-01-01                0.01               0.002  \n",
       "2022-02-01                0.02               0.004  \n",
       "2022-03-01                0.02               0.005  "
      ]
     },
     "execution_count": 189,
     "metadata": {},
     "output_type": "execute_result"
    }
   ],
   "source": [
    "X=df.iloc[:,8:13]\n",
    "y=df.iloc[:,4:5]\n",
    "\n",
    "data=pd.concat([y,X],axis=1)\n",
    "\n",
    "data.head()"
   ]
  },
  {
   "cell_type": "code",
   "execution_count": 190,
   "metadata": {},
   "outputs": [],
   "source": [
    "# List of columns to create lags for\n",
    "columns_to_lag = ['Value', 'DemandShareA']\n"
   ]
  },
  {
   "cell_type": "code",
   "execution_count": 191,
   "metadata": {},
   "outputs": [
    {
     "data": {
      "text/html": [
       "<div>\n",
       "<style scoped>\n",
       "    .dataframe tbody tr th:only-of-type {\n",
       "        vertical-align: middle;\n",
       "    }\n",
       "\n",
       "    .dataframe tbody tr th {\n",
       "        vertical-align: top;\n",
       "    }\n",
       "\n",
       "    .dataframe thead th {\n",
       "        text-align: right;\n",
       "    }\n",
       "</style>\n",
       "<table border=\"1\" class=\"dataframe\">\n",
       "  <thead>\n",
       "    <tr style=\"text-align: right;\">\n",
       "      <th></th>\n",
       "      <th>X_lag1</th>\n",
       "      <th>y_lag1</th>\n",
       "      <th>X_lag2</th>\n",
       "      <th>y_lag2</th>\n",
       "      <th>y</th>\n",
       "    </tr>\n",
       "    <tr>\n",
       "      <th>Date</th>\n",
       "      <th></th>\n",
       "      <th></th>\n",
       "      <th></th>\n",
       "      <th></th>\n",
       "      <th></th>\n",
       "    </tr>\n",
       "  </thead>\n",
       "  <tbody>\n",
       "    <tr>\n",
       "      <th>2022-01-01</th>\n",
       "      <td>0.013842</td>\n",
       "      <td>35581.00</td>\n",
       "      <td>0.013829</td>\n",
       "      <td>56305.84</td>\n",
       "      <td>41136.88</td>\n",
       "    </tr>\n",
       "    <tr>\n",
       "      <th>2022-02-01</th>\n",
       "      <td>0.013942</td>\n",
       "      <td>41136.88</td>\n",
       "      <td>0.013842</td>\n",
       "      <td>35581.00</td>\n",
       "      <td>41689.80</td>\n",
       "    </tr>\n",
       "    <tr>\n",
       "      <th>2022-03-01</th>\n",
       "      <td>0.014830</td>\n",
       "      <td>41689.80</td>\n",
       "      <td>0.013942</td>\n",
       "      <td>41136.88</td>\n",
       "      <td>54587.28</td>\n",
       "    </tr>\n",
       "    <tr>\n",
       "      <th>2022-04-01</th>\n",
       "      <td>0.016513</td>\n",
       "      <td>54587.28</td>\n",
       "      <td>0.014830</td>\n",
       "      <td>41689.80</td>\n",
       "      <td>40157.08</td>\n",
       "    </tr>\n",
       "    <tr>\n",
       "      <th>2022-05-01</th>\n",
       "      <td>0.017154</td>\n",
       "      <td>40157.08</td>\n",
       "      <td>0.016513</td>\n",
       "      <td>54587.28</td>\n",
       "      <td>60124.30</td>\n",
       "    </tr>\n",
       "  </tbody>\n",
       "</table>\n",
       "</div>"
      ],
      "text/plain": [
       "              X_lag1    y_lag1    X_lag2    y_lag2         y\n",
       "Date                                                        \n",
       "2022-01-01  0.013842  35581.00  0.013829  56305.84  41136.88\n",
       "2022-02-01  0.013942  41136.88  0.013842  35581.00  41689.80\n",
       "2022-03-01  0.014830  41689.80  0.013942  41136.88  54587.28\n",
       "2022-04-01  0.016513  54587.28  0.014830  41689.80  40157.08\n",
       "2022-05-01  0.017154  40157.08  0.016513  54587.28  60124.30"
      ]
     },
     "execution_count": 191,
     "metadata": {},
     "output_type": "execute_result"
    }
   ],
   "source": [
    "# Create lagged features\n",
    "def create_lagged_features(data, lags):\n",
    "    lagged_data = pd.DataFrame()\n",
    "    for lag in range(1, lags + 1):\n",
    "        lagged_data[f'X_lag{lag}'] = data['DemandShareA'].shift(lag)\n",
    "        lagged_data[f'y_lag{lag}'] = data['Value'].shift(lag)\n",
    "    lagged_data['y'] = data['Value']  # Target variable\n",
    "    lagged_data.dropna(inplace=True)  # Drop rows with NaN values\n",
    "    return lagged_data\n",
    "\n",
    "lagged_data = create_lagged_features(data, lags=2)\n",
    "lagged_data.head()"
   ]
  },
  {
   "cell_type": "code",
   "execution_count": 192,
   "metadata": {},
   "outputs": [
    {
     "data": {
      "text/html": [
       "<div>\n",
       "<style scoped>\n",
       "    .dataframe tbody tr th:only-of-type {\n",
       "        vertical-align: middle;\n",
       "    }\n",
       "\n",
       "    .dataframe tbody tr th {\n",
       "        vertical-align: top;\n",
       "    }\n",
       "\n",
       "    .dataframe thead th {\n",
       "        text-align: right;\n",
       "    }\n",
       "</style>\n",
       "<table border=\"1\" class=\"dataframe\">\n",
       "  <thead>\n",
       "    <tr style=\"text-align: right;\">\n",
       "      <th></th>\n",
       "      <th>Value</th>\n",
       "      <th>DemandShareA</th>\n",
       "      <th>newPatientShareA</th>\n",
       "      <th>newPatientShareB</th>\n",
       "      <th>totalPatientShareA</th>\n",
       "      <th>totalPatientShareB</th>\n",
       "    </tr>\n",
       "    <tr>\n",
       "      <th>Date</th>\n",
       "      <th></th>\n",
       "      <th></th>\n",
       "      <th></th>\n",
       "      <th></th>\n",
       "      <th></th>\n",
       "      <th></th>\n",
       "    </tr>\n",
       "  </thead>\n",
       "  <tbody>\n",
       "    <tr>\n",
       "      <th>2021-11-01</th>\n",
       "      <td>56305.84</td>\n",
       "      <td>0.013829</td>\n",
       "      <td>0.05</td>\n",
       "      <td>0.001</td>\n",
       "      <td>0.01</td>\n",
       "      <td>0.000</td>\n",
       "    </tr>\n",
       "    <tr>\n",
       "      <th>2021-12-01</th>\n",
       "      <td>35581.00</td>\n",
       "      <td>0.013842</td>\n",
       "      <td>0.06</td>\n",
       "      <td>0.021</td>\n",
       "      <td>0.01</td>\n",
       "      <td>0.001</td>\n",
       "    </tr>\n",
       "    <tr>\n",
       "      <th>2022-01-01</th>\n",
       "      <td>41136.88</td>\n",
       "      <td>0.013942</td>\n",
       "      <td>0.05</td>\n",
       "      <td>0.026</td>\n",
       "      <td>0.01</td>\n",
       "      <td>0.002</td>\n",
       "    </tr>\n",
       "    <tr>\n",
       "      <th>2022-02-01</th>\n",
       "      <td>41689.80</td>\n",
       "      <td>0.014830</td>\n",
       "      <td>0.04</td>\n",
       "      <td>0.041</td>\n",
       "      <td>0.02</td>\n",
       "      <td>0.004</td>\n",
       "    </tr>\n",
       "    <tr>\n",
       "      <th>2022-03-01</th>\n",
       "      <td>54587.28</td>\n",
       "      <td>0.016513</td>\n",
       "      <td>0.05</td>\n",
       "      <td>0.028</td>\n",
       "      <td>0.02</td>\n",
       "      <td>0.005</td>\n",
       "    </tr>\n",
       "  </tbody>\n",
       "</table>\n",
       "</div>"
      ],
      "text/plain": [
       "               Value  DemandShareA  newPatientShareA  newPatientShareB  \\\n",
       "Date                                                                     \n",
       "2021-11-01  56305.84      0.013829              0.05             0.001   \n",
       "2021-12-01  35581.00      0.013842              0.06             0.021   \n",
       "2022-01-01  41136.88      0.013942              0.05             0.026   \n",
       "2022-02-01  41689.80      0.014830              0.04             0.041   \n",
       "2022-03-01  54587.28      0.016513              0.05             0.028   \n",
       "\n",
       "            totalPatientShareA  totalPatientShareB  \n",
       "Date                                                \n",
       "2021-11-01                0.01               0.000  \n",
       "2021-12-01                0.01               0.001  \n",
       "2022-01-01                0.01               0.002  \n",
       "2022-02-01                0.02               0.004  \n",
       "2022-03-01                0.02               0.005  "
      ]
     },
     "execution_count": 192,
     "metadata": {},
     "output_type": "execute_result"
    }
   ],
   "source": [
    "data.head()"
   ]
  },
  {
   "cell_type": "code",
   "execution_count": 193,
   "metadata": {},
   "outputs": [],
   "source": [
    "features = lagged_data[['X_lag1', 'y_lag1', 'X_lag2', 'y_lag2']]\n",
    "target = lagged_data['y']"
   ]
  },
  {
   "cell_type": "code",
   "execution_count": 194,
   "metadata": {},
   "outputs": [],
   "source": [
    "from sklearn.preprocessing import MinMaxScaler\n",
    "# Normalize the features\n",
    "scaler = MinMaxScaler()\n",
    "features_scaled = scaler.fit_transform(features)"
   ]
  },
  {
   "cell_type": "code",
   "execution_count": null,
   "metadata": {},
   "outputs": [],
   "source": []
  },
  {
   "cell_type": "code",
   "execution_count": 195,
   "metadata": {},
   "outputs": [],
   "source": [
    "# Determine the split index\n",
    "split_index = int(len(features_scaled) * 0.8)\n",
    "\n",
    "# Split the data while preserving time order\n",
    "X_train, X_test = features_scaled[:split_index], features_scaled[split_index:]\n",
    "y_train, y_test = target[:split_index], target[split_index:]"
   ]
  },
  {
   "cell_type": "code",
   "execution_count": 196,
   "metadata": {},
   "outputs": [
    {
     "name": "stderr",
     "output_type": "stream",
     "text": [
      "/Users/anastasiaganshof/anaconda3/envs/Bio-210/lib/python3.12/site-packages/keras/src/layers/rnn/rnn.py:200: UserWarning: Do not pass an `input_shape`/`input_dim` argument to a layer. When using Sequential models, prefer using an `Input(shape)` object as the first layer in the model instead.\n",
      "  super().__init__(**kwargs)\n"
     ]
    }
   ],
   "source": [
    "n_features = 2\n",
    "n_steps=2\n",
    "\n",
    "# Define LSTM model\n",
    "model = Sequential([\n",
    "    LSTM(100, activation='relu', input_shape=(n_steps, n_features)),\n",
    "    \n",
    "    Dense(1)  # Predict single future y\n",
    "])\n",
    "model.compile(optimizer='adam', loss='mse')"
   ]
  },
  {
   "cell_type": "code",
   "execution_count": 197,
   "metadata": {},
   "outputs": [
    {
     "name": "stdout",
     "output_type": "stream",
     "text": [
      "(23, 4)\n"
     ]
    }
   ],
   "source": [
    "print(X_train.shape)"
   ]
  },
  {
   "cell_type": "code",
   "execution_count": 198,
   "metadata": {},
   "outputs": [
    {
     "data": {
      "text/plain": [
       "array([[0.        , 0.        , 0.        , 0.28119032],\n",
       "       [0.00760518, 0.07538102, 0.0009659 , 0.        ],\n",
       "       [0.07487303, 0.08288293, 0.00856373, 0.07538102],\n",
       "       [0.2024422 , 0.25787325, 0.07576661, 0.08288293],\n",
       "       [0.25101664, 0.0620873 , 0.20321256, 0.25787325],\n",
       "       [0.2933755 , 0.33299839, 0.25174008, 0.0620873 ],\n",
       "       [0.37275947, 0.12001173, 0.29405803, 0.33299839],\n",
       "       [0.39139833, 0.38680988, 0.37336533, 0.12001173],\n",
       "       [0.50134174, 0.27803228, 0.39198618, 0.38680988],\n",
       "       [0.38237591, 0.22460774, 0.5018234 , 0.27803228],\n",
       "       [0.45349347, 0.29915245, 0.38297248, 0.22460774],\n",
       "       [0.48310142, 0.37113827, 0.45402134, 0.29915245],\n",
       "       [0.58932107, 0.37141288, 0.48360069, 0.37113827],\n",
       "       [0.63330491, 0.4712531 , 0.58971775, 0.37141288],\n",
       "       [0.55442433, 0.43807497, 0.6336591 , 0.4712531 ],\n",
       "       [0.66483463, 0.52655624, 0.55485471, 0.43807497],\n",
       "       [0.61278005, 0.32156454, 0.66515837, 0.52655624],\n",
       "       [0.73369398, 0.25469025, 0.61315407, 0.32156454],\n",
       "       [0.88762964, 0.86396091, 0.7339512 , 0.25469025],\n",
       "       [0.73436686, 0.5118957 , 0.88773818, 0.86396091],\n",
       "       [0.78224035, 0.46412567, 0.73462343, 0.5118957 ],\n",
       "       [0.79576627, 0.69083045, 0.78245069, 0.46412567],\n",
       "       [0.87312957, 0.92387003, 0.79596354, 0.69083045]])"
      ]
     },
     "execution_count": 198,
     "metadata": {},
     "output_type": "execute_result"
    }
   ],
   "source": [
    "X_train"
   ]
  },
  {
   "cell_type": "code",
   "execution_count": 199,
   "metadata": {},
   "outputs": [
    {
     "data": {
      "text/plain": [
       "(23, 4)"
      ]
     },
     "execution_count": 199,
     "metadata": {},
     "output_type": "execute_result"
    }
   ],
   "source": [
    "X_train.shape"
   ]
  },
  {
   "cell_type": "code",
   "execution_count": 200,
   "metadata": {},
   "outputs": [
    {
     "data": {
      "text/plain": [
       "array([[[0.        , 0.        ],\n",
       "        [0.        , 0.28119032]],\n",
       "\n",
       "       [[0.00760518, 0.07538102],\n",
       "        [0.0009659 , 0.        ]],\n",
       "\n",
       "       [[0.07487303, 0.08288293],\n",
       "        [0.00856373, 0.07538102]],\n",
       "\n",
       "       [[0.2024422 , 0.25787325],\n",
       "        [0.07576661, 0.08288293]],\n",
       "\n",
       "       [[0.25101664, 0.0620873 ],\n",
       "        [0.20321256, 0.25787325]],\n",
       "\n",
       "       [[0.2933755 , 0.33299839],\n",
       "        [0.25174008, 0.0620873 ]],\n",
       "\n",
       "       [[0.37275947, 0.12001173],\n",
       "        [0.29405803, 0.33299839]],\n",
       "\n",
       "       [[0.39139833, 0.38680988],\n",
       "        [0.37336533, 0.12001173]],\n",
       "\n",
       "       [[0.50134174, 0.27803228],\n",
       "        [0.39198618, 0.38680988]],\n",
       "\n",
       "       [[0.38237591, 0.22460774],\n",
       "        [0.5018234 , 0.27803228]],\n",
       "\n",
       "       [[0.45349347, 0.29915245],\n",
       "        [0.38297248, 0.22460774]],\n",
       "\n",
       "       [[0.48310142, 0.37113827],\n",
       "        [0.45402134, 0.29915245]],\n",
       "\n",
       "       [[0.58932107, 0.37141288],\n",
       "        [0.48360069, 0.37113827]],\n",
       "\n",
       "       [[0.63330491, 0.4712531 ],\n",
       "        [0.58971775, 0.37141288]],\n",
       "\n",
       "       [[0.55442433, 0.43807497],\n",
       "        [0.6336591 , 0.4712531 ]],\n",
       "\n",
       "       [[0.66483463, 0.52655624],\n",
       "        [0.55485471, 0.43807497]],\n",
       "\n",
       "       [[0.61278005, 0.32156454],\n",
       "        [0.66515837, 0.52655624]],\n",
       "\n",
       "       [[0.73369398, 0.25469025],\n",
       "        [0.61315407, 0.32156454]],\n",
       "\n",
       "       [[0.88762964, 0.86396091],\n",
       "        [0.7339512 , 0.25469025]],\n",
       "\n",
       "       [[0.73436686, 0.5118957 ],\n",
       "        [0.88773818, 0.86396091]],\n",
       "\n",
       "       [[0.78224035, 0.46412567],\n",
       "        [0.73462343, 0.5118957 ]],\n",
       "\n",
       "       [[0.79576627, 0.69083045],\n",
       "        [0.78245069, 0.46412567]],\n",
       "\n",
       "       [[0.87312957, 0.92387003],\n",
       "        [0.79596354, 0.69083045]]])"
      ]
     },
     "execution_count": 200,
     "metadata": {},
     "output_type": "execute_result"
    }
   ],
   "source": [
    "X_train = X_train.reshape((X_train.shape[0], 2, 2))\n",
    "\n",
    "X_train"
   ]
  },
  {
   "cell_type": "code",
   "execution_count": 201,
   "metadata": {},
   "outputs": [
    {
     "data": {
      "text/plain": [
       "(23, 2, 2)"
      ]
     },
     "execution_count": 201,
     "metadata": {},
     "output_type": "execute_result"
    }
   ],
   "source": [
    "X_train.shape"
   ]
  },
  {
   "cell_type": "code",
   "execution_count": 202,
   "metadata": {},
   "outputs": [
    {
     "data": {
      "text/plain": [
       "(23,)"
      ]
     },
     "execution_count": 202,
     "metadata": {},
     "output_type": "execute_result"
    }
   ],
   "source": [
    "y_train.shape"
   ]
  },
  {
   "cell_type": "code",
   "execution_count": 203,
   "metadata": {},
   "outputs": [
    {
     "data": {
      "text/plain": [
       "(23, 2, 2)"
      ]
     },
     "execution_count": 203,
     "metadata": {},
     "output_type": "execute_result"
    }
   ],
   "source": [
    "X_train.shape"
   ]
  },
  {
   "cell_type": "code",
   "execution_count": 204,
   "metadata": {},
   "outputs": [
    {
     "name": "stdout",
     "output_type": "stream",
     "text": [
      "Epoch 1/50\n",
      "\u001b[1m2/2\u001b[0m \u001b[32m━━━━━━━━━━━━━━━━━━━━\u001b[0m\u001b[37m\u001b[0m \u001b[1m1s\u001b[0m 169ms/step - loss: 3806995968.0000 - val_loss: 7726435328.0000\n",
      "Epoch 2/50\n",
      "\u001b[1m2/2\u001b[0m \u001b[32m━━━━━━━━━━━━━━━━━━━━\u001b[0m\u001b[37m\u001b[0m \u001b[1m0s\u001b[0m 26ms/step - loss: 3418717440.0000 - val_loss: 7726431232.0000\n",
      "Epoch 3/50\n",
      "\u001b[1m2/2\u001b[0m \u001b[32m━━━━━━━━━━━━━━━━━━━━\u001b[0m\u001b[37m\u001b[0m \u001b[1m0s\u001b[0m 25ms/step - loss: 3609340928.0000 - val_loss: 7726429184.0000\n",
      "Epoch 4/50\n",
      "\u001b[1m2/2\u001b[0m \u001b[32m━━━━━━━━━━━━━━━━━━━━\u001b[0m\u001b[37m\u001b[0m \u001b[1m0s\u001b[0m 26ms/step - loss: 3532152320.0000 - val_loss: 7726425600.0000\n",
      "Epoch 5/50\n",
      "\u001b[1m2/2\u001b[0m \u001b[32m━━━━━━━━━━━━━━━━━━━━\u001b[0m\u001b[37m\u001b[0m \u001b[1m0s\u001b[0m 27ms/step - loss: 3567198464.0000 - val_loss: 7726422528.0000\n",
      "Epoch 6/50\n",
      "\u001b[1m2/2\u001b[0m \u001b[32m━━━━━━━━━━━━━━━━━━━━\u001b[0m\u001b[37m\u001b[0m \u001b[1m0s\u001b[0m 27ms/step - loss: 3626211584.0000 - val_loss: 7726418944.0000\n",
      "Epoch 7/50\n",
      "\u001b[1m2/2\u001b[0m \u001b[32m━━━━━━━━━━━━━━━━━━━━\u001b[0m\u001b[37m\u001b[0m \u001b[1m0s\u001b[0m 26ms/step - loss: 3527466752.0000 - val_loss: 7726415872.0000\n",
      "Epoch 8/50\n",
      "\u001b[1m2/2\u001b[0m \u001b[32m━━━━━━━━━━━━━━━━━━━━\u001b[0m\u001b[37m\u001b[0m \u001b[1m0s\u001b[0m 28ms/step - loss: 3726951168.0000 - val_loss: 7726412800.0000\n",
      "Epoch 9/50\n",
      "\u001b[1m2/2\u001b[0m \u001b[32m━━━━━━━━━━━━━━━━━━━━\u001b[0m\u001b[37m\u001b[0m \u001b[1m0s\u001b[0m 37ms/step - loss: 3757391360.0000 - val_loss: 7726409216.0000\n",
      "Epoch 10/50\n",
      "\u001b[1m2/2\u001b[0m \u001b[32m━━━━━━━━━━━━━━━━━━━━\u001b[0m\u001b[37m\u001b[0m \u001b[1m0s\u001b[0m 53ms/step - loss: 3833138944.0000 - val_loss: 7726404608.0000\n",
      "Epoch 11/50\n",
      "\u001b[1m2/2\u001b[0m \u001b[32m━━━━━━━━━━━━━━━━━━━━\u001b[0m\u001b[37m\u001b[0m \u001b[1m0s\u001b[0m 30ms/step - loss: 3787665664.0000 - val_loss: 7726401024.0000\n",
      "Epoch 12/50\n",
      "\u001b[1m2/2\u001b[0m \u001b[32m━━━━━━━━━━━━━━━━━━━━\u001b[0m\u001b[37m\u001b[0m \u001b[1m0s\u001b[0m 46ms/step - loss: 3633385984.0000 - val_loss: 7726396928.0000\n",
      "Epoch 13/50\n",
      "\u001b[1m2/2\u001b[0m \u001b[32m━━━━━━━━━━━━━━━━━━━━\u001b[0m\u001b[37m\u001b[0m \u001b[1m0s\u001b[0m 30ms/step - loss: 3666343936.0000 - val_loss: 7726392832.0000\n",
      "Epoch 14/50\n",
      "\u001b[1m2/2\u001b[0m \u001b[32m━━━━━━━━━━━━━━━━━━━━\u001b[0m\u001b[37m\u001b[0m \u001b[1m0s\u001b[0m 28ms/step - loss: 3758502656.0000 - val_loss: 7726388224.0000\n",
      "Epoch 15/50\n",
      "\u001b[1m2/2\u001b[0m \u001b[32m━━━━━━━━━━━━━━━━━━━━\u001b[0m\u001b[37m\u001b[0m \u001b[1m0s\u001b[0m 70ms/step - loss: 3732061696.0000 - val_loss: 7726383104.0000\n",
      "Epoch 16/50\n",
      "\u001b[1m2/2\u001b[0m \u001b[32m━━━━━━━━━━━━━━━━━━━━\u001b[0m\u001b[37m\u001b[0m \u001b[1m0s\u001b[0m 30ms/step - loss: 3438629632.0000 - val_loss: 7726377984.0000\n",
      "Epoch 17/50\n",
      "\u001b[1m2/2\u001b[0m \u001b[32m━━━━━━━━━━━━━━━━━━━━\u001b[0m\u001b[37m\u001b[0m \u001b[1m0s\u001b[0m 28ms/step - loss: 3593491712.0000 - val_loss: 7726372352.0000\n",
      "Epoch 18/50\n",
      "\u001b[1m2/2\u001b[0m \u001b[32m━━━━━━━━━━━━━━━━━━━━\u001b[0m\u001b[37m\u001b[0m \u001b[1m0s\u001b[0m 28ms/step - loss: 3789885184.0000 - val_loss: 7726365696.0000\n",
      "Epoch 19/50\n",
      "\u001b[1m2/2\u001b[0m \u001b[32m━━━━━━━━━━━━━━━━━━━━\u001b[0m\u001b[37m\u001b[0m \u001b[1m0s\u001b[0m 28ms/step - loss: 3791162624.0000 - val_loss: 7726360064.0000\n",
      "Epoch 20/50\n",
      "\u001b[1m2/2\u001b[0m \u001b[32m━━━━━━━━━━━━━━━━━━━━\u001b[0m\u001b[37m\u001b[0m \u001b[1m0s\u001b[0m 36ms/step - loss: 3549950464.0000 - val_loss: 7726352896.0000\n",
      "Epoch 21/50\n",
      "\u001b[1m2/2\u001b[0m \u001b[32m━━━━━━━━━━━━━━━━━━━━\u001b[0m\u001b[37m\u001b[0m \u001b[1m0s\u001b[0m 34ms/step - loss: 3637378304.0000 - val_loss: 7726343680.0000\n",
      "Epoch 22/50\n",
      "\u001b[1m2/2\u001b[0m \u001b[32m━━━━━━━━━━━━━━━━━━━━\u001b[0m\u001b[37m\u001b[0m \u001b[1m0s\u001b[0m 39ms/step - loss: 3608307712.0000 - val_loss: 7726334976.0000\n",
      "Epoch 23/50\n",
      "\u001b[1m2/2\u001b[0m \u001b[32m━━━━━━━━━━━━━━━━━━━━\u001b[0m\u001b[37m\u001b[0m \u001b[1m0s\u001b[0m 28ms/step - loss: 3845605376.0000 - val_loss: 7726324736.0000\n",
      "Epoch 24/50\n",
      "\u001b[1m2/2\u001b[0m \u001b[32m━━━━━━━━━━━━━━━━━━━━\u001b[0m\u001b[37m\u001b[0m \u001b[1m0s\u001b[0m 31ms/step - loss: 3582777088.0000 - val_loss: 7726315008.0000\n",
      "Epoch 25/50\n",
      "\u001b[1m2/2\u001b[0m \u001b[32m━━━━━━━━━━━━━━━━━━━━\u001b[0m\u001b[37m\u001b[0m \u001b[1m0s\u001b[0m 29ms/step - loss: 3753544960.0000 - val_loss: 7726302208.0000\n",
      "Epoch 26/50\n",
      "\u001b[1m2/2\u001b[0m \u001b[32m━━━━━━━━━━━━━━━━━━━━\u001b[0m\u001b[37m\u001b[0m \u001b[1m0s\u001b[0m 37ms/step - loss: 3784813312.0000 - val_loss: 7726289920.0000\n",
      "Epoch 27/50\n",
      "\u001b[1m2/2\u001b[0m \u001b[32m━━━━━━━━━━━━━━━━━━━━\u001b[0m\u001b[37m\u001b[0m \u001b[1m0s\u001b[0m 29ms/step - loss: 3583673088.0000 - val_loss: 7726275072.0000\n",
      "Epoch 28/50\n",
      "\u001b[1m2/2\u001b[0m \u001b[32m━━━━━━━━━━━━━━━━━━━━\u001b[0m\u001b[37m\u001b[0m \u001b[1m0s\u001b[0m 28ms/step - loss: 3555648256.0000 - val_loss: 7726260224.0000\n",
      "Epoch 29/50\n",
      "\u001b[1m2/2\u001b[0m \u001b[32m━━━━━━━━━━━━━━━━━━━━\u001b[0m\u001b[37m\u001b[0m \u001b[1m0s\u001b[0m 27ms/step - loss: 3616339712.0000 - val_loss: 7726242304.0000\n",
      "Epoch 30/50\n",
      "\u001b[1m2/2\u001b[0m \u001b[32m━━━━━━━━━━━━━━━━━━━━\u001b[0m\u001b[37m\u001b[0m \u001b[1m0s\u001b[0m 30ms/step - loss: 3704652288.0000 - val_loss: 7726223360.0000\n",
      "Epoch 31/50\n",
      "\u001b[1m2/2\u001b[0m \u001b[32m━━━━━━━━━━━━━━━━━━━━\u001b[0m\u001b[37m\u001b[0m \u001b[1m0s\u001b[0m 30ms/step - loss: 3693068032.0000 - val_loss: 7726201856.0000\n",
      "Epoch 32/50\n",
      "\u001b[1m2/2\u001b[0m \u001b[32m━━━━━━━━━━━━━━━━━━━━\u001b[0m\u001b[37m\u001b[0m \u001b[1m0s\u001b[0m 34ms/step - loss: 3768932608.0000 - val_loss: 7726179840.0000\n",
      "Epoch 33/50\n",
      "\u001b[1m2/2\u001b[0m \u001b[32m━━━━━━━━━━━━━━━━━━━━\u001b[0m\u001b[37m\u001b[0m \u001b[1m0s\u001b[0m 28ms/step - loss: 3610584320.0000 - val_loss: 7726153728.0000\n",
      "Epoch 34/50\n",
      "\u001b[1m2/2\u001b[0m \u001b[32m━━━━━━━━━━━━━━━━━━━━\u001b[0m\u001b[37m\u001b[0m \u001b[1m0s\u001b[0m 30ms/step - loss: 3517266432.0000 - val_loss: 7726126592.0000\n",
      "Epoch 35/50\n",
      "\u001b[1m2/2\u001b[0m \u001b[32m━━━━━━━━━━━━━━━━━━━━\u001b[0m\u001b[37m\u001b[0m \u001b[1m0s\u001b[0m 26ms/step - loss: 3716424960.0000 - val_loss: 7726095360.0000\n",
      "Epoch 36/50\n",
      "\u001b[1m2/2\u001b[0m \u001b[32m━━━━━━━━━━━━━━━━━━━━\u001b[0m\u001b[37m\u001b[0m \u001b[1m0s\u001b[0m 25ms/step - loss: 3408789760.0000 - val_loss: 7726062080.0000\n",
      "Epoch 37/50\n",
      "\u001b[1m2/2\u001b[0m \u001b[32m━━━━━━━━━━━━━━━━━━━━\u001b[0m\u001b[37m\u001b[0m \u001b[1m0s\u001b[0m 24ms/step - loss: 3848251648.0000 - val_loss: 7726024192.0000\n",
      "Epoch 38/50\n",
      "\u001b[1m2/2\u001b[0m \u001b[32m━━━━━━━━━━━━━━━━━━━━\u001b[0m\u001b[37m\u001b[0m \u001b[1m0s\u001b[0m 24ms/step - loss: 3804215296.0000 - val_loss: 7725983232.0000\n",
      "Epoch 39/50\n",
      "\u001b[1m2/2\u001b[0m \u001b[32m━━━━━━━━━━━━━━━━━━━━\u001b[0m\u001b[37m\u001b[0m \u001b[1m0s\u001b[0m 24ms/step - loss: 3627347200.0000 - val_loss: 7725938176.0000\n",
      "Epoch 40/50\n",
      "\u001b[1m2/2\u001b[0m \u001b[32m━━━━━━━━━━━━━━━━━━━━\u001b[0m\u001b[37m\u001b[0m \u001b[1m0s\u001b[0m 23ms/step - loss: 3682878720.0000 - val_loss: 7725887488.0000\n",
      "Epoch 41/50\n",
      "\u001b[1m2/2\u001b[0m \u001b[32m━━━━━━━━━━━━━━━━━━━━\u001b[0m\u001b[37m\u001b[0m \u001b[1m0s\u001b[0m 25ms/step - loss: 3850398208.0000 - val_loss: 7725832704.0000\n",
      "Epoch 42/50\n",
      "\u001b[1m2/2\u001b[0m \u001b[32m━━━━━━━━━━━━━━━━━━━━\u001b[0m\u001b[37m\u001b[0m \u001b[1m0s\u001b[0m 26ms/step - loss: 3474416384.0000 - val_loss: 7725771776.0000\n",
      "Epoch 43/50\n",
      "\u001b[1m2/2\u001b[0m \u001b[32m━━━━━━━━━━━━━━━━━━━━\u001b[0m\u001b[37m\u001b[0m \u001b[1m0s\u001b[0m 25ms/step - loss: 3590383616.0000 - val_loss: 7725705728.0000\n",
      "Epoch 44/50\n",
      "\u001b[1m2/2\u001b[0m \u001b[32m━━━━━━━━━━━━━━━━━━━━\u001b[0m\u001b[37m\u001b[0m \u001b[1m0s\u001b[0m 25ms/step - loss: 3809323776.0000 - val_loss: 7725632000.0000\n",
      "Epoch 45/50\n",
      "\u001b[1m2/2\u001b[0m \u001b[32m━━━━━━━━━━━━━━━━━━━━\u001b[0m\u001b[37m\u001b[0m \u001b[1m0s\u001b[0m 103ms/step - loss: 3963864832.0000 - val_loss: 7725550592.0000\n",
      "Epoch 46/50\n",
      "\u001b[1m2/2\u001b[0m \u001b[32m━━━━━━━━━━━━━━━━━━━━\u001b[0m\u001b[37m\u001b[0m \u001b[1m0s\u001b[0m 25ms/step - loss: 3729115136.0000 - val_loss: 7725462528.0000\n",
      "Epoch 47/50\n",
      "\u001b[1m2/2\u001b[0m \u001b[32m━━━━━━━━━━━━━━━━━━━━\u001b[0m\u001b[37m\u001b[0m \u001b[1m0s\u001b[0m 25ms/step - loss: 3707949312.0000 - val_loss: 7725365760.0000\n",
      "Epoch 48/50\n",
      "\u001b[1m2/2\u001b[0m \u001b[32m━━━━━━━━━━━━━━━━━━━━\u001b[0m\u001b[37m\u001b[0m \u001b[1m0s\u001b[0m 24ms/step - loss: 3467128576.0000 - val_loss: 7725259264.0000\n",
      "Epoch 49/50\n",
      "\u001b[1m2/2\u001b[0m \u001b[32m━━━━━━━━━━━━━━━━━━━━\u001b[0m\u001b[37m\u001b[0m \u001b[1m0s\u001b[0m 24ms/step - loss: 3540972544.0000 - val_loss: 7725142016.0000\n",
      "Epoch 50/50\n",
      "\u001b[1m2/2\u001b[0m \u001b[32m━━━━━━━━━━━━━━━━━━━━\u001b[0m\u001b[37m\u001b[0m \u001b[1m0s\u001b[0m 43ms/step - loss: 3420322304.0000 - val_loss: 7725013504.0000\n"
     ]
    }
   ],
   "source": [
    "# Train the model\n",
    "history=model.fit(X_train, y_train, epochs=50, batch_size=10, validation_split=0.2)"
   ]
  },
  {
   "cell_type": "code",
   "execution_count": 205,
   "metadata": {},
   "outputs": [],
   "source": [
    "X_test = X_test.reshape((X_test.shape[0], 2, 2))"
   ]
  },
  {
   "cell_type": "code",
   "execution_count": 206,
   "metadata": {},
   "outputs": [
    {
     "name": "stdout",
     "output_type": "stream",
     "text": [
      "\u001b[1m1/1\u001b[0m \u001b[32m━━━━━━━━━━━━━━━━━━━━\u001b[0m\u001b[37m\u001b[0m \u001b[1m0s\u001b[0m 79ms/step\n"
     ]
    }
   ],
   "source": [
    "y_pred = model.predict(X_test)"
   ]
  },
  {
   "cell_type": "code",
   "execution_count": 207,
   "metadata": {},
   "outputs": [
    {
     "name": "stdout",
     "output_type": "stream",
     "text": [
      "Test RMSE: 96429.781\n"
     ]
    },
    {
     "data": {
      "image/png": "[encoded data removed]",
      "text/plain": [
       "<Figure size 1400x700 with 1 Axes>"
      ]
     },
     "metadata": {},
     "output_type": "display_data"
    }
   ],
   "source": [
    "#rmse\n",
    "from sklearn.metrics import mean_squared_error\n",
    "from math import sqrt\n",
    "rmse = sqrt(mean_squared_error(y_test, y_pred))\n",
    "print('Test RMSE: %.3f' % rmse)\n",
    "\n",
    "# Plot the results\n",
    "plt.figure(figsize=(14, 7))\n",
    "plt.plot(y_test.index, y_test, label='True values')\n",
    "plt.plot(y_test.index, y_pred, label='Predictions')\n",
    "plt.title(f'Forecasting with LSTM (RMSE={rmse:.3f})')\n",
    "plt.legend()\n",
    "plt.show()\n"
   ]
  },
  {
   "cell_type": "code",
   "execution_count": 208,
   "metadata": {},
   "outputs": [
    {
     "data": {
      "image/png": "[encoded data removed]",
      "text/plain": [
       "<Figure size 640x480 with 1 Axes>"
      ]
     },
     "metadata": {},
     "output_type": "display_data"
    }
   ],
   "source": [
    "import matplotlib.pyplot as plt\n",
    "\n",
    "# Plot training loss\n",
    "plt.plot(history.history['loss'], label='Training Loss')\n",
    "plt.plot(history.history['val_loss'], label='Validation Loss')\n",
    "plt.legend()\n",
    "plt.show()"
   ]
  },
  {
   "cell_type": "code",
   "execution_count": null,
   "metadata": {},
   "outputs": [],
   "source": []
  }
 ],
 "metadata": {
  "kernelspec": {
   "display_name": "Bio-210",
   "language": "python",
   "name": "python3"
  },
  "language_info": {
   "codemirror_mode": {
    "name": "ipython",
    "version": 3
   },
   "file_extension": ".py",
   "mimetype": "text/x-python",
   "name": "python",
   "nbconvert_exporter": "python",
   "pygments_lexer": "ipython3",
   "version": "3.12.0"
  }
 },
 "nbformat": 4,
 "nbformat_minor": 2
}
